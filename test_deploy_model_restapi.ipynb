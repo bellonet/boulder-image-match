{
 "cells": [
  {
   "cell_type": "markdown",
   "id": "e921d6cf",
   "metadata": {},
   "source": [
    "In this notebook I test deploying my tflite trained models as a REST API.  \n",
    "\n",
    "Source:  \n",
    "https://www.kdnuggets.com/2021/04/deploy-machine-learning-models-to-web.html\n",
    "\n",
    "Conda env `tf2_gpu_berta_api`"
   ]
  },
  {
   "cell_type": "markdown",
   "id": "3bb8ba39",
   "metadata": {},
   "source": [
    "#### create a REST API using FAST API"
   ]
  },
  {
   "cell_type": "markdown",
   "id": "26a44c52",
   "metadata": {},
   "source": [
    "##### Create an `app.py` file:\n",
    "```\n",
    "import numpy as np\n",
    "from fastapi import FastAPI, Form, File, UploadFile\n",
    "import pandas as pd\n",
    "from starlette.responses import HTMLResponse\n",
    "from tensorflow.keras.preprocessing.text import Tokenizer\n",
    "from tensorflow.keras.preprocessing.sequence import pad_sequences\n",
    "import tensorflow as tf\n",
    "import re\n",
    "\n",
    "### Create an input form so that the \"users\" could input data\n",
    "### In this case should be an image\n",
    "\n",
    "app = FastAPI()\n",
    "\n",
    "@app.get('/predict', response_class=HTMLResponse)\n",
    "def take_inp():\n",
    "    return '''\n",
    "        <form method=\"post\">\n",
    "        <input type=\"file\" id=\"file\" placeholder=\"upload a file\" name=\"file\" />\n",
    "        <input type=\"submit\" />'''\n",
    "        \n",
    "        \n",
    "@app.post('/predict')\n",
    "def predict(file:UploadFile = File(...)):\n",
    "\n",
    "    interpreter = tf.lite.Interpreter(model_path='model4.tflite')\n",
    "    interpreter.allocate_tensors()\n",
    "    \n",
    "    # Load the input shape required by the model\n",
    "    _, input_height, input_width, _ = interpreter.get_input_details()[0]['shape']\n",
    "    \n",
    "    # Load the input image and preprocess it\n",
    "    preprocessed_image, original_image = preprocess_image(image_path,(input_height, input_width))\n",
    "    \n",
    "    img = tf.io.decode_image(file, channels=3)\n",
    "    img = tf.image.convert_image_dtype(img, tf.uint8)\n",
    "    original_image = img\n",
    "    resized_img = tf.image.resize(img, input_size)\n",
    "    resized_img = resized_img[tf.newaxis, :]\n",
    "    resized_img = tf.cast(resized_img, dtype=tf.uint8)\n",
    "\n",
    "    # predict:\n",
    "    signature_fn = interpreter.get_signature_runner()\n",
    "\n",
    "    # Feed the input image to the model\n",
    "    output = signature_fn(images=image)\n",
    "    \n",
    "    boxes = np.squeeze(output['output_3'])\n",
    "    \n",
    "    return boxes\n",
    "    \n",
    "```"
   ]
  },
  {
   "cell_type": "code",
   "execution_count": null,
   "id": "d39d21f1",
   "metadata": {},
   "outputs": [
    {
     "name": "stdout",
     "output_type": "stream",
     "text": [
      "\u001b[32mINFO\u001b[0m:     Will watch for changes in these directories: ['/home/ella/Desktop/berta_match_routes']\n",
      "\u001b[32mINFO\u001b[0m:     Uvicorn running on \u001b[1mhttp://127.0.0.1:8000\u001b[0m (Press CTRL+C to quit)\n",
      "\u001b[32mINFO\u001b[0m:     Started reloader process [\u001b[36m\u001b[1m27714\u001b[0m] using \u001b[36m\u001b[1mStatReload\u001b[0m\n",
      "2022-09-22 00:53:30.527565: W tensorflow/stream_executor/platform/default/dso_loader.cc:64] Could not load dynamic library 'libcudart.so.11.0'; dlerror: libcudart.so.11.0: cannot open shared object file: No such file or directory\n",
      "2022-09-22 00:53:30.527618: I tensorflow/stream_executor/cuda/cudart_stub.cc:29] Ignore above cudart dlerror if you do not have a GPU set up on your machine.\n",
      "\u001b[32mINFO\u001b[0m:     Started server process [\u001b[36m27716\u001b[0m]\n",
      "\u001b[32mINFO\u001b[0m:     Waiting for application startup.\n",
      "\u001b[32mINFO\u001b[0m:     Application startup complete.\n",
      "\u001b[32mINFO\u001b[0m:     127.0.0.1:37612 - \"\u001b[1mGET /predict HTTP/1.1\u001b[0m\" \u001b[32m200 OK\u001b[0m\n",
      "\u001b[32mINFO\u001b[0m:     127.0.0.1:47026 - \"\u001b[1mPOST /predict HTTP/1.1\u001b[0m\" \u001b[31m422 Unprocessable Entity\u001b[0m\n"
     ]
    }
   ],
   "source": [
    "!uvicorn app:app --reload"
   ]
  },
  {
   "cell_type": "code",
   "execution_count": null,
   "id": "a952ae3e",
   "metadata": {},
   "outputs": [],
   "source": []
  }
 ],
 "metadata": {
  "kernelspec": {
   "display_name": "Python 3 (ipykernel)",
   "language": "python",
   "name": "python3"
  },
  "language_info": {
   "codemirror_mode": {
    "name": "ipython",
    "version": 3
   },
   "file_extension": ".py",
   "mimetype": "text/x-python",
   "name": "python",
   "nbconvert_exporter": "python",
   "pygments_lexer": "ipython3",
   "version": "3.9.12"
  }
 },
 "nbformat": 4,
 "nbformat_minor": 5
}
