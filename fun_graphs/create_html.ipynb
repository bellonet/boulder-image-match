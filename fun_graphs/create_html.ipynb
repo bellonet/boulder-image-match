{
 "cells": [
  {
   "cell_type": "code",
   "execution_count": 1,
   "id": "7a0c5fb3",
   "metadata": {},
   "outputs": [],
   "source": [
    "import os\n",
    "import time\n",
    "from glob import glob\n",
    "import pandas as pd"
   ]
  },
  {
   "cell_type": "code",
   "execution_count": 2,
   "id": "23ebe593",
   "metadata": {},
   "outputs": [],
   "source": [
    "path = '../../graphs_site'\n",
    "date = '220923'"
   ]
  },
  {
   "cell_type": "code",
   "execution_count": 3,
   "id": "8dc185ca",
   "metadata": {},
   "outputs": [],
   "source": [
    "date_formatted = f'{date[-2:]}/{date[2:4]}/{date[:2]}'"
   ]
  },
  {
   "cell_type": "markdown",
   "id": "637a0015",
   "metadata": {},
   "source": [
    "### Create index.html"
   ]
  },
  {
   "cell_type": "code",
   "execution_count": 4,
   "id": "213245ae",
   "metadata": {},
   "outputs": [],
   "source": [
    "sections = sorted(pd.read_csv(f'{date}_all_routes.csv')[\"section\"].unique().tolist())\n",
    "sections_formatted = [s.lower().replace(\" \",\"\").replace(\"'\",\"\") for s in sections]"
   ]
  },
  {
   "cell_type": "code",
   "execution_count": 5,
   "id": "27458abf",
   "metadata": {},
   "outputs": [],
   "source": [
    "# ## Needed to run only once - to create the template itself with the sections dropdown\n",
    "\n",
    "# with open(os.path.join(path,f'index_template.html'),'r') as f:\n",
    "#     html_index = f.read()\n",
    "    \n",
    "# filler = ''\n",
    "# for i,s in enumerate(sections):\n",
    "#     filler+= f'<li><a class=\"dropdown-item\" href=\"{sections_formatted[i]}.html\">{s}</a></li>'\n",
    "#     #filler+= f'<a class=\"dropdown-item\" href=\"{sections_formatted[i]}.html\">{s}</a>'\n",
    "\n",
    "# html_index = html_index.replace('filler_sections',filler)\n",
    "\n",
    "# with open(os.path.join(path,f'index_template.html'), 'w') as f:\n",
    "#     f.write(html_index)   "
   ]
  },
  {
   "cell_type": "code",
   "execution_count": 29,
   "id": "fcc5a90b",
   "metadata": {},
   "outputs": [],
   "source": [
    "with open(os.path.join(path,'index_template.html'),'r') as f:\n",
    "    html_index = f.read()"
   ]
  },
  {
   "cell_type": "code",
   "execution_count": 30,
   "id": "d200d942",
   "metadata": {},
   "outputs": [],
   "source": [
    "html_index = html_index.replace('filler_date', date_formatted)\n",
    "\n",
    "with open(f'{date}_nRoutes_per_grade.html', 'r') as f:\n",
    "    html_index = html_index.replace('filler_nRoutes_per_grade', f.read())\n",
    "    \n",
    "with open(f'{date}_mean_nsends_per_grade.html', 'r') as f:\n",
    "    html_index = html_index.replace('filler_mean_nSends_per_grade', f.read())\n",
    "    \n",
    "with open(f'{date}_total_nsends_per_grade.html', 'r') as f:\n",
    "    html_index = html_index.replace('filler_total_nSends_per_grade', f.read())\n",
    "    \n",
    "with open(f'{date}_holdType_per_grade.html', 'r') as f:\n",
    "    html_index = html_index.replace('filler_holdType_per_grade', f.read())\n",
    "\n",
    "with open(f'{date}_holdType_per_grade_normalized.html', 'r') as f:\n",
    "    filler = f.read()\n",
    "    filler += '<p>* Can add up to more than 100% as routes can have more than one type of hold.</p>'\n",
    "html_index = html_index.replace('filler_normalized_holdType_per_grade', filler)\n",
    "    \n",
    "with open(f'{date}_style_per_grade.html', 'r') as f:\n",
    "    html_index = html_index.replace('filler_style_per_grade', f.read())\n",
    "\n",
    "with open(f'{date}_style_per_grade_normalized.html', 'r') as f:\n",
    "    filler = f.read()\n",
    "    filler += '<p>* Can add up to more than 100% as routes can have more than one style.</p>'\n",
    "html_index = html_index.replace('filler_normalized_style_per_grade', filler)\n",
    "\n",
    "time.sleep(1)"
   ]
  },
  {
   "cell_type": "code",
   "execution_count": 31,
   "id": "c2619b97",
   "metadata": {},
   "outputs": [],
   "source": [
    "with open(os.path.join(path,'index.html'), 'w') as f:\n",
    "    f.write(html_index)"
   ]
  },
  {
   "cell_type": "markdown",
   "id": "6a97568a",
   "metadata": {},
   "source": [
    "### Create grade summary page"
   ]
  },
  {
   "cell_type": "code",
   "execution_count": 52,
   "id": "533e5a87",
   "metadata": {},
   "outputs": [],
   "source": [
    "levels = ['6A','6A+','6B','6B+','6C','6C+','7A','7A+']"
   ]
  },
  {
   "cell_type": "code",
   "execution_count": 53,
   "id": "81ed5679",
   "metadata": {},
   "outputs": [],
   "source": [
    "with open(os.path.join(path,'grade_summary_template.html'),'r') as f:\n",
    "    html_grades = f.read()"
   ]
  },
  {
   "cell_type": "code",
   "execution_count": 54,
   "id": "b496545b",
   "metadata": {},
   "outputs": [],
   "source": [
    "html_grades = html_grades.replace('filler_date', date_formatted)\n",
    "\n",
    "## table:\n",
    "with open(f'{date}_height_summary_table.html', 'r') as f:\n",
    "    html_grades = html_grades.replace('filler_table_grade_height', f.read())\n",
    "\n",
    "## histograms:\n",
    "fill_str = ''\n",
    "with open(f'{date}_sendLevel_hist_around_route_grade_allGrades.html', 'r') as ff:\n",
    "    fill_str+= f'{ff.read()}'\n",
    "    \n",
    "with open(f'{date}_sendLevel_hist_around_route_grade_allGrades_curves.html', 'r') as ff:\n",
    "    fill_str+= f'{ff.read()}'\n",
    "\n",
    "for g in levels:\n",
    "    with open(f'{date}_sendLevel_hist_around_route_grade_{g}.html', 'r') as ff:\n",
    "        fill_str+= f'{ff.read()}'\n",
    "\n",
    "html_grades = html_grades.replace('filler_histograms', fill_str)\n",
    "\n",
    "## heatmaps\n",
    "for g in levels:\n",
    "    with open(f'{date}_heatmap_xLevel_yHeight_hovAttempts_{g}.html', 'r') as f:\n",
    "        html_grades = html_grades.replace(f'filler_{g}_summary', f.read())\n",
    "    "
   ]
  },
  {
   "cell_type": "code",
   "execution_count": 55,
   "id": "7b80209d",
   "metadata": {},
   "outputs": [],
   "source": [
    "with open(os.path.join(path,'grade_summary.html'), 'w') as f:\n",
    "    f.write(html_grades)"
   ]
  },
  {
   "cell_type": "markdown",
   "id": "96a6157d",
   "metadata": {},
   "source": [
    "### Create section pages"
   ]
  },
  {
   "cell_type": "code",
   "execution_count": 62,
   "id": "4aa2a468",
   "metadata": {},
   "outputs": [],
   "source": [
    "plot_types = ['_heatmap_xLevel_yHeight_hovAttempts_',\n",
    "              '_xAttempts_yHeight_hueLevel_',\n",
    "             '_xLevels_yHeight_hueAtt_']"
   ]
  },
  {
   "cell_type": "code",
   "execution_count": 63,
   "id": "139bd42d",
   "metadata": {},
   "outputs": [],
   "source": [
    "all_files = [[sorted(glob(f'{date}{p_t}{s}_*.html')) for p_t in plot_types] for s in sections_formatted]"
   ]
  },
  {
   "cell_type": "code",
   "execution_count": 64,
   "id": "df544c7f",
   "metadata": {},
   "outputs": [],
   "source": [
    "for i,s in enumerate(sections_formatted):\n",
    "    with open(os.path.join(path,f'section_template.html'),'r') as f:\n",
    "        html_section = f.read()\n",
    "        \n",
    "    html_section = html_section.replace('filler_date', date_formatted)\n",
    "    html_section = html_section.replace('filler_section_name', sections[i])\n",
    "    \n",
    "    fill_str = ''\n",
    "    \n",
    "    for j in range(len(all_files[i][0])):\n",
    "        fill_str += '<div class=\"row\">'\n",
    "        for k,p_t in enumerate(plot_types):\n",
    "            with open(f'{date}{p_t}{s}_{j:02d}.html', 'r') as ff:\n",
    "                fill_str+= f'<div class=\"col-sm\">{ff.read()}</div>'\n",
    "        fill_str+= '</div>'\n",
    "    \n",
    "    html_section = html_section.replace('filler_routes_graphs', fill_str)\n",
    "    \n",
    "    with open(os.path.join(path,f'{s}.html'), 'w') as f:\n",
    "        f.write(html_section)\n",
    "    "
   ]
  },
  {
   "cell_type": "markdown",
   "id": "e1df7434",
   "metadata": {},
   "source": [
    "### Create individual routes normed heat map page"
   ]
  },
  {
   "cell_type": "code",
   "execution_count": 100,
   "id": "2dc4b218",
   "metadata": {},
   "outputs": [],
   "source": [
    "levels = ['6A','6A+','6B','6B+','6C','6C+','7A','7A+']\n",
    "\n",
    "all_files = [sorted(glob(f'{date}_heatmap_normed_xLevel_yHeight_hovAttempts_{l}_*.html')) for l in levels]\n"
   ]
  },
  {
   "cell_type": "code",
   "execution_count": 102,
   "id": "a05ffcf5",
   "metadata": {},
   "outputs": [],
   "source": [
    "with open(os.path.join(path,f'individual_routes_normed_template.html'),'r') as f:\n",
    "    html_indiv_routes_normed = f.read()\n",
    "    \n",
    "html_indiv_routes_normed = html_indiv_routes_normed.replace('filler_date', date_formatted)\n",
    "\n",
    "fill_str = ''\n",
    "\n",
    "for j in range(len(all_files)):\n",
    "\n",
    "    ## add the grade summary heat map\n",
    "    fill_str += '<div class=\"row\">'\n",
    "    fill_str += f'<h4>All heat maps {levels[j]}</h4>'\n",
    "    with open(f'{date}_heatmapT_xLevel_yHeight_hovAttempts_{levels[j]}.html', 'r') as f:\n",
    "        temp = f.read()\n",
    "\n",
    "    fill_str+= temp.replace('style=\"height', 'style=\"margin:auto;height')\n",
    "    fill_str+= '</div>'\n",
    "\n",
    "    fill_str += '<div class=\"row\">'\n",
    "    ii=0\n",
    "    while ii<len(all_files[j]):\n",
    "        with open(all_files[j][ii], 'r') as ff:\n",
    "            fill_str+= f'<div class=\"col-sm\">{ff.read()}</div>'\n",
    "        ii+=1\n",
    "    fill_str+= '</div>'\n",
    "    fill_str+= '<br/><br/>'\n",
    "\n",
    "html_indiv_routes_normed = html_indiv_routes_normed.replace('filler_routes_graphs', fill_str)\n",
    "\n",
    "with open(os.path.join(path,f'individual_routes_normed.html'), 'w') as f:\n",
    "    f.write(html_indiv_routes_normed)"
   ]
  },
  {
   "cell_type": "code",
   "execution_count": null,
   "id": "10f6ae53",
   "metadata": {},
   "outputs": [],
   "source": []
  }
 ],
 "metadata": {
  "kernelspec": {
   "display_name": "Python 3 (ipykernel)",
   "language": "python",
   "name": "python3"
  },
  "language_info": {
   "codemirror_mode": {
    "name": "ipython",
    "version": 3
   },
   "file_extension": ".py",
   "mimetype": "text/x-python",
   "name": "python",
   "nbconvert_exporter": "python",
   "pygments_lexer": "ipython3",
   "version": "3.9.13"
  }
 },
 "nbformat": 4,
 "nbformat_minor": 5
}
