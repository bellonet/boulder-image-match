{
 "cells": [
  {
   "cell_type": "code",
   "execution_count": 1,
   "id": "7a0c5fb3",
   "metadata": {},
   "outputs": [],
   "source": [
    "import os\n",
    "import time\n",
    "from glob import glob\n",
    "import pandas as pd"
   ]
  },
  {
   "cell_type": "code",
   "execution_count": 2,
   "id": "23ebe593",
   "metadata": {},
   "outputs": [],
   "source": [
    "path = '../../graphs_site'\n",
    "path = '../../test'\n",
    "date = '220923'"
   ]
  },
  {
   "cell_type": "code",
   "execution_count": 3,
   "id": "8dc185ca",
   "metadata": {},
   "outputs": [],
   "source": [
    "date_formatted = f'{date[-2:]}/{date[2:4]}/{date[:2]}'"
   ]
  },
  {
   "cell_type": "markdown",
   "id": "637a0015",
   "metadata": {},
   "source": [
    "### Create index.html"
   ]
  },
  {
   "cell_type": "code",
   "execution_count": 4,
   "id": "213245ae",
   "metadata": {},
   "outputs": [],
   "source": [
    "sections = sorted(pd.read_csv(f'{date}_all_routes.csv')[\"section\"].unique().tolist())\n",
    "sections_formatted = [s.lower().replace(\" \",\"\").replace(\"'\",\"\") for s in sections]"
   ]
  },
  {
   "cell_type": "code",
   "execution_count": 5,
   "id": "27458abf",
   "metadata": {},
   "outputs": [],
   "source": [
    "# ## Needed to run only once - to create the template itself with the sections dropdown\n",
    "\n",
    "# with open(os.path.join(path,f'index_template.html'),'r') as f:\n",
    "#     html_index = f.read()\n",
    "    \n",
    "# filler = ''\n",
    "# for i,s in enumerate(sections):\n",
    "#     filler+= f'<li><a class=\"dropdown-item\" href=\"{sections_formatted[i]}.html\">{s}</a></li>'\n",
    "#     #filler+= f'<a class=\"dropdown-item\" href=\"{sections_formatted[i]}.html\">{s}</a>'\n",
    "\n",
    "# html_index = html_index.replace('filler_sections',filler)\n",
    "\n",
    "# with open(os.path.join(path,f'index_template.html'), 'w') as f:\n",
    "#     f.write(html_index)   "
   ]
  },
  {
   "cell_type": "code",
   "execution_count": 6,
   "id": "fcc5a90b",
   "metadata": {},
   "outputs": [],
   "source": [
    "with open(os.path.join(path,'index_template.html'),'r') as f:\n",
    "    html_index = f.read()"
   ]
  },
  {
   "cell_type": "code",
   "execution_count": 7,
   "id": "d200d942",
   "metadata": {},
   "outputs": [],
   "source": [
    "html_index = html_index.replace('filler_date', date_formatted)\n",
    "\n",
    "with open(f'{date}_nRoutes_per_grade.html', 'r') as f:\n",
    "    html_index = html_index.replace('filler_nRoutes_per_grade', f.read())\n",
    "    \n",
    "with open(f'{date}_mean_nsends_per_grade.html', 'r') as f:\n",
    "    html_index = html_index.replace('filler_mean_nSends_per_grade', f.read())\n",
    "    \n",
    "with open(f'{date}_total_nsends_per_grade.html', 'r') as f:\n",
    "    html_index = html_index.replace('filler_total_nSends_per_grade', f.read())\n",
    "    \n",
    "with open(f'{date}_holdType_per_grade.html', 'r') as f:\n",
    "    html_index = html_index.replace('filler_holdType_per_grade', f.read())\n",
    "\n",
    "with open(f'{date}_holdType_per_grade_normalized.html', 'r') as f:\n",
    "    html_index = html_index.replace('filler_normalized_holdType_per_grade', f.read())\n",
    "    \n",
    "with open(f'{date}_style_per_grade.html', 'r') as f:\n",
    "    html_index = html_index.replace('filler_style_per_grade', f.read())\n",
    "\n",
    "with open(f'{date}_style_per_grade_normalized.html', 'r') as f:\n",
    "    html_index = html_index.replace('filler_normalized_style_per_grade', f.read())\n",
    "time.sleep(3)"
   ]
  },
  {
   "cell_type": "code",
   "execution_count": 8,
   "id": "c2619b97",
   "metadata": {},
   "outputs": [],
   "source": [
    "with open(os.path.join(path,'index.html'), 'w') as f:\n",
    "    f.write(html_index)"
   ]
  },
  {
   "cell_type": "markdown",
   "id": "6a97568a",
   "metadata": {},
   "source": [
    "### Create grade summary page"
   ]
  },
  {
   "cell_type": "code",
   "execution_count": 9,
   "id": "81ed5679",
   "metadata": {},
   "outputs": [],
   "source": [
    "with open(os.path.join(path,'grade_summary_template.html'),'r') as f:\n",
    "    html_grades = f.read()"
   ]
  },
  {
   "cell_type": "code",
   "execution_count": 10,
   "id": "b496545b",
   "metadata": {},
   "outputs": [],
   "source": [
    "html_grades = html_grades.replace('filler_date', date_formatted)\n",
    "\n",
    "with open(f'{date}_height_summary_table.html', 'r') as f:\n",
    "    html_grades = html_grades.replace('filler_table_grade_height', f.read())\n",
    "    \n",
    "for g in ['6A','6A+','6B','6B+','6C','6C+','7A','7A+']:\n",
    "    with open(f'{date}_heatmap_xLevel_yHeight_hovAttempts_{g}.html', 'r') as f:\n",
    "        html_grades = html_grades.replace(f'filler_{g}_summary', f.read())\n",
    "    "
   ]
  },
  {
   "cell_type": "code",
   "execution_count": 11,
   "id": "7b80209d",
   "metadata": {},
   "outputs": [],
   "source": [
    "with open(os.path.join(path,'grade_summary.html'), 'w') as f:\n",
    "    f.write(html_grades)"
   ]
  },
  {
   "cell_type": "markdown",
   "id": "96a6157d",
   "metadata": {},
   "source": [
    "### Create section pages"
   ]
  },
  {
   "cell_type": "code",
   "execution_count": 27,
   "id": "4aa2a468",
   "metadata": {},
   "outputs": [],
   "source": [
    "plot_types = ['_heatmap_xLevel_yHeight_hovAttempts_',\n",
    "              '_xAttempts_yHeight_hueLevel_',\n",
    "             '_xLevels_yHeight_hueAtt_']"
   ]
  },
  {
   "cell_type": "code",
   "execution_count": 28,
   "id": "139bd42d",
   "metadata": {},
   "outputs": [],
   "source": [
    "all_files = [[sorted(glob(f'{date}{p_t}{s}_*.html')) for p_t in plot_types] for s in sections_formatted]"
   ]
  },
  {
   "cell_type": "code",
   "execution_count": 29,
   "id": "df544c7f",
   "metadata": {},
   "outputs": [],
   "source": [
    "for i,s in enumerate(sections_formatted):\n",
    "    with open(os.path.join(path,f'section_template.html'),'r') as f:\n",
    "        html_section = f.read()\n",
    "        \n",
    "    html_section = html_section.replace('filler_date', date_formatted)\n",
    "    html_section = html_section.replace('filler_section_name', sections[i])\n",
    "    \n",
    "    fill_str = ''\n",
    "    \n",
    "    for j in range(len(all_files[i][0])):\n",
    "        fill_str += '<div class=\"row\">'\n",
    "        for k,p_t in enumerate(plot_types):\n",
    "            with open(f'{date}{p_t}{s}_{j:02d}.html', 'r') as ff:\n",
    "                fill_str+= f'<div class=\"col-sm\">{ff.read()}</div>'\n",
    "        fill_str+= '</div>'\n",
    "    \n",
    "    html_section = html_section.replace('filler_routes_graphs', fill_str)\n",
    "    \n",
    "    with open(os.path.join(path,f'{s}.html'), 'w') as f:\n",
    "        f.write(html_section)\n",
    "    "
   ]
  },
  {
   "cell_type": "code",
   "execution_count": null,
   "id": "48eb3b97",
   "metadata": {},
   "outputs": [],
   "source": []
  },
  {
   "cell_type": "code",
   "execution_count": null,
   "id": "2dc4b218",
   "metadata": {},
   "outputs": [],
   "source": []
  },
  {
   "cell_type": "code",
   "execution_count": null,
   "id": "bcd482ec",
   "metadata": {},
   "outputs": [],
   "source": []
  }
 ],
 "metadata": {
  "kernelspec": {
   "display_name": "Python 3 (ipykernel)",
   "language": "python",
   "name": "python3"
  },
  "language_info": {
   "codemirror_mode": {
    "name": "ipython",
    "version": 3
   },
   "file_extension": ".py",
   "mimetype": "text/x-python",
   "name": "python",
   "nbconvert_exporter": "python",
   "pygments_lexer": "ipython3",
   "version": "3.9.13"
  }
 },
 "nbformat": 4,
 "nbformat_minor": 5
}
