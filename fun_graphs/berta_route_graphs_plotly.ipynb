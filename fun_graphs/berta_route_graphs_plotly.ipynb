{
 "cells": [
  {
   "cell_type": "markdown",
   "id": "1def7d3c",
   "metadata": {},
   "source": [
    "This notebook makes the plotly graphs for Berta Block routes based on Beta7 data.\n",
    "1. General info about the routes - count, mean #senders, holdtype, style..\n",
    "2. Information about the climbers of each route - height, grade, #attemps."
   ]
  },
  {
   "cell_type": "code",
   "execution_count": 1,
   "id": "ab134841",
   "metadata": {},
   "outputs": [],
   "source": [
    "from bs4 import BeautifulSoup\n",
    "import requests\n",
    "\n",
    "from selenium import webdriver\n",
    "from selenium.webdriver.common.keys import Keys\n",
    "from time import sleep\n",
    "\n",
    "import seaborn as sns\n",
    "import collections\n",
    "\n",
    "import pandas as pd\n",
    "import numpy as np\n",
    "import os\n",
    "    \n",
    "#from scipy.ndimage import gaussian_filter\n",
    "import plotly.express as px\n",
    "import plotly.graph_objects as go\n",
    "import plotly.figure_factory as ff\n",
    "\n",
    "import plotly\n",
    "\n",
    "# %matplotlib inline\n",
    "# sns.set_style(\"whitegrid\")\n",
    "# plt.style.use('seaborn-poster')"
   ]
  },
  {
   "cell_type": "code",
   "execution_count": 2,
   "id": "eb3137c3",
   "metadata": {},
   "outputs": [],
   "source": [
    "base_url = 'https://beta7.app/'"
   ]
  },
  {
   "cell_type": "code",
   "execution_count": 3,
   "id": "3b6ca105",
   "metadata": {},
   "outputs": [],
   "source": [
    "grade_colors = collections.OrderedDict()\n",
    "\n",
    "grade_colors['3'] = '#ffff80'\n",
    "grade_colors['4'] = '#fcff33'\n",
    "grade_colors['5'] = '#8fff94'\n",
    "grade_colors['5+'] = '#006432'\n",
    "grade_colors['5C'] = '#037d50'\n",
    "grade_colors['6A'] = '#9df7f2'\n",
    "grade_colors['6A+'] = '#1cacb2'\n",
    "grade_colors['6B'] = '#207ea7'\n",
    "grade_colors['6B+'] = '#b58de8'\n",
    "grade_colors['6C'] = '#9a57a2'\n",
    "grade_colors['6C+'] = '#9a23a8'\n",
    "grade_colors['7A'] = '#909090'\n",
    "grade_colors['7A+'] = '#616161'\n",
    "grade_colors['7B'] = '#424141'\n",
    "grade_colors['7B+'] = '#303030'\n",
    "grade_colors['7C'] = '#000000'\n",
    "grade_colors['7C+'] = '#000000'\n",
    "grade_colors['8A'] = '#000000'\n",
    "\n",
    "#grade_color_list = list(grade_colors.values())\n",
    "\n",
    "# ### Beta7 grade colors - hard to distinguish:\n",
    "# grade_colors['4'] = '#e8da00'\n",
    "# grade_colors['5'] = '#00a476'\n",
    "# grade_colors['6A'] = '#199a92'\n",
    "# grade_colors['6A+'] = '#008db2'\n",
    "# grade_colors['6B'] = '#1684ae'\n",
    "# grade_colors['6B+'] = '#6d5e9c'\n",
    "# grade_colors['6C'] = '#835498'\n",
    "# grade_colors['6C+'] = '#914e95'\n",
    "# grade_colors['7A'] = '#453152'\n",
    "# grade_colors['7A+'] = '#382a44'\n",
    "# grade_colors['7B'] = '#282132'\n",
    "# grade_colors['7B+'] = '#12151a'\n",
    "# grade_colors['7C'] = '#36101f'"
   ]
  },
  {
   "cell_type": "markdown",
   "id": "efbc6f3f",
   "metadata": {},
   "source": [
    "#### Selenium - get all routes"
   ]
  },
  {
   "cell_type": "code",
   "execution_count": 4,
   "id": "93584e4b",
   "metadata": {},
   "outputs": [],
   "source": [
    "# driver = webdriver.Firefox()\n",
    "\n",
    "# # Go to routes page:\n",
    "# driver.get(base_url + \"location/bertablock/routes\")\n",
    "# sleep(3)\n",
    "\n",
    "# # load more than 16 routes:\n",
    "# driver.find_element(\"xpath\", \"//span[.='load more']\").click()\n",
    "# sleep(4)\n",
    "\n",
    "# # scrall down:\n",
    "# for i in range(60):\n",
    "#     driver.execute_script(\"window.scrollTo(0, 50000)\") \n",
    "#     sleep(0.5)"
   ]
  },
  {
   "cell_type": "code",
   "execution_count": 5,
   "id": "83d198f9",
   "metadata": {},
   "outputs": [],
   "source": [
    "# # get the entire html of the routes page\n",
    "# html = driver.page_source\n",
    "# # close the driver \n",
    "# driver.close()"
   ]
  },
  {
   "cell_type": "code",
   "execution_count": 6,
   "id": "334e7948",
   "metadata": {},
   "outputs": [],
   "source": [
    "# # format the html to soup\n",
    "# soup = BeautifulSoup(html, 'html.parser')"
   ]
  },
  {
   "cell_type": "markdown",
   "id": "5fcd6af8",
   "metadata": {},
   "source": [
    "#### Create all routes df:\n",
    "Number of sends might be different here and in route link below (as people might send in the meanwhile)"
   ]
  },
  {
   "cell_type": "code",
   "execution_count": 7,
   "id": "97273571",
   "metadata": {},
   "outputs": [],
   "source": [
    "# all_routes_soup = soup.find_all('div', {'class':'route-container'})\n",
    "# n_routes = len(all_routes_soup)\n",
    "# n_routes"
   ]
  },
  {
   "cell_type": "code",
   "execution_count": 8,
   "id": "720d8a96",
   "metadata": {},
   "outputs": [],
   "source": [
    "# routes_section = []\n",
    "# routes_color = []\n",
    "# routes_name = []\n",
    "# routes_grade = []\n",
    "# routes_grade_gym = []\n",
    "# routes_holdtypes = []\n",
    "# routes_style = []\n",
    "# routes_time = []\n",
    "# routes_nclimbs = []\n",
    "\n",
    "# # Get routes link:\n",
    "# routes_hrefs = [a['href'] for a in soup.find_all('a', href=True) if 'route/' in a['href']]\n",
    "# if len(routes_hrefs)!=n_routes:\n",
    "#     print('mismatch in #route links to #links')\n",
    "\n",
    "# for r_soup in all_routes_soup:\n",
    "#     routes_section.append(r_soup.find('span', {'class':\"additional-location-information\"}).text)\n",
    "#     routes_color.append(r_soup.find_all('span', {'class':\"color\"})[-1].text)\n",
    "#     routes_holdtypes.append(r_soup.find('span', {'class':\"holdtypes\"}).text)\n",
    "#     routes_style.append([s.text.replace('\\u200d','') for s in r_soup.find_all('span', {'class':\"style\"})])\n",
    "#     routes_time.append(r_soup.find('time', {'class':\"hint\"}).text)\n",
    "\n",
    "#     name = r_soup.find('span', {'class':\"route-name\"})\n",
    "#     name = name.text if name else ''\n",
    "#     routes_name.append(name)\n",
    "    \n",
    "#     grade = r_soup.find('span', {'class':\"grades\"}).text.split('/')\n",
    "#     routes_grade.append(grade[0])\n",
    "#     routes_grade_gym.append(grade[1])\n",
    "    \n",
    "#     n_climbs = r_soup.find_all('span', {'class':\"climbs-count\"})\n",
    "#     ## \"climbs-count\" might be senders/beta requests/videos\n",
    "#     ## if isnumeric returns false than its the number of beta requests/videos.\n",
    "#     n_climbs = float(n_climbs[-1].text.rstrip()) if (\n",
    "#         n_climbs and n_climbs[-1].text.rstrip().isnumeric()) else float('nan')\n",
    "\n",
    "#     routes_nclimbs.append(n_climbs)\n",
    "\n",
    "    "
   ]
  },
  {
   "cell_type": "code",
   "execution_count": 9,
   "id": "9bfee78e",
   "metadata": {},
   "outputs": [],
   "source": [
    "# df_all_routes = pd.DataFrame({\n",
    "#     'section':routes_section,\n",
    "#     'grade':routes_grade,\n",
    "#     'grade_gym':routes_grade_gym,\n",
    "#     'color':routes_color,\n",
    "#     'name':routes_name,\n",
    "#     'holdtypes':routes_holdtypes,\n",
    "#     'styles':routes_style,\n",
    "#     'time':routes_time,\n",
    "#     'href':routes_hrefs,\n",
    "#     'nclimbs':routes_nclimbs,\n",
    "# })"
   ]
  },
  {
   "cell_type": "code",
   "execution_count": 10,
   "id": "c8033003",
   "metadata": {},
   "outputs": [],
   "source": [
    "date = '220923'"
   ]
  },
  {
   "cell_type": "code",
   "execution_count": 11,
   "id": "198c30b0",
   "metadata": {},
   "outputs": [],
   "source": [
    "# df_all_routes.to_csv('{date}_all_routes.csv')"
   ]
  },
  {
   "cell_type": "code",
   "execution_count": 12,
   "id": "57fb3c30",
   "metadata": {},
   "outputs": [],
   "source": [
    "df_all_routes = pd.read_csv(f'{date}_all_routes.csv', index_col=0)"
   ]
  },
  {
   "cell_type": "code",
   "execution_count": 13,
   "id": "ac3a310c",
   "metadata": {},
   "outputs": [],
   "source": [
    "holdtypes = [\"pockets\",\"jugs\",\"volumes\",\"pinches\",\"crimps\",\"slopers\"]\n",
    "\n",
    "for h in holdtypes:\n",
    "    df_all_routes[h] = df_all_routes.holdtypes.str.contains(h)\n"
   ]
  },
  {
   "cell_type": "code",
   "execution_count": 14,
   "id": "b75d14d4",
   "metadata": {},
   "outputs": [],
   "source": [
    "styles = {\"💎\":\"compression\",\n",
    "          \"🔬\":\"technique\",\n",
    "          \"💪\":\"strength\",\n",
    "          \"💣\":\"power\",\n",
    "          \"🤸\":\"fun\",\n",
    "          \"🧘\":\"balance\",\n",
    "          \"💢\":\"corner\",\n",
    "          \"💃\":\"footwork\",\n",
    "          \"🤹\":\"coordination\",\n",
    "          \"🚪\":\"arete\",\n",
    "          \"🏄\":\"mantle\",\n",
    "          \"🚀\":\"dyno\",\n",
    "          \"🔥\":\"endurance\"\n",
    "         }\n",
    "\n",
    "for key,val in styles.items():\n",
    "    df_all_routes[val] = df_all_routes.apply(lambda x: key in x['styles'], axis=1)\n",
    "\n"
   ]
  },
  {
   "cell_type": "code",
   "execution_count": 15,
   "id": "c97b44ab",
   "metadata": {},
   "outputs": [],
   "source": [
    "df_all_routes = df_all_routes.sort_values(by=[\"grade\"])"
   ]
  },
  {
   "cell_type": "code",
   "execution_count": 16,
   "id": "a2b06e08",
   "metadata": {},
   "outputs": [
    {
     "data": {
      "text/html": [
       "<div>\n",
       "<style scoped>\n",
       "    .dataframe tbody tr th:only-of-type {\n",
       "        vertical-align: middle;\n",
       "    }\n",
       "\n",
       "    .dataframe tbody tr th {\n",
       "        vertical-align: top;\n",
       "    }\n",
       "\n",
       "    .dataframe thead th {\n",
       "        text-align: right;\n",
       "    }\n",
       "</style>\n",
       "<table border=\"1\" class=\"dataframe\">\n",
       "  <thead>\n",
       "    <tr style=\"text-align: right;\">\n",
       "      <th></th>\n",
       "      <th>section</th>\n",
       "      <th>grade</th>\n",
       "      <th>grade_gym</th>\n",
       "      <th>color</th>\n",
       "      <th>name</th>\n",
       "      <th>holdtypes</th>\n",
       "      <th>styles</th>\n",
       "      <th>time</th>\n",
       "      <th>href</th>\n",
       "      <th>nclimbs</th>\n",
       "      <th>...</th>\n",
       "      <th>power</th>\n",
       "      <th>fun</th>\n",
       "      <th>balance</th>\n",
       "      <th>corner</th>\n",
       "      <th>footwork</th>\n",
       "      <th>coordination</th>\n",
       "      <th>arete</th>\n",
       "      <th>mantle</th>\n",
       "      <th>dyno</th>\n",
       "      <th>endurance</th>\n",
       "    </tr>\n",
       "  </thead>\n",
       "  <tbody>\n",
       "    <tr>\n",
       "      <th>359</th>\n",
       "      <td>Tsunami</td>\n",
       "      <td>3</td>\n",
       "      <td>WEISS</td>\n",
       "      <td>violet</td>\n",
       "      <td>NaN</td>\n",
       "      <td>slopers</td>\n",
       "      <td>['🧘']</td>\n",
       "      <td>4 months ago</td>\n",
       "      <td>/route/jzquGG3GoYgvvQzFrKXnzvecLwm2~1653054177046</td>\n",
       "      <td>41.0</td>\n",
       "      <td>...</td>\n",
       "      <td>False</td>\n",
       "      <td>False</td>\n",
       "      <td>True</td>\n",
       "      <td>False</td>\n",
       "      <td>False</td>\n",
       "      <td>False</td>\n",
       "      <td>False</td>\n",
       "      <td>False</td>\n",
       "      <td>False</td>\n",
       "      <td>False</td>\n",
       "    </tr>\n",
       "    <tr>\n",
       "      <th>59</th>\n",
       "      <td>Ekcürb</td>\n",
       "      <td>3</td>\n",
       "      <td>WEISS</td>\n",
       "      <td>green</td>\n",
       "      <td>Grey's Anatomy</td>\n",
       "      <td>jugs</td>\n",
       "      <td>['🔬']</td>\n",
       "      <td>10 days ago</td>\n",
       "      <td>/route/UQGtEzKKf7NHJM6JGCdYL8LrkPl2~1663081586346</td>\n",
       "      <td>2.0</td>\n",
       "      <td>...</td>\n",
       "      <td>False</td>\n",
       "      <td>False</td>\n",
       "      <td>False</td>\n",
       "      <td>False</td>\n",
       "      <td>False</td>\n",
       "      <td>False</td>\n",
       "      <td>False</td>\n",
       "      <td>False</td>\n",
       "      <td>False</td>\n",
       "      <td>False</td>\n",
       "    </tr>\n",
       "    <tr>\n",
       "      <th>73</th>\n",
       "      <td>Paradies</td>\n",
       "      <td>3</td>\n",
       "      <td>WEISS</td>\n",
       "      <td>white</td>\n",
       "      <td>NaN</td>\n",
       "      <td>jugs</td>\n",
       "      <td>['🤸']</td>\n",
       "      <td>11 days ago</td>\n",
       "      <td>/route/jzquGG3GoYgvvQzFrKXnzvecLwm2~1662994468579</td>\n",
       "      <td>6.0</td>\n",
       "      <td>...</td>\n",
       "      <td>False</td>\n",
       "      <td>True</td>\n",
       "      <td>False</td>\n",
       "      <td>False</td>\n",
       "      <td>False</td>\n",
       "      <td>False</td>\n",
       "      <td>False</td>\n",
       "      <td>False</td>\n",
       "      <td>False</td>\n",
       "      <td>False</td>\n",
       "    </tr>\n",
       "    <tr>\n",
       "      <th>94</th>\n",
       "      <td>Submarino</td>\n",
       "      <td>3</td>\n",
       "      <td>WEISS</td>\n",
       "      <td>blue</td>\n",
       "      <td>NaN</td>\n",
       "      <td>jugs</td>\n",
       "      <td>['💪']</td>\n",
       "      <td>17 days ago</td>\n",
       "      <td>/route/jzquGG3GoYgvvQzFrKXnzvecLwm2~1662477059478</td>\n",
       "      <td>8.0</td>\n",
       "      <td>...</td>\n",
       "      <td>False</td>\n",
       "      <td>False</td>\n",
       "      <td>False</td>\n",
       "      <td>False</td>\n",
       "      <td>False</td>\n",
       "      <td>False</td>\n",
       "      <td>False</td>\n",
       "      <td>False</td>\n",
       "      <td>False</td>\n",
       "      <td>False</td>\n",
       "    </tr>\n",
       "    <tr>\n",
       "      <th>95</th>\n",
       "      <td>Enterprise</td>\n",
       "      <td>3</td>\n",
       "      <td>WEISS</td>\n",
       "      <td>cornflower</td>\n",
       "      <td>T-Rex Testpiece</td>\n",
       "      <td>jugs</td>\n",
       "      <td>['💪']</td>\n",
       "      <td>18 days ago</td>\n",
       "      <td>/route/UQGtEzKKf7NHJM6JGCdYL8LrkPl2~1662389956144</td>\n",
       "      <td>9.0</td>\n",
       "      <td>...</td>\n",
       "      <td>False</td>\n",
       "      <td>False</td>\n",
       "      <td>False</td>\n",
       "      <td>False</td>\n",
       "      <td>False</td>\n",
       "      <td>False</td>\n",
       "      <td>False</td>\n",
       "      <td>False</td>\n",
       "      <td>False</td>\n",
       "      <td>False</td>\n",
       "    </tr>\n",
       "  </tbody>\n",
       "</table>\n",
       "<p>5 rows × 29 columns</p>\n",
       "</div>"
      ],
      "text/plain": [
       "        section grade grade_gym        color             name holdtypes  \\\n",
       "359     Tsunami     3     WEISS      violet               NaN   slopers   \n",
       "59       Ekcürb     3     WEISS       green    Grey's Anatomy      jugs   \n",
       "73     Paradies     3     WEISS       white               NaN      jugs   \n",
       "94    Submarino     3     WEISS        blue               NaN      jugs   \n",
       "95   Enterprise     3     WEISS  cornflower   T-Rex Testpiece      jugs   \n",
       "\n",
       "    styles          time                                               href  \\\n",
       "359  ['🧘']  4 months ago  /route/jzquGG3GoYgvvQzFrKXnzvecLwm2~1653054177046   \n",
       "59   ['🔬']   10 days ago  /route/UQGtEzKKf7NHJM6JGCdYL8LrkPl2~1663081586346   \n",
       "73   ['🤸']   11 days ago  /route/jzquGG3GoYgvvQzFrKXnzvecLwm2~1662994468579   \n",
       "94   ['💪']   17 days ago  /route/jzquGG3GoYgvvQzFrKXnzvecLwm2~1662477059478   \n",
       "95   ['💪']   18 days ago  /route/UQGtEzKKf7NHJM6JGCdYL8LrkPl2~1662389956144   \n",
       "\n",
       "     nclimbs  ...  power    fun  balance  corner  footwork  coordination  \\\n",
       "359     41.0  ...  False  False     True   False     False         False   \n",
       "59       2.0  ...  False  False    False   False     False         False   \n",
       "73       6.0  ...  False   True    False   False     False         False   \n",
       "94       8.0  ...  False  False    False   False     False         False   \n",
       "95       9.0  ...  False  False    False   False     False         False   \n",
       "\n",
       "     arete  mantle   dyno  endurance  \n",
       "359  False   False  False      False  \n",
       "59   False   False  False      False  \n",
       "73   False   False  False      False  \n",
       "94   False   False  False      False  \n",
       "95   False   False  False      False  \n",
       "\n",
       "[5 rows x 29 columns]"
      ]
     },
     "execution_count": 16,
     "metadata": {},
     "output_type": "execute_result"
    }
   ],
   "source": [
    "df_all_routes.head()"
   ]
  },
  {
   "cell_type": "markdown",
   "id": "a47a6578",
   "metadata": {},
   "source": [
    "### Summarize"
   ]
  },
  {
   "cell_type": "code",
   "execution_count": 17,
   "id": "a80015db",
   "metadata": {},
   "outputs": [],
   "source": [
    "df_all_routes['hex_color'] = df_all_routes['grade'].map(grade_colors)"
   ]
  },
  {
   "cell_type": "code",
   "execution_count": 18,
   "id": "070099b8",
   "metadata": {},
   "outputs": [],
   "source": [
    "hist_colors = [val for key,val in grade_colors.items() if key in df_all_routes.grade.unique()]"
   ]
  },
  {
   "cell_type": "code",
   "execution_count": 63,
   "id": "245cbe13",
   "metadata": {},
   "outputs": [],
   "source": [
    "fig = px.histogram(df_all_routes, x='grade', color='grade', color_discrete_sequence=hist_colors, \n",
    "             template='simple_white')#, width=900, height=400) \n",
    "                   \n",
    "fig.update_layout(title_text=f'number of routes per grade (n={df_all_routes.shape[0]})', title_x=0.5)\n",
    "\n",
    "fig.update_yaxes(title='number of routes')\n",
    "fig.update_layout(showlegend=False)\n",
    "\n",
    "#fig.show()\n",
    "fig.write_html(f'{date}_nRoutes_per_grade.html', full_html=False, include_plotlyjs=\"cdn\")"
   ]
  },
  {
   "cell_type": "code",
   "execution_count": 64,
   "id": "8745ab1f",
   "metadata": {},
   "outputs": [],
   "source": [
    "fig = px.bar(df_all_routes.groupby(['grade']).mean().reset_index(), x=\"grade\", y=\"nclimbs\", color=\"grade\",        \n",
    "             color_discrete_sequence=hist_colors, \n",
    "             template='simple_white')#, width=900, height=400)\n",
    "\n",
    "fig.update_layout(title_text=f'mean number of sends per grade', title_x=0.5)\n",
    "\n",
    "fig.update_yaxes(title='mean number of sends')\n",
    "fig.update_layout(showlegend=False)\n",
    "\n",
    "#fig.show()\n",
    "fig.write_html(f'{date}_mean_nsends_per_grade.html', full_html=False, include_plotlyjs=False)"
   ]
  },
  {
   "cell_type": "code",
   "execution_count": 65,
   "id": "a8789db5",
   "metadata": {},
   "outputs": [],
   "source": [
    "fig = px.bar(df_all_routes.sort_values(by=['grade','nclimbs']), x=\"grade\", y=\"nclimbs\", color=\"grade\",        \n",
    "             color_discrete_sequence=hist_colors, \n",
    "             template='simple_white')#, width=900, height=400)\n",
    "\n",
    "fig.update_layout(title_text=f'total number of sends per grade', title_x=0.5)\n",
    "\n",
    "fig.update_yaxes(title='total number of sends')\n",
    "fig.update_layout(showlegend=False)\n",
    "\n",
    "#fig.show()\n",
    "fig.write_html(f'{date}_total_nsends_per_grade.html', full_html=False, include_plotlyjs=False)"
   ]
  },
  {
   "cell_type": "code",
   "execution_count": 27,
   "id": "16f575b8",
   "metadata": {},
   "outputs": [],
   "source": [
    "df_grade_holdtype = df_all_routes.groupby(['grade'])[holdtypes].sum()\n",
    "df_grade_holdtype['counter'] = df_all_routes.groupby(['grade']).size()\n",
    "\n",
    "df_grade_holdtype = df_grade_holdtype.reset_index()"
   ]
  },
  {
   "cell_type": "code",
   "execution_count": 66,
   "id": "a1be2320",
   "metadata": {},
   "outputs": [],
   "source": [
    "fig = px.bar(df_grade_holdtype, x=\"grade\", y=holdtypes, text_auto=True,\n",
    "             template='simple_white', height=500)#, width=900, height=500)\n",
    "\n",
    "#fig.update_traces(textposition='inside')\n",
    "fig.update_layout(title_text=f'hold type per grade', title_x=0.5, legend_title=None)\n",
    "fig.update_yaxes(title='number of routes')\n",
    "\n",
    "#fig.show()\n",
    "fig.write_html(f'{date}_holdType_per_grade.html', full_html=False, include_plotlyjs=False)"
   ]
  },
  {
   "cell_type": "code",
   "execution_count": 67,
   "id": "774d8393",
   "metadata": {},
   "outputs": [],
   "source": [
    "df_grade_holdtype.iloc[:,1:-1] = df_grade_holdtype.iloc[:,1:-1].div(\n",
    "    df_grade_holdtype.counter, axis=0).multiply(100).astype(int)"
   ]
  },
  {
   "cell_type": "code",
   "execution_count": 68,
   "id": "447d0218",
   "metadata": {},
   "outputs": [],
   "source": [
    "fig = px.bar(df_grade_holdtype, x=\"grade\", y=holdtypes, text_auto=True,\n",
    "             template='simple_white')#, width=900, height=400)\n",
    "\n",
    "fig.update_layout(title_text=f'hold type per grade - normalized', title_x=0.5, legend_title=None)\n",
    "fig.update_yaxes(title='hold type %', showticklabels=False)\n",
    "\n",
    "#fig.show()\n",
    "fig.write_html(f'{date}_holdType_per_grade_normalized.html', full_html=False, include_plotlyjs=False)"
   ]
  },
  {
   "cell_type": "code",
   "execution_count": 69,
   "id": "fcc288b7",
   "metadata": {},
   "outputs": [
    {
     "data": {
      "text/plain": [
       "dict_values(['compression', 'technique', 'strength', 'power', 'fun', 'balance', 'corner', 'footwork', 'coordination', 'arete', 'mantle', 'dyno', 'endurance'])"
      ]
     },
     "execution_count": 69,
     "metadata": {},
     "output_type": "execute_result"
    }
   ],
   "source": [
    "styles.values()"
   ]
  },
  {
   "cell_type": "code",
   "execution_count": 70,
   "id": "5ea53f2a",
   "metadata": {},
   "outputs": [],
   "source": [
    "df_grade_style = df_all_routes.groupby(['grade'])[list(styles.values())].sum()\n",
    "df_grade_style['counter'] = df_all_routes.groupby(['grade']).size()\n",
    "\n",
    "df_grade_style = df_grade_style.reset_index()"
   ]
  },
  {
   "cell_type": "code",
   "execution_count": 71,
   "id": "8c496c67",
   "metadata": {},
   "outputs": [],
   "source": [
    "fig = px.bar(df_grade_style, x=\"grade\", y=list(styles.values()), text_auto=True,\n",
    "             template='simple_white',#, width=900, height=1000, \n",
    "             color_discrete_sequence=px.colors.qualitative.Light24)\n",
    "\n",
    "#fig.update_traces(textposition='inside')\n",
    "fig.update_layout(title_text=f'style per grade', title_x=0.5, legend_title=None)\n",
    "fig.update_yaxes(title='number of routes')\n",
    "\n",
    "#fig.show()\n",
    "fig.write_html(f'{date}_style_per_grade.html', full_html=False, include_plotlyjs=False)"
   ]
  },
  {
   "cell_type": "code",
   "execution_count": 72,
   "id": "8a1a8980",
   "metadata": {},
   "outputs": [],
   "source": [
    "df_grade_style.iloc[:,1:-1] = df_grade_style.iloc[:,1:-1].div(\n",
    "    df_grade_style.counter, axis=0).multiply(100).astype(int)"
   ]
  },
  {
   "cell_type": "code",
   "execution_count": 73,
   "id": "97aeb0c8",
   "metadata": {},
   "outputs": [],
   "source": [
    "fig = px.bar(df_grade_style, x=\"grade\", y=list(styles.values()), text_auto=True,\n",
    "             template='simple_white',# width=900, height=1000, \n",
    "             color_discrete_sequence=px.colors.qualitative.Light24)\n",
    "\n",
    "#fig.update_traces(textposition='inside')\n",
    "fig.update_layout(title_text=f'style per grade - normalized', title_x=0.5, legend_title=None)\n",
    "fig.update_yaxes(title='style %', showticklabels=False)\n",
    "\n",
    "#fig.show()\n",
    "fig.write_html(f'{date}_style_per_grade_normalized.html', full_html=False, include_plotlyjs=False)"
   ]
  },
  {
   "cell_type": "markdown",
   "id": "3415b892",
   "metadata": {},
   "source": [
    "#### More soups:"
   ]
  },
  {
   "cell_type": "code",
   "execution_count": 74,
   "id": "8a22461a",
   "metadata": {
    "scrolled": false
   },
   "outputs": [],
   "source": [
    "# user_url = 'https://beta7.app/user/bellonet'\n",
    "# user_page = requests.get(user_url)\n",
    "# soup_user = BeautifulSoup(user_page.text, 'html.parser')"
   ]
  },
  {
   "cell_type": "markdown",
   "id": "d7c077d6",
   "metadata": {},
   "source": [
    "### Set route plot style params"
   ]
  },
  {
   "cell_type": "code",
   "execution_count": 75,
   "id": "8a806fe4",
   "metadata": {},
   "outputs": [
    {
     "data": {
      "text/plain": [
       "['⚡', '🥈', '👊', '❓', '✔️']"
      ]
     },
     "execution_count": 75,
     "metadata": {},
     "output_type": "execute_result"
    }
   ],
   "source": [
    "attempts = ['⚡', '🥈', '👊', '❓', '✔️']\n",
    "attempts\n",
    "#'\\U0001f948' second place"
   ]
  },
  {
   "cell_type": "code",
   "execution_count": 42,
   "id": "4b20755d",
   "metadata": {},
   "outputs": [],
   "source": [
    "## NOT USED - CURRENTLY NO HEIGHT AS HUE\n",
    "# ## our min height - 158, max - 199  (starting a bit before min to not have white)\n",
    "# minh = 156\n",
    "# rang = 44\n",
    "\n",
    "# cmap_discr = sns.color_palette(\"vlag\", as_cmap=True)(np.linspace(0, 1, rang)) #red to blue\n",
    "# cmap_discr = sns.color_palette(\"Blues\", as_cmap=True)(np.linspace(0, 1, rang))\n",
    "\n",
    "# height_colors = {i+minh:c for i,c in enumerate(cmap_discr)}\n",
    "# height_colors[0] = np.array([0.5, 0.5, 0.5, 1.])"
   ]
  },
  {
   "cell_type": "markdown",
   "id": "17ad7a68",
   "metadata": {},
   "source": [
    "### Plot multiple routes"
   ]
  },
  {
   "cell_type": "code",
   "execution_count": 43,
   "id": "974c7277",
   "metadata": {},
   "outputs": [],
   "source": [
    "# # Choose routes to plot:\n",
    "df_routes_to_plot = df_all_routes[(df_all_routes.grade>'6') & (df_all_routes.nclimbs>10)]\n",
    "# hrefs_routes_to_plot = df_routes_to_plot[\"href\"].to_list()"
   ]
  },
  {
   "cell_type": "code",
   "execution_count": 44,
   "id": "1e25bd33",
   "metadata": {
    "scrolled": true
   },
   "outputs": [],
   "source": [
    "# Get routes html\n",
    "#routes_page = [requests.get(base_url + r) for r in hrefs_routes_to_plot]"
   ]
  },
  {
   "cell_type": "code",
   "execution_count": 45,
   "id": "dadbe294",
   "metadata": {},
   "outputs": [],
   "source": [
    "routes_dir = f'{date}_routes' \n",
    "# os.makedirs(routes_dir)"
   ]
  },
  {
   "cell_type": "code",
   "execution_count": 46,
   "id": "2413da89",
   "metadata": {},
   "outputs": [],
   "source": [
    "## Save each route page to txt:\n",
    "\n",
    "# for ii,p in enumerate(routes_page):\n",
    "    \n",
    "#     ## get the df index of the route:\n",
    "#     df_idx = df_routes_to_plot[df_routes_to_plot.href==hrefs_routes_to_plot[ii]].index[0]\n",
    "    \n",
    "#     with open(os.path.join(routes_dir, f'{df_idx}.txt'), 'w') as f:\n",
    "#         f.write(p.text)"
   ]
  },
  {
   "cell_type": "code",
   "execution_count": 47,
   "id": "d9d48521",
   "metadata": {},
   "outputs": [],
   "source": [
    "# ## Save one route page to txt:\n",
    "# idx = 300\n",
    "\n",
    "# r = df_routes_to_plot[df_routes_to_plot.index==idx][\"href\"].values[0]\n",
    "\n",
    "# p = requests.get(base_url + r)\n",
    "\n",
    "# with open(os.path.join(routes_dir, f'{idx}.txt'), 'w') as f:\n",
    "#     f.write(p.text)"
   ]
  },
  {
   "cell_type": "code",
   "execution_count": 48,
   "id": "1afbe8ba",
   "metadata": {},
   "outputs": [
    {
     "data": {
      "text/plain": [
       "(5898, 9)"
      ]
     },
     "execution_count": 48,
     "metadata": {},
     "output_type": "execute_result"
    }
   ],
   "source": [
    "df_routes_to_plot = df_routes_to_plot.sort_values(by=[\"grade\"])\n",
    "\n",
    "df = pd.DataFrame()\n",
    "\n",
    "for i in df_routes_to_plot.index:\n",
    "\n",
    "    with open(os.path.join(routes_dir, f'{i}.txt'), 'r') as f:\n",
    "        page = f.read()\n",
    "\n",
    "    # entire page text:\n",
    "    soup_route = BeautifulSoup(page)\n",
    "\n",
    "    # Get route name - if exists\n",
    "    try:\n",
    "        route_name = soup_route.select_one('.route-name').text\n",
    "    except:\n",
    "        route_name = 'XXX'\n",
    "        \n",
    "    route_sector = soup_route.select_one('.sector').text\n",
    "\n",
    "    # Get route level: \n",
    "    route_level = soup_route.select_one('.fb').text.split('/')\n",
    "\n",
    "    # Get hold color:\n",
    "    hold_color = [c.text.strip() for c in soup_route.select('.color') if c.text.strip()!=''][0]\n",
    "    hold_color \n",
    "    if hold_color=='forest':\n",
    "        hold_color = '#014421'\n",
    "    elif hold_color in ['lemon','yellow']:\n",
    "        hold_color = '#FFEA00'\n",
    "    elif hold_color=='cornflower':\n",
    "        hold_color='#9aceeb'\n",
    "    #hold_color = soup_route.find('title').text.split(' ')[0]\n",
    "\n",
    "    # List of climbers - full text per climber\n",
    "    route_senders = [t for t in soup_route.select(\".climb-container\") \n",
    "             if \"<span>made a beta request</span>\" not in str(t)]\n",
    "    \n",
    "    # Their height\n",
    "    route_heights = [int(s.select_one(\".height\").text[:-2]) if s.select_one(\".height\") else np.nan \n",
    "             for s in route_senders]\n",
    "\n",
    "    # Their level\n",
    "    route_levels = [s.select_one(\".level\").text[1:] if s.select_one(\".level\") else None \n",
    "         for s in route_senders]\n",
    "\n",
    "    # Their number of attemps\n",
    "    route_sendtype = [s.select_one(\".sending-type\").text if s.select_one(\".sending-type\") else '❓' \n",
    "              for s in route_senders]\n",
    "\n",
    "    # Create the df\n",
    "    df_route = pd.DataFrame({\"height\":route_heights, \"levels\":route_levels, 'sendtype':route_sendtype})\n",
    "    df_route['idx'] = i\n",
    "    df_route['name'] = route_name\n",
    "    df_route['sector'] = route_sector\n",
    "    df_route['level'] = route_level[0]\n",
    "    df_route['gym_level'] = route_level[1]\n",
    "    df_route['hold_color'] = hold_color\n",
    "    \n",
    "    df = pd.concat([df, df_route])\n",
    "\n",
    "df = df.reset_index(drop=True)\n",
    "df.shape"
   ]
  },
  {
   "cell_type": "code",
   "execution_count": 49,
   "id": "3710cbee",
   "metadata": {},
   "outputs": [
    {
     "data": {
      "text/plain": [
       "array(['👊', '⚡', '🥈', '❓', '✔️', '🎫'], dtype=object)"
      ]
     },
     "execution_count": 49,
     "metadata": {},
     "output_type": "execute_result"
    }
   ],
   "source": [
    "df.sendtype.unique()"
   ]
  },
  {
   "cell_type": "code",
   "execution_count": 50,
   "id": "ad138594",
   "metadata": {},
   "outputs": [
    {
     "data": {
      "text/plain": [
       "((5896, 9), array(['👊', '⚡', '🥈', '❓', '✔️'], dtype=object))"
      ]
     },
     "execution_count": 50,
     "metadata": {},
     "output_type": "execute_result"
    }
   ],
   "source": [
    "df = df.drop(df[df.sendtype == '🎫'].index)\n",
    "\n",
    "df.shape, df.sendtype.unique()"
   ]
  },
  {
   "cell_type": "code",
   "execution_count": 51,
   "id": "1477af92",
   "metadata": {},
   "outputs": [],
   "source": [
    "df = df.reset_index(drop=True)"
   ]
  },
  {
   "cell_type": "code",
   "execution_count": 52,
   "id": "b5930c1b",
   "metadata": {},
   "outputs": [],
   "source": [
    "with open(f'{date}_height_summary_table.html', 'w') as f:\n",
    "    df.groupby(['level']).agg({'height':[\"mean\",\"median\",\"min\",\"max\"]}\n",
    "                             ).astype(int).sort_values(by=['level']).to_html(f, classes=\"table\")"
   ]
  },
  {
   "cell_type": "code",
   "execution_count": 53,
   "id": "d162972f",
   "metadata": {},
   "outputs": [],
   "source": [
    "## Bin height\n",
    "\n",
    "bins = range(155,201,5)\n",
    "height_labels = [f'~{b+2}' for b in bins][:-1]\n",
    "df['height_binned'] = pd.cut(df['height'], bins, labels=height_labels)"
   ]
  },
  {
   "cell_type": "code",
   "execution_count": 54,
   "id": "b52c7cb1",
   "metadata": {},
   "outputs": [],
   "source": [
    "## create a column where I map route level as 0 for the climbers levels:\n",
    "levels = df.levels.sort_values().unique()\n",
    "\n",
    "levels_temp_dict = dict([(l,i) for i,l in enumerate(levels)])\n",
    "\n",
    "df[\"levels_mapped\"] = df[\"levels\"].map(levels_temp_dict) - df[\"level\"].map(levels_temp_dict)"
   ]
  },
  {
   "cell_type": "code",
   "execution_count": 55,
   "id": "9db19469",
   "metadata": {},
   "outputs": [
    {
     "data": {
      "text/html": [
       "<div>\n",
       "<style scoped>\n",
       "    .dataframe tbody tr th:only-of-type {\n",
       "        vertical-align: middle;\n",
       "    }\n",
       "\n",
       "    .dataframe tbody tr th {\n",
       "        vertical-align: top;\n",
       "    }\n",
       "\n",
       "    .dataframe thead th {\n",
       "        text-align: right;\n",
       "    }\n",
       "</style>\n",
       "<table border=\"1\" class=\"dataframe\">\n",
       "  <thead>\n",
       "    <tr style=\"text-align: right;\">\n",
       "      <th></th>\n",
       "      <th>height</th>\n",
       "      <th>levels</th>\n",
       "      <th>sendtype</th>\n",
       "      <th>idx</th>\n",
       "      <th>name</th>\n",
       "      <th>sector</th>\n",
       "      <th>level</th>\n",
       "      <th>gym_level</th>\n",
       "      <th>hold_color</th>\n",
       "      <th>height_binned</th>\n",
       "      <th>levels_mapped</th>\n",
       "    </tr>\n",
       "  </thead>\n",
       "  <tbody>\n",
       "    <tr>\n",
       "      <th>0</th>\n",
       "      <td>180.0</td>\n",
       "      <td>6B</td>\n",
       "      <td>👊</td>\n",
       "      <td>157</td>\n",
       "      <td>XXX</td>\n",
       "      <td>Competizione</td>\n",
       "      <td>6A</td>\n",
       "      <td>BLAU</td>\n",
       "      <td>violet</td>\n",
       "      <td>~177</td>\n",
       "      <td>2</td>\n",
       "    </tr>\n",
       "    <tr>\n",
       "      <th>1</th>\n",
       "      <td>192.0</td>\n",
       "      <td>6C</td>\n",
       "      <td>👊</td>\n",
       "      <td>157</td>\n",
       "      <td>XXX</td>\n",
       "      <td>Competizione</td>\n",
       "      <td>6A</td>\n",
       "      <td>BLAU</td>\n",
       "      <td>violet</td>\n",
       "      <td>~192</td>\n",
       "      <td>4</td>\n",
       "    </tr>\n",
       "    <tr>\n",
       "      <th>2</th>\n",
       "      <td>NaN</td>\n",
       "      <td>7B+</td>\n",
       "      <td>⚡</td>\n",
       "      <td>157</td>\n",
       "      <td>XXX</td>\n",
       "      <td>Competizione</td>\n",
       "      <td>6A</td>\n",
       "      <td>BLAU</td>\n",
       "      <td>violet</td>\n",
       "      <td>NaN</td>\n",
       "      <td>9</td>\n",
       "    </tr>\n",
       "    <tr>\n",
       "      <th>3</th>\n",
       "      <td>185.0</td>\n",
       "      <td>7B</td>\n",
       "      <td>⚡</td>\n",
       "      <td>157</td>\n",
       "      <td>XXX</td>\n",
       "      <td>Competizione</td>\n",
       "      <td>6A</td>\n",
       "      <td>BLAU</td>\n",
       "      <td>violet</td>\n",
       "      <td>~182</td>\n",
       "      <td>8</td>\n",
       "    </tr>\n",
       "    <tr>\n",
       "      <th>4</th>\n",
       "      <td>169.0</td>\n",
       "      <td>6C</td>\n",
       "      <td>🥈</td>\n",
       "      <td>157</td>\n",
       "      <td>XXX</td>\n",
       "      <td>Competizione</td>\n",
       "      <td>6A</td>\n",
       "      <td>BLAU</td>\n",
       "      <td>violet</td>\n",
       "      <td>~167</td>\n",
       "      <td>4</td>\n",
       "    </tr>\n",
       "  </tbody>\n",
       "</table>\n",
       "</div>"
      ],
      "text/plain": [
       "   height levels sendtype  idx name          sector level gym_level  \\\n",
       "0   180.0     6B        👊  157  XXX   Competizione     6A      BLAU   \n",
       "1   192.0     6C        👊  157  XXX   Competizione     6A      BLAU   \n",
       "2     NaN    7B+        ⚡  157  XXX   Competizione     6A      BLAU   \n",
       "3   185.0     7B        ⚡  157  XXX   Competizione     6A      BLAU   \n",
       "4   169.0     6C        🥈  157  XXX   Competizione     6A      BLAU   \n",
       "\n",
       "  hold_color height_binned  levels_mapped  \n",
       "0     violet          ~177              2  \n",
       "1     violet          ~192              4  \n",
       "2     violet           NaN              9  \n",
       "3     violet          ~182              8  \n",
       "4     violet          ~167              4  "
      ]
     },
     "execution_count": 55,
     "metadata": {},
     "output_type": "execute_result"
    }
   ],
   "source": [
    "df.head()"
   ]
  },
  {
   "cell_type": "markdown",
   "id": "b3d353aa",
   "metadata": {},
   "source": [
    "### Plot means per grade"
   ]
  },
  {
   "cell_type": "markdown",
   "id": "9f3623cb",
   "metadata": {},
   "source": [
    "#### heat maps"
   ]
  },
  {
   "cell_type": "code",
   "execution_count": 76,
   "id": "dcd952b3",
   "metadata": {},
   "outputs": [],
   "source": [
    "routes_levels = df.level.sort_values().unique()\n",
    "\n",
    "for i in range(8):\n",
    "\n",
    "    df_grade = df[df.level == routes_levels[i]]\n",
    "\n",
    "    lev = pd.Categorical(df_grade['levels'], categories=list(grade_colors.keys())[4:-1])\n",
    "    hei = pd.Categorical(df_grade['height_binned'], categories=height_labels)\n",
    "\n",
    "    confusion_matrix = pd.crosstab(lev, hei, dropna=False) \n",
    "    confusion_matrix.columns.name = 'height'\n",
    "    confusion_matrix.index.name = 'grade'\n",
    "    \n",
    "    ## not using smoothing as it lowers n by much\n",
    "    #### np.sum(gaussian_filter(confusion_matrix.astype(float), 0.1).astype(int))\n",
    "\n",
    "    fig = px.imshow(confusion_matrix, color_continuous_scale=\"BuPu\", width=400, height=400)\n",
    "    fig.update_layout(title_text=f'{df_grade.level.iat[0]}  (n sends={df_grade.shape[0]})', title_x=0.5)\n",
    "    fig.update_xaxes(title=None)\n",
    "    fig.update_yaxes(title=None)\n",
    "    \n",
    "    #fig.show()\n",
    "    if i==0:\n",
    "        fig.write_html(f'{date}_heatmap_xLevel_yHeight_hovAttempts_{routes_levels[i]}.html', full_html=False, include_plotlyjs=\"cdn\")\n",
    "    else:\n",
    "        fig.write_html(f'{date}_heatmap_xLevel_yHeight_hovAttempts_{routes_levels[i]}.html', full_html=False, include_plotlyjs=False)\n"
   ]
  },
  {
   "cell_type": "code",
   "execution_count": 77,
   "id": "6afb1b5a",
   "metadata": {},
   "outputs": [],
   "source": [
    "## inverse confusion matrix:\n",
    "\n",
    "routes_levels = df.level.sort_values().unique()\n",
    "\n",
    "for i in range(8):\n",
    "\n",
    "    df_grade = df[df.level == routes_levels[i]]\n",
    "\n",
    "    lev = pd.Categorical(df_grade['levels'], categories=list(grade_colors.keys())[4:-1])\n",
    "    hei = pd.Categorical(df_grade['height_binned'], categories=height_labels)\n",
    "\n",
    "    confusion_matrix = pd.crosstab(lev, hei, dropna=False).T\n",
    "    confusion_matrix.columns.name = 'grade'\n",
    "    confusion_matrix.index.name = 'height'\n",
    "    confusion_matrix = confusion_matrix.loc[::-1]\n",
    "    \n",
    "    ## not using smoothing as it lowers n by much\n",
    "    #### np.sum(gaussian_filter(confusion_matrix.astype(float), 0.1).astype(int))\n",
    "\n",
    "    fig = px.imshow(confusion_matrix, color_continuous_scale=\"BuPu\", width=400, height=400)\n",
    "    fig.update_layout(title_text=f'{df_grade.level.iat[0]}  (n sends={df_grade.shape[0]})', title_x=0.5)\n",
    "    fig.update_xaxes(title=None)\n",
    "    fig.update_yaxes(title=None)\n",
    "    \n",
    "    #fig.show()\n",
    "    if i==0:\n",
    "        fig.write_html(f'{date}_heatmapT_xLevel_yHeight_hovAttempts_{routes_levels[i]}.html', full_html=False, include_plotlyjs=\"cdn\")\n",
    "    else:\n",
    "        fig.write_html(f'{date}_heatmapT_xLevel_yHeight_hovAttempts_{routes_levels[i]}.html', full_html=False, include_plotlyjs=False)\n"
   ]
  },
  {
   "cell_type": "markdown",
   "id": "42931907",
   "metadata": {},
   "source": [
    "#### route level mapped to zero in sendlevel histograms"
   ]
  },
  {
   "cell_type": "code",
   "execution_count": 86,
   "id": "c5c2a86e",
   "metadata": {},
   "outputs": [],
   "source": [
    "fig = ff.create_distplot([df[\"levels_mapped\"]], ['6A-7A+'], bin_size=1, curve_type='normal',\n",
    "                         show_curve=True, show_rug=False, colors=['red'])\n",
    "fig.update_layout(template=\"none\", title_text='senders grade around the route grade - for 6A-7A+ routes')\n",
    "fig.update_xaxes(ticktext=[-2,-1,'route grade',1,2,3,4,5,6,7,8,9,10,11], \n",
    "                 tickvals=[-1.5,-0.5,0.5,1.5,2.5,3.5,4.5,5.5,6.5,7.5,8.5,9.5,10.5,11.5])\n",
    "\n",
    "fig.update_xaxes(title='senders grade')\n",
    "fig.update_yaxes(title='senders ratio')\n",
    "\n",
    "#fig.show()\n",
    "\n",
    "fig.write_html(f'{date}_sendLevel_hist_around_route_grade_allGrades.html', full_html=False, include_plotlyjs=\"cdn\")"
   ]
  },
  {
   "cell_type": "code",
   "execution_count": 114,
   "id": "b58cba7c",
   "metadata": {},
   "outputs": [],
   "source": [
    "routes_levels = df.level.sort_values().unique()\n",
    "\n",
    "hist_list = []\n",
    "for i,l in enumerate(routes_levels):\n",
    "    hist_list.append(df[df.level == l][\"levels_mapped\"])\n",
    "    \n",
    "\n",
    "fig = ff.create_distplot(hist_list, routes_levels, \n",
    "                         bin_size=1, show_curve=True, show_rug=False, show_hist=False, curve_type='normal',\n",
    "                        colors=list(grade_colors.values())[5:13]) \n",
    "fig.update_layout(template=\"none\",\n",
    "                  title_text='senders grade around the route grade - normal fit curve - 6A-7A+ routes')\n",
    "fig.update_xaxes(ticktext=[-2,-1,'route grade',1,2,3,4,5,6,7,8,9,10,11], \n",
    "                 tickvals=[-1.5,-0.5,0.5,1.5,2.5,3.5,4.5,5.5,6.5,7.5,8.5,9.5,10.5,11.5])\n",
    "\n",
    "fig.update_xaxes(title='senders grade')\n",
    "fig.update_yaxes(title='senders ratio')\n",
    "\n",
    "fig.write_html(f'{date}_sendLevel_hist_around_route_grade_allGrades_curves.html', full_html=False, include_plotlyjs=False)\n",
    "#fig.show()"
   ]
  },
  {
   "cell_type": "code",
   "execution_count": 115,
   "id": "cdb84c7b",
   "metadata": {},
   "outputs": [],
   "source": [
    "levels_range = list(df.levels.dropna().sort_values().unique())\n",
    "## add grades that dont exist in the senders \n",
    "levels_range += ['-','-','-','-','-','-','-','-','-']"
   ]
  },
  {
   "cell_type": "code",
   "execution_count": 116,
   "id": "f4403103",
   "metadata": {
    "scrolled": false
   },
   "outputs": [],
   "source": [
    "routes_levels = df.level.sort_values().unique()\n",
    "\n",
    "for i,l in enumerate(routes_levels):\n",
    "    hist_list = [df[df.level == l][\"levels_mapped\"]]\n",
    "    \n",
    "\n",
    "    fig = ff.create_distplot(hist_list, [l], \n",
    "                             bin_size=1, show_curve=False, show_rug=False, show_hist=True, curve_type='normal',\n",
    "                            colors=[list(grade_colors.values())[i+5]]) \n",
    "    fig.update_layout(template=\"none\",\n",
    "                      title_text=f'senders grade around the route grade - {l} routes',\n",
    "                     xaxis_range=[-2,12])\n",
    "    fig.update_xaxes(ticktext=levels_range[levels_range.index(l)-2:levels_range.index(l)+12], \n",
    "                     tickvals=[-1.5,-0.5,0.5,1.5,2.5,3.5,4.5,5.5,6.5,7.5,8.5,9.5,10.5,11.5])\n",
    "    \n",
    "    fig.update_xaxes(title='senders grade')\n",
    "    fig.update_yaxes(title='senders ratio')\n",
    "    \n",
    "    fig.write_html(f'{date}_sendLevel_hist_around_route_grade_{l}.html', full_html=False, include_plotlyjs=False)\n",
    "\n",
    "    #fig.show()"
   ]
  },
  {
   "cell_type": "markdown",
   "id": "50ca3278",
   "metadata": {},
   "source": [
    "### Individual route data"
   ]
  },
  {
   "cell_type": "code",
   "execution_count": 51,
   "id": "a8078275",
   "metadata": {},
   "outputs": [],
   "source": [
    "sectors = df[\"sector\"].unique().tolist()"
   ]
  },
  {
   "cell_type": "markdown",
   "id": "5832264a",
   "metadata": {},
   "source": [
    "#### Heat Maps  normalized by grade"
   ]
  },
  {
   "cell_type": "code",
   "execution_count": 163,
   "id": "e794982e",
   "metadata": {},
   "outputs": [],
   "source": [
    "def plot_heatmap_normed(level):\n",
    "    df_plot = df[df.level==level]\n",
    "    idxs = df_plot.idx.unique()\n",
    "    \n",
    "    sector_formatted = sector.lower().replace(\" \",\"\").replace(\"'\",\"\")\n",
    "\n",
    "    for i,idx in enumerate(idxs):\n",
    "        df_route = df_plot[df_plot.idx == idx]\n",
    "        df_route = df_route.sort_values(by=[\"levels\"])\n",
    "\n",
    "        lev = pd.Categorical(df_route['levels'], categories=list(grade_colors.keys())[4:-1])\n",
    "        hei = pd.Categorical(df_route['height_binned'], categories=height_labels)\n",
    "        confusion_matrix_route = pd.crosstab(lev, hei, dropna=False) \n",
    "        \n",
    "        ### get grade confusion matrix - for normalization:\n",
    "        df_grade = df[df.level == df_route.level.iat[0]]\n",
    "        lev = pd.Categorical(df_grade['levels'], categories=list(grade_colors.keys())[4:-1])\n",
    "        hei = pd.Categorical(df_grade['height_binned'], categories=height_labels)\n",
    "        confusion_matrix_grade = pd.crosstab(lev, hei, dropna=False) \n",
    "        \n",
    "        confusion_matrix = (confusion_matrix_route/confusion_matrix_grade).fillna(value=0)\n",
    "\n",
    "        x = list(confusion_matrix.index)\n",
    "        y = list(confusion_matrix.columns)\n",
    "\n",
    "        cm_hov_text = confusion_matrix.copy()\n",
    "    \n",
    "        for xx in x:\n",
    "            for yy in y:\n",
    "                if cm_hov_text.loc[xx,yy]!=0:\n",
    "                    cm_hov_text.loc[xx,yy] = f'Normalized: {cm_hov_text.loc[xx,yy]:.3f}<br>Absolute: {confusion_matrix_route.loc[xx,yy]}<br>' + \\\n",
    "                    df_route[(df_route.levels==xx) & \n",
    "                                                      (df_route.height_binned==yy)\n",
    "                                                     ][\"sendtype\"].value_counts().to_string().replace(' ','')\n",
    "                else:\n",
    "                    cm_hov_text.loc[xx,yy] = ''\n",
    "                    \n",
    "        data = [plotly.graph_objs.Heatmap(z=confusion_matrix.T,\n",
    "                                          x=x, y=y,\n",
    "                                          hoverinfo='text',\n",
    "                                          colorscale=\"BuPu\",\n",
    "                                          text=cm_hov_text.T)]\n",
    "\n",
    "        layout = plotly.graph_objs.Layout(autosize=False,\n",
    "                                          title_text=f'{df_route.name.iat[0]} - {df_route.level.iat[0]} - {df_route.sector.iat[0]} (n={df_route.shape[0]})',\n",
    "                                          title_x=0.5,  title_font_color=df_route.hold_color.iat[0],\n",
    "                                          width=350,\n",
    "                                          height=350)\n",
    "\n",
    "\n",
    "        fig = plotly.graph_objs.Figure(data=data, layout=layout)\n",
    "        ##fig.show()\n",
    "        if i==0:\n",
    "            fig.write_html(f'{date}_heatmap_normed_xLevel_yHeight_hovAttempts_{level}_{i:02d}.html', full_html=False, include_plotlyjs=\"cdn\")\n",
    "        else:\n",
    "            fig.write_html(f'{date}_heatmap_normed_xLevel_yHeight_hovAttempts_{level}_{i:02d}.html', full_html=False, include_plotlyjs=False)"
   ]
  },
  {
   "cell_type": "code",
   "execution_count": 164,
   "id": "e4f07714",
   "metadata": {},
   "outputs": [],
   "source": [
    "for l in df.level.unique():\n",
    "    plot_heatmap_normed(l)"
   ]
  },
  {
   "cell_type": "markdown",
   "id": "d43d035b",
   "metadata": {},
   "source": [
    "#### Heat maps"
   ]
  },
  {
   "cell_type": "code",
   "execution_count": 167,
   "id": "e6d7c7d2",
   "metadata": {},
   "outputs": [],
   "source": [
    "def plot_heatmap(sector):\n",
    "    df_plot = df[df.sector==sector]\n",
    "    idxs = df_plot.idx.unique()\n",
    "    \n",
    "    sector_formatted = sector.lower().replace(\" \",\"\").replace(\"'\",\"\")\n",
    "\n",
    "    for i,idx in enumerate(idxs):\n",
    "        df_route = df_plot[df_plot.idx == idx]\n",
    "        df_route = df_route.sort_values(by=[\"levels\"])\n",
    "\n",
    "        lev = pd.Categorical(df_route['levels'], categories=list(grade_colors.keys())[4:-1])\n",
    "        hei = pd.Categorical(df_route['height_binned'], categories=height_labels)\n",
    "\n",
    "        confusion_matrix = pd.crosstab(lev, hei, dropna=False) \n",
    "\n",
    "        x = list(confusion_matrix.index)\n",
    "        y = list(confusion_matrix.columns)\n",
    "\n",
    "        cm_hov_text = confusion_matrix.copy()\n",
    "\n",
    "        for xx in x:\n",
    "            for yy in y:\n",
    "                if cm_hov_text.loc[xx,yy]!=0:\n",
    "                    cm_hov_text.loc[xx,yy] = f'#sends: {confusion_matrix.loc[xx,yy]}<br>' + \\\n",
    "                        df_route[(df_route.levels==xx) & \n",
    "                                                      (df_route.height_binned==yy)\n",
    "                                                     ][\"sendtype\"].value_counts().to_string().replace(' ','')\n",
    "                else:\n",
    "                    cm_hov_text.loc[xx,yy] = ''\n",
    "                    \n",
    "        data = [plotly.graph_objs.Heatmap(z=confusion_matrix.T,\n",
    "                                          x=x, y=y,\n",
    "                                          hoverinfo='text',\n",
    "                                          colorscale=\"BuPu\",\n",
    "                                          text=cm_hov_text.T)]\n",
    "\n",
    "        layout = plotly.graph_objs.Layout(autosize=False,\n",
    "                                          title_text=f'{df_route.name.iat[0]} - {df_route.level.iat[0]} - {df_route.sector.iat[0]} (n={df_route.shape[0]})',\n",
    "                                          title_x=0.5,  title_font_color=df_route.hold_color.iat[0],\n",
    "                                          width=350,\n",
    "                                          height=350)\n",
    "\n",
    "\n",
    "        fig = plotly.graph_objs.Figure(data=data, layout=layout)\n",
    "        #fig.show()\n",
    "        if i==0:\n",
    "            fig.write_html(f'{date}_heatmap_xLevel_yHeight_hovAttempts_{sector_formatted}_{i:02d}.html', full_html=False, include_plotlyjs=\"cdn\")\n",
    "        else:\n",
    "            fig.write_html(f'{date}_heatmap_xLevel_yHeight_hovAttempts_{sector_formatted}_{i:02d}.html', full_html=False, include_plotlyjs=False)"
   ]
  },
  {
   "cell_type": "code",
   "execution_count": 168,
   "id": "b9a37a79",
   "metadata": {},
   "outputs": [],
   "source": [
    "for s in sectors:\n",
    "    plot_heatmap(s)"
   ]
  },
  {
   "cell_type": "markdown",
   "id": "c9beb967",
   "metadata": {},
   "source": [
    "#### X attempts, Y height, Hue sender grade"
   ]
  },
  {
   "cell_type": "code",
   "execution_count": null,
   "id": "4d6cb483",
   "metadata": {},
   "outputs": [],
   "source": [
    "def plot_xAtt_yHei_hueLev(sector):\n",
    "    \n",
    "    df_plot = df[df.sector==sector]\n",
    "    idxs = df_plot.idx.unique()\n",
    "    \n",
    "    sector_formatted = sector.lower().replace(\" \",\"\").replace(\"'\",\"\")\n",
    "\n",
    "    for i,idx in enumerate(idxs):\n",
    "        df_route = df_plot[df_plot.idx == idx]\n",
    "        df_route = df_route.sort_values(by=[\"levels\"])\n",
    "\n",
    "        colors = [val for key,val in grade_colors.items() if key in df_route.levels.unique()]\n",
    "\n",
    "        fig = px.strip(df_route, x='sendtype', y='height', color='levels', \n",
    "                       category_orders={\"sendtype\":attempts},\n",
    "                      template='none', width=350, height=350,\n",
    "                       color_discrete_sequence=colors)\n",
    "\n",
    "        fig.update_layout(title=f'{df_route.name.iat[0]} - {df_route.level.iat[0]} - {df_route.sector.iat[0]} (n={df_route.shape[0]})',\n",
    "                         title_x=0.5, title_font_color=df_route.hold_color.iat[0],\n",
    "                          legend_title=None)\n",
    "        \n",
    "        fig.update_xaxes(tickfont_size=20)\n",
    "\n",
    "        #fig.show()\n",
    "        if i==0:\n",
    "            fig.write_html(f'{date}_xAttempts_yHeight_hueLevel_{sector_formatted}_{i:02d}.html', full_html=False, include_plotlyjs=\"cdn\")\n",
    "        else:\n",
    "            fig.write_html(f'{date}_xAttempts_yHeight_hueLevel_{sector_formatted}_{i:02d}.html', full_html=False, include_plotlyjs=False)\n",
    "        \n",
    "        "
   ]
  },
  {
   "cell_type": "code",
   "execution_count": null,
   "id": "1c55aa7b",
   "metadata": {},
   "outputs": [],
   "source": [
    "for s in sectors:\n",
    "    plot_xAtt_yHei_hueLev(s)"
   ]
  },
  {
   "cell_type": "markdown",
   "id": "d6ba67ab",
   "metadata": {},
   "source": [
    "#### X sender grade, Y height, Hue attempts"
   ]
  },
  {
   "cell_type": "code",
   "execution_count": null,
   "id": "eb49ffac",
   "metadata": {},
   "outputs": [],
   "source": [
    "def plot_xLev_yHei_hueAtt(sector):\n",
    "    df_plot = df[df.sector==sector]\n",
    "    idxs = df_plot.idx.unique()\n",
    "    \n",
    "    sector_formatted = sector.lower().replace(\" \",\"\").replace(\"'\",\"\")\n",
    "    \n",
    "    for i,idx in enumerate(idxs):\n",
    "        df_route = df_plot[df_plot.idx == idx]\n",
    "        df_route = df_route.sort_values(by=[\"levels\"])\n",
    "\n",
    "        fig = px.strip(df_route, x='levels', y='height', color='sendtype', \n",
    "                      template='none', width=350, height=350,)\n",
    "                       #color_discrete_sequence=colors)\n",
    "\n",
    "        fig.update_layout(title=f'{df_route.name.iat[0]} - {df_route.level.iat[0]} - {df_route.sector.iat[0]} (n={df_route.shape[0]})',\n",
    "                         title_x=0.5, title_font_color=df_route.hold_color.iat[0],\n",
    "                          legend_title=None)\n",
    "        \n",
    "        #fig.show()\n",
    "\n",
    "        if i==0:\n",
    "            fig.write_html(f'{date}_xLevels_yHeight_hueAtt_{sector_formatted}_{i:02d}.html', full_html=False, include_plotlyjs=\"cdn\")\n",
    "        else:\n",
    "            fig.write_html(f'{date}_xLevels_yHeight_hueAtt_{sector_formatted}_{i:02d}.html', full_html=False, include_plotlyjs=False)\n",
    "        "
   ]
  },
  {
   "cell_type": "code",
   "execution_count": null,
   "id": "7fb55941",
   "metadata": {},
   "outputs": [],
   "source": [
    "for s in sectors:\n",
    "    plot_xLev_yHei_hueAtt(s)"
   ]
  },
  {
   "cell_type": "code",
   "execution_count": null,
   "id": "6af2827a",
   "metadata": {},
   "outputs": [],
   "source": []
  },
  {
   "cell_type": "code",
   "execution_count": null,
   "id": "8cd63626",
   "metadata": {},
   "outputs": [],
   "source": []
  },
  {
   "cell_type": "code",
   "execution_count": null,
   "id": "c2f39859",
   "metadata": {},
   "outputs": [],
   "source": []
  }
 ],
 "metadata": {
  "kernelspec": {
   "display_name": "Python 3 (ipykernel)",
   "language": "python",
   "name": "python3"
  },
  "language_info": {
   "codemirror_mode": {
    "name": "ipython",
    "version": 3
   },
   "file_extension": ".py",
   "mimetype": "text/x-python",
   "name": "python",
   "nbconvert_exporter": "python",
   "pygments_lexer": "ipython3",
   "version": "3.9.13"
  }
 },
 "nbformat": 4,
 "nbformat_minor": 5
}
