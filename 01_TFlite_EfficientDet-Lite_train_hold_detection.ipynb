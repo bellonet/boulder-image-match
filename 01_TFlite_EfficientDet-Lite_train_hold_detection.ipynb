{
 "cells": [
  {
   "cell_type": "markdown",
   "metadata": {},
   "source": [
    "In this notebook I train the pre-trained detection models EfficientDet-Lite (info below) to detect climbing holds (currently only one class).  \n",
    "Then model is evaluated, exported as a tensorflow lite model and evaluated again (as a lite model).  \n",
    "\n",
    "Need to run `00_prepare_data_for_training_and_view.ipynb` first.  \n",
    "\n",
    "run this notebook on env:   \n",
    "conda activate tf2_gpu_berta  \n",
    "\n",
    "Env main installations:\n",
    "```\n",
    "conda install pip  \n",
    "sudo apt -y install libportaudio2  \n",
    "~/miniconda3/envs/tf2_gpu_berta/bin/pip install tflite-model-maker  \n",
    "~/miniconda3/envs/tf2_gpu_berta/bin/pip install -q pycocotools  \n",
    "~/miniconda3/envs/tf2_gpu_berta/bin/pip install -q opencv-python-headless==4.5.1.48\n",
    "~/miniconda3/envs/tf2_gpu_berta/bin/pip uninstall -y tensorflow && ~/miniconda3/envs/tf2_gpu_berta/bin/pip install -q tensorflow==2.8.0\n",
    "```\n",
    "\n",
    "Notebook source: https://www.tensorflow.org/lite/models/modify/model_maker/object_detection"
   ]
  },
  {
   "cell_type": "code",
   "execution_count": 1,
   "metadata": {
    "cellView": "form",
    "execution": {
     "iopub.execute_input": "2022-05-26T11:25:36.892727Z",
     "iopub.status.busy": "2022-05-26T11:25:36.892283Z",
     "iopub.status.idle": "2022-05-26T11:25:36.896696Z",
     "shell.execute_reply": "2022-05-26T11:25:36.895870Z"
    },
    "id": "TUfAcER1oUS6"
   },
   "outputs": [],
   "source": [
    "##### Copyright 2021 The TensorFlow Authors.\n",
    "\n",
    "#@title Licensed under the Apache License, Version 2.0 (the \"License\");\n",
    "# you may not use this file except in compliance with the License.\n",
    "# You may obtain a copy of the License at\n",
    "#\n",
    "# https://www.apache.org/licenses/LICENSE-2.0\n",
    "#\n",
    "# Unless required by applicable law or agreed to in writing, software\n",
    "# distributed under the License is distributed on an \"AS IS\" BASIS,\n",
    "# WITHOUT WARRANTIES OR CONDITIONS OF ANY KIND, either express or implied.\n",
    "# See the License for the specific language governing permissions and\n",
    "# limitations under the License."
   ]
  },
  {
   "cell_type": "code",
   "execution_count": 2,
   "metadata": {
    "execution": {
     "iopub.execute_input": "2022-05-26T11:26:41.436952Z",
     "iopub.status.busy": "2022-05-26T11:26:41.436448Z",
     "iopub.status.idle": "2022-05-26T11:26:44.945021Z",
     "shell.execute_reply": "2022-05-26T11:26:44.943924Z"
    },
    "id": "XtxiUeZEiXpt"
   },
   "outputs": [],
   "source": [
    "import numpy as np\n",
    "\n",
    "from tflite_model_maker.config import QuantizationConfig\n",
    "from tflite_model_maker.config import ExportFormat\n",
    "from tflite_model_maker import model_spec\n",
    "from tflite_model_maker import object_detector\n",
    "\n",
    "import tensorflow as tf\n",
    "assert tf.__version__.startswith('2')\n",
    "\n",
    "tf.get_logger().setLevel('ERROR')\n",
    "from absl import logging\n",
    "logging.set_verbosity(logging.ERROR)"
   ]
  },
  {
   "cell_type": "code",
   "execution_count": 3,
   "metadata": {},
   "outputs": [],
   "source": [
    "import os\n",
    "import pandas as pd\n",
    "import shutil"
   ]
  },
  {
   "cell_type": "code",
   "execution_count": 4,
   "metadata": {},
   "outputs": [],
   "source": [
    "# Authenticate google cloud:\n",
    "from google.cloud.bigquery.client import Client\n",
    "\n",
    "os.environ['GOOGLE_APPLICATION_CREDENTIALS'] = 'auto_key.json'\n",
    "bq_client = Client()"
   ]
  },
  {
   "cell_type": "markdown",
   "metadata": {},
   "source": [
    "## Load the data"
   ]
  },
  {
   "cell_type": "code",
   "execution_count": 5,
   "metadata": {},
   "outputs": [],
   "source": [
    "csv_name = 'training_climbing_hall_sameLabelAllHolds.csv'"
   ]
  },
  {
   "cell_type": "markdown",
   "metadata": {},
   "source": [
    "Model Maker takes input data in a CSV format   \n",
    "(see 00_prepare_data_for_training_and_view.ipynb for more details)  \n",
    "\n",
    "You can load the CSV file directly from Google Cloud Storage, but you don't need to keep your images on Google Cloud to use Model Maker. You can specify a local CSV file on your computer, and Model Maker will work just fine.\n"
   ]
  },
  {
   "cell_type": "code",
   "execution_count": 6,
   "metadata": {
    "execution": {
     "iopub.execute_input": "2022-05-26T11:26:47.591650Z",
     "iopub.status.busy": "2022-05-26T11:26:47.591182Z",
     "iopub.status.idle": "2022-05-26T11:27:40.826688Z",
     "shell.execute_reply": "2022-05-26T11:27:40.825755Z"
    },
    "id": "HD5BvzWe6YKa"
   },
   "outputs": [],
   "source": [
    "train_data, validation_data, test_data = object_detector.DataLoader.from_csv(\n",
    "    f'gs://training_csvs/{csv_name}')"
   ]
  },
  {
   "cell_type": "code",
   "execution_count": 7,
   "metadata": {},
   "outputs": [
    {
     "data": {
      "text/plain": [
       "tensorflow_examples.lite.model_maker.core.data_util.object_detector_dataloader.DataLoader"
      ]
     },
     "execution_count": 7,
     "metadata": {},
     "output_type": "execute_result"
    }
   ],
   "source": [
    "type(train_data)"
   ]
  },
  {
   "cell_type": "markdown",
   "metadata": {},
   "source": [
    "## Choosing a pretrained model:"
   ]
  },
  {
   "cell_type": "markdown",
   "metadata": {
    "id": "vn61LJ9QbOPi"
   },
   "source": [
    "EfficientDet-Lite[0-4] are a family of mobile/IoT-friendly object detection models derived from the [EfficientDet](https://arxiv.org/abs/1911.09070) architecture. (details in the paper)\n",
    "\n",
    "Here is the performance of each EfficientDet-Lite models compared to each others.\n",
    "\n",
    "| Model architecture | Size(MB)* | Latency(ms)** | Average Precision*** |\n",
    "|--------------------|-----------|---------------|----------------------|\n",
    "| EfficientDet-Lite0 | 4.4       | 37            | 25.69%               |\n",
    "| EfficientDet-Lite1 | 5.8       | 49            | 30.55%               |\n",
    "| EfficientDet-Lite2 | 7.2       | 69            | 33.97%               |\n",
    "| EfficientDet-Lite3 | 11.4      | 116           | 37.70%               |\n",
    "| EfficientDet-Lite4 | 19.9      | 260           | 41.96%               |\n",
    "\n",
    "<i> * Size of the integer quantized models. <br/>\n",
    "** Latency measured on Pixel 4 using 4 threads on CPU. <br/>\n",
    "*** Average Precision is the mAP (mean Average Precision) on the COCO 2017 validation dataset.\n",
    "</i>\n"
   ]
  },
  {
   "cell_type": "markdown",
   "metadata": {
    "id": "E8VxPiOLy4Gv"
   },
   "source": [
    "### Customize the EfficientDet model hyperparameters\n",
    "\n",
    "The model and training pipline parameters you can adjust are:\n",
    "\n",
    "* `model_dir`: The location to save the model checkpoint files. If not set, a temporary directory will be used.\n",
    "* `steps_per_execution`: Number of steps per training execution.\n",
    "* `moving_average_decay`: Float. The decay to use for maintaining moving averages of the trained parameters.\n",
    "* `var_freeze_expr`: The regular expression to map the prefix name of variables to be frozen which means remaining the same during training. More specific, use `re.match(var_freeze_expr, variable_name)` in the codebase to map the variables to be frozen.\n",
    "* `tflite_max_detections`: integer, 25 by default. The max number of output detections in the TFLite model.\n",
    "* `strategy`:  A string specifying which distribution strategy to use. Accepted values are 'tpu', 'gpus', None. tpu' means to use TPUStrategy. 'gpus' mean to use MirroredStrategy for multi-gpus. If None, use TF default with OneDeviceStrategy.\n",
    "* `tpu`:  The Cloud TPU to use for training. This should be either the name used when creating the Cloud TPU, or a grpc://ip.address.of.tpu:8470 url.\n",
    "* `use_xla`: Use XLA even if strategy is not tpu. If strategy is tpu, always use XLA, and this flag has no effect.\n",
    "* `profile`: Enable profile mode.\n",
    "* `debug`: Enable debug mode.\n",
    "\n",
    "Other parameters that can be adjusted is shown in [hparams_config.py](https://github.com/google/automl/blob/df451765d467c5ed78bbdfd632810bc1014b123e/efficientdet/hparams_config.py#L170).\n",
    "\n",
    "\n",
    "For instance, you can set the `var_freeze_expr='efficientnet'` which freezes the variables with name prefix `efficientnet` (default is `'(efficientnet|fpn_cells|resample_p6)'`). This allows the model to freeze untrainable variables and keep their value the same through training.\n",
    "\n",
    "```python\n",
    "spec = model_spec.get('efficientdet_lite0')\n",
    "spec.config.var_freeze_expr = 'efficientnet'\n",
    "```"
   ]
  },
  {
   "cell_type": "markdown",
   "metadata": {
    "id": "LvQuy7RSDir3"
   },
   "source": [
    "### Tune the training hyperparameters\n",
    "\n",
    "The `create` function is the driver function that the Model Maker library uses to create models. The `model_spec` parameter defines the model specification. The `object_detector.EfficientDetSpec` class is currently supported. The `create` function comprises of the following steps:\n",
    "\n",
    "1. Creates the model for the object detection according to `model_spec`.\n",
    "2. Trains the model.  The default epochs and the default batch size are set by the `epochs` and `batch_size` variables in the `model_spec` object.\n",
    "You can also tune the training hyperparameters like `epochs` and `batch_size` that affect the model accuracy. For instance,\n",
    "\n",
    "*   `epochs`: Integer, 50 by default. More epochs could achieve better accuracy, but may lead to overfitting.\n",
    "*   `batch_size`: Integer, 64 by default. The number of samples to use in one training step.\n",
    "*   `train_whole_model`: Boolean, False by default. If true, train the whole model. Otherwise, only train the layers that do not match `var_freeze_expr`.\n",
    "\n",
    "For example, you can train with less epochs and only the head layer. You can increase the number of epochs for better results.\n",
    "\n",
    "```python\n",
    "model = object_detector.create(train_data, model_spec=spec, epochs=10, validation_data=validation_data)\n",
    "```"
   ]
  },
  {
   "cell_type": "markdown",
   "metadata": {},
   "source": [
    "## EfficientDet-Lite0"
   ]
  },
  {
   "cell_type": "code",
   "execution_count": 8,
   "metadata": {},
   "outputs": [],
   "source": [
    "model_num = 0\n",
    "model_name = f'efficientdet_lite{model_num}'\n",
    "\n",
    "epochs = 90"
   ]
  },
  {
   "cell_type": "code",
   "execution_count": 9,
   "metadata": {
    "execution": {
     "iopub.execute_input": "2022-05-26T11:26:44.949982Z",
     "iopub.status.busy": "2022-05-26T11:26:44.949248Z",
     "iopub.status.idle": "2022-05-26T11:26:47.587901Z",
     "shell.execute_reply": "2022-05-26T11:26:47.587109Z"
    },
    "id": "CtdZ-JDwMimd"
   },
   "outputs": [
    {
     "name": "stderr",
     "output_type": "stream",
     "text": [
      "2022-08-04 15:57:57.897519: I tensorflow/core/platform/cpu_feature_guard.cc:151] This TensorFlow binary is optimized with oneAPI Deep Neural Network Library (oneDNN) to use the following CPU instructions in performance-critical operations:  AVX2 FMA\n",
      "To enable them in other operations, rebuild TensorFlow with the appropriate compiler flags.\n",
      "2022-08-04 15:57:58.712205: I tensorflow/core/common_runtime/gpu/gpu_device.cc:1525] Created device /job:localhost/replica:0/task:0/device:GPU:0 with 23133 MB memory:  -> device: 0, name: Quadro P6000, pci bus id: 0000:03:00.0, compute capability: 6.1\n"
     ]
    }
   ],
   "source": [
    "## First train the smallest model\n",
    "spec = model_spec.get(model_name)\n",
    "\n",
    "spec.config.model_dir = model_name"
   ]
  },
  {
   "cell_type": "markdown",
   "metadata": {},
   "source": [
    "### Training\n",
    "EfficientDet-Lite0 model uses epochs = 50 by default.  \n",
    "need to look at the validation accuracy during training and stop early to avoid overfitting. (no automatic early stopping?)  \n",
    "Set train_whole_model=True to fine-tune the whole model instead of just training the head layer to improve accuracy. The trade-off is that it may take longer to train the model."
   ]
  },
  {
   "cell_type": "code",
   "execution_count": 10,
   "metadata": {
    "execution": {
     "iopub.execute_input": "2022-05-26T11:27:40.831473Z",
     "iopub.status.busy": "2022-05-26T11:27:40.830887Z",
     "iopub.status.idle": "2022-05-26T11:33:38.722703Z",
     "shell.execute_reply": "2022-05-26T11:33:38.721920Z"
    },
    "id": "kwlYdTcg63xy"
   },
   "outputs": [
    {
     "name": "stdout",
     "output_type": "stream",
     "text": [
      "Epoch 1/90\n"
     ]
    },
    {
     "name": "stderr",
     "output_type": "stream",
     "text": [
      "2022-08-04 15:58:37.954303: I tensorflow/stream_executor/cuda/cuda_dnn.cc:368] Loaded cuDNN version 8100\n",
      "2022-08-04 15:58:38.236061: I tensorflow/core/platform/default/subprocess.cc:304] Start cannot spawn child process: No such file or directory\n",
      "2022-08-04 15:58:38.237178: I tensorflow/core/platform/default/subprocess.cc:304] Start cannot spawn child process: No such file or directory\n",
      "2022-08-04 15:58:38.237217: W tensorflow/stream_executor/gpu/asm_compiler.cc:80] Couldn't get ptxas version string: INTERNAL: Couldn't invoke ptxas --version\n",
      "2022-08-04 15:58:38.238549: I tensorflow/core/platform/default/subprocess.cc:304] Start cannot spawn child process: No such file or directory\n",
      "2022-08-04 15:58:38.238691: W tensorflow/stream_executor/gpu/redzone_allocator.cc:314] INTERNAL: Failed to launch ptxas\n",
      "Relying on driver to perform ptx compilation. \n",
      "Modify $PATH to customize ptxas location.\n",
      "This message will be only logged once.\n"
     ]
    },
    {
     "name": "stdout",
     "output_type": "stream",
     "text": [
      "15/15 [==============================] - 36s 496ms/step - det_loss: 2.0355 - cls_loss: 1.0990 - box_loss: 0.0187 - reg_l2_loss: 0.0630 - loss: 2.0985 - learning_rate: 0.0090 - gradient_norm: 0.8619 - val_det_loss: 1.7008 - val_cls_loss: 1.0396 - val_box_loss: 0.0132 - val_reg_l2_loss: 0.0630 - val_loss: 1.7638\n",
      "Epoch 2/90\n",
      "15/15 [==============================] - 4s 287ms/step - det_loss: 1.6685 - cls_loss: 0.8904 - box_loss: 0.0156 - reg_l2_loss: 0.0630 - loss: 1.7315 - learning_rate: 0.0100 - gradient_norm: 1.2049 - val_det_loss: 1.1647 - val_cls_loss: 0.5995 - val_box_loss: 0.0113 - val_reg_l2_loss: 0.0630 - val_loss: 1.2277\n",
      "Epoch 3/90\n",
      "15/15 [==============================] - 4s 292ms/step - det_loss: 1.1764 - cls_loss: 0.4837 - box_loss: 0.0139 - reg_l2_loss: 0.0630 - loss: 1.2394 - learning_rate: 0.0100 - gradient_norm: 1.8119 - val_det_loss: 0.9381 - val_cls_loss: 0.4596 - val_box_loss: 0.0096 - val_reg_l2_loss: 0.0630 - val_loss: 1.0011\n",
      "Epoch 4/90\n",
      "15/15 [==============================] - 4s 292ms/step - det_loss: 1.0147 - cls_loss: 0.3910 - box_loss: 0.0125 - reg_l2_loss: 0.0630 - loss: 1.0778 - learning_rate: 0.0100 - gradient_norm: 1.7391 - val_det_loss: 0.7724 - val_cls_loss: 0.3653 - val_box_loss: 0.0081 - val_reg_l2_loss: 0.0630 - val_loss: 0.8355\n",
      "Epoch 5/90\n",
      "15/15 [==============================] - 10s 690ms/step - det_loss: 0.7721 - cls_loss: 0.3215 - box_loss: 0.0090 - reg_l2_loss: 0.0630 - loss: 0.8352 - learning_rate: 0.0099 - gradient_norm: 1.3871 - val_det_loss: 0.7382 - val_cls_loss: 0.3747 - val_box_loss: 0.0073 - val_reg_l2_loss: 0.0631 - val_loss: 0.8012\n",
      "Epoch 6/90\n",
      "15/15 [==============================] - 4s 298ms/step - det_loss: 0.6780 - cls_loss: 0.2977 - box_loss: 0.0076 - reg_l2_loss: 0.0631 - loss: 0.7410 - learning_rate: 0.0099 - gradient_norm: 1.4499 - val_det_loss: 0.6103 - val_cls_loss: 0.2937 - val_box_loss: 0.0063 - val_reg_l2_loss: 0.0631 - val_loss: 0.6733\n",
      "Epoch 7/90\n",
      "15/15 [==============================] - 4s 303ms/step - det_loss: 0.6337 - cls_loss: 0.2832 - box_loss: 0.0070 - reg_l2_loss: 0.0631 - loss: 0.6968 - learning_rate: 0.0099 - gradient_norm: 1.4899 - val_det_loss: 0.5954 - val_cls_loss: 0.2856 - val_box_loss: 0.0062 - val_reg_l2_loss: 0.0631 - val_loss: 0.6585\n",
      "Epoch 8/90\n",
      "15/15 [==============================] - 4s 298ms/step - det_loss: 0.6045 - cls_loss: 0.2748 - box_loss: 0.0066 - reg_l2_loss: 0.0631 - loss: 0.6676 - learning_rate: 0.0098 - gradient_norm: 1.5617 - val_det_loss: 0.5411 - val_cls_loss: 0.2637 - val_box_loss: 0.0055 - val_reg_l2_loss: 0.0631 - val_loss: 0.6042\n",
      "Epoch 9/90\n",
      "15/15 [==============================] - 5s 355ms/step - det_loss: 0.5673 - cls_loss: 0.2689 - box_loss: 0.0060 - reg_l2_loss: 0.0631 - loss: 0.6303 - learning_rate: 0.0098 - gradient_norm: 1.5527 - val_det_loss: 0.4811 - val_cls_loss: 0.2363 - val_box_loss: 0.0049 - val_reg_l2_loss: 0.0631 - val_loss: 0.5441\n",
      "Epoch 10/90\n",
      "15/15 [==============================] - 5s 375ms/step - det_loss: 0.5575 - cls_loss: 0.2687 - box_loss: 0.0058 - reg_l2_loss: 0.0631 - loss: 0.6205 - learning_rate: 0.0097 - gradient_norm: 1.5594 - val_det_loss: 0.4737 - val_cls_loss: 0.2613 - val_box_loss: 0.0042 - val_reg_l2_loss: 0.0631 - val_loss: 0.5368\n",
      "Epoch 11/90\n",
      "15/15 [==============================] - 4s 306ms/step - det_loss: 0.5402 - cls_loss: 0.2638 - box_loss: 0.0055 - reg_l2_loss: 0.0631 - loss: 0.6032 - learning_rate: 0.0097 - gradient_norm: 1.6476 - val_det_loss: 0.4384 - val_cls_loss: 0.2253 - val_box_loss: 0.0043 - val_reg_l2_loss: 0.0631 - val_loss: 0.5015\n",
      "Epoch 12/90\n",
      "15/15 [==============================] - 4s 303ms/step - det_loss: 0.5350 - cls_loss: 0.2578 - box_loss: 0.0055 - reg_l2_loss: 0.0631 - loss: 0.5980 - learning_rate: 0.0096 - gradient_norm: 1.7554 - val_det_loss: 0.4440 - val_cls_loss: 0.2321 - val_box_loss: 0.0042 - val_reg_l2_loss: 0.0631 - val_loss: 0.5071\n",
      "Epoch 13/90\n",
      "15/15 [==============================] - 4s 299ms/step - det_loss: 0.5045 - cls_loss: 0.2495 - box_loss: 0.0051 - reg_l2_loss: 0.0631 - loss: 0.5676 - learning_rate: 0.0095 - gradient_norm: 1.5079 - val_det_loss: 0.4448 - val_cls_loss: 0.2379 - val_box_loss: 0.0041 - val_reg_l2_loss: 0.0631 - val_loss: 0.5078\n",
      "Epoch 14/90\n",
      "15/15 [==============================] - 5s 336ms/step - det_loss: 0.4646 - cls_loss: 0.2304 - box_loss: 0.0047 - reg_l2_loss: 0.0631 - loss: 0.5277 - learning_rate: 0.0094 - gradient_norm: 1.3396 - val_det_loss: 0.4224 - val_cls_loss: 0.2185 - val_box_loss: 0.0041 - val_reg_l2_loss: 0.0631 - val_loss: 0.4855\n",
      "Epoch 15/90\n",
      "15/15 [==============================] - 5s 360ms/step - det_loss: 0.4595 - cls_loss: 0.2295 - box_loss: 0.0046 - reg_l2_loss: 0.0631 - loss: 0.5226 - learning_rate: 0.0094 - gradient_norm: 1.4227 - val_det_loss: 0.4019 - val_cls_loss: 0.2271 - val_box_loss: 0.0035 - val_reg_l2_loss: 0.0631 - val_loss: 0.4650\n",
      "Epoch 16/90\n",
      "15/15 [==============================] - 4s 297ms/step - det_loss: 0.4581 - cls_loss: 0.2343 - box_loss: 0.0045 - reg_l2_loss: 0.0631 - loss: 0.5212 - learning_rate: 0.0093 - gradient_norm: 1.4371 - val_det_loss: 0.4051 - val_cls_loss: 0.2283 - val_box_loss: 0.0035 - val_reg_l2_loss: 0.0631 - val_loss: 0.4682\n",
      "Epoch 17/90\n",
      "15/15 [==============================] - 4s 294ms/step - det_loss: 0.5066 - cls_loss: 0.2533 - box_loss: 0.0051 - reg_l2_loss: 0.0631 - loss: 0.5697 - learning_rate: 0.0092 - gradient_norm: 1.8001 - val_det_loss: 0.4198 - val_cls_loss: 0.2247 - val_box_loss: 0.0039 - val_reg_l2_loss: 0.0631 - val_loss: 0.4828\n",
      "Epoch 18/90\n",
      "15/15 [==============================] - 5s 342ms/step - det_loss: 0.4487 - cls_loss: 0.2272 - box_loss: 0.0044 - reg_l2_loss: 0.0631 - loss: 0.5118 - learning_rate: 0.0091 - gradient_norm: 1.5114 - val_det_loss: 0.4084 - val_cls_loss: 0.2219 - val_box_loss: 0.0037 - val_reg_l2_loss: 0.0631 - val_loss: 0.4715\n",
      "Epoch 19/90\n",
      "15/15 [==============================] - 4s 290ms/step - det_loss: 0.4477 - cls_loss: 0.2264 - box_loss: 0.0044 - reg_l2_loss: 0.0631 - loss: 0.5108 - learning_rate: 0.0090 - gradient_norm: 1.4862 - val_det_loss: 0.3858 - val_cls_loss: 0.2069 - val_box_loss: 0.0036 - val_reg_l2_loss: 0.0631 - val_loss: 0.4489\n",
      "Epoch 20/90\n",
      "15/15 [==============================] - 5s 366ms/step - det_loss: 0.4292 - cls_loss: 0.2198 - box_loss: 0.0042 - reg_l2_loss: 0.0631 - loss: 0.4922 - learning_rate: 0.0089 - gradient_norm: 1.4712 - val_det_loss: 0.3759 - val_cls_loss: 0.2065 - val_box_loss: 0.0034 - val_reg_l2_loss: 0.0631 - val_loss: 0.4389\n",
      "Epoch 21/90\n",
      "15/15 [==============================] - 4s 293ms/step - det_loss: 0.4196 - cls_loss: 0.2166 - box_loss: 0.0041 - reg_l2_loss: 0.0631 - loss: 0.4827 - learning_rate: 0.0087 - gradient_norm: 1.3273 - val_det_loss: 0.3606 - val_cls_loss: 0.2055 - val_box_loss: 0.0031 - val_reg_l2_loss: 0.0631 - val_loss: 0.4237\n",
      "Epoch 22/90\n",
      "15/15 [==============================] - 4s 294ms/step - det_loss: 0.4109 - cls_loss: 0.2193 - box_loss: 0.0038 - reg_l2_loss: 0.0631 - loss: 0.4740 - learning_rate: 0.0086 - gradient_norm: 1.4888 - val_det_loss: 0.3558 - val_cls_loss: 0.2064 - val_box_loss: 0.0030 - val_reg_l2_loss: 0.0631 - val_loss: 0.4189\n",
      "Epoch 23/90\n",
      "15/15 [==============================] - 5s 344ms/step - det_loss: 0.4197 - cls_loss: 0.2167 - box_loss: 0.0041 - reg_l2_loss: 0.0631 - loss: 0.4828 - learning_rate: 0.0085 - gradient_norm: 1.4521 - val_det_loss: 0.3465 - val_cls_loss: 0.2003 - val_box_loss: 0.0029 - val_reg_l2_loss: 0.0631 - val_loss: 0.4096\n",
      "Epoch 24/90\n",
      "15/15 [==============================] - 4s 287ms/step - det_loss: 0.4267 - cls_loss: 0.2160 - box_loss: 0.0042 - reg_l2_loss: 0.0631 - loss: 0.4897 - learning_rate: 0.0084 - gradient_norm: 1.5127 - val_det_loss: 0.3671 - val_cls_loss: 0.2081 - val_box_loss: 0.0032 - val_reg_l2_loss: 0.0631 - val_loss: 0.4302\n",
      "Epoch 25/90\n",
      "15/15 [==============================] - 5s 354ms/step - det_loss: 0.3993 - cls_loss: 0.2065 - box_loss: 0.0039 - reg_l2_loss: 0.0631 - loss: 0.4624 - learning_rate: 0.0082 - gradient_norm: 1.2583 - val_det_loss: 0.3403 - val_cls_loss: 0.1983 - val_box_loss: 0.0028 - val_reg_l2_loss: 0.0631 - val_loss: 0.4033\n",
      "Epoch 26/90\n"
     ]
    },
    {
     "name": "stdout",
     "output_type": "stream",
     "text": [
      "15/15 [==============================] - 4s 291ms/step - det_loss: 0.4001 - cls_loss: 0.2096 - box_loss: 0.0038 - reg_l2_loss: 0.0631 - loss: 0.4632 - learning_rate: 0.0081 - gradient_norm: 1.3237 - val_det_loss: 0.3476 - val_cls_loss: 0.1973 - val_box_loss: 0.0030 - val_reg_l2_loss: 0.0631 - val_loss: 0.4107\n",
      "Epoch 27/90\n",
      "15/15 [==============================] - 5s 345ms/step - det_loss: 0.3880 - cls_loss: 0.2044 - box_loss: 0.0037 - reg_l2_loss: 0.0631 - loss: 0.4511 - learning_rate: 0.0080 - gradient_norm: 1.3362 - val_det_loss: 0.3585 - val_cls_loss: 0.2125 - val_box_loss: 0.0029 - val_reg_l2_loss: 0.0631 - val_loss: 0.4216\n",
      "Epoch 28/90\n",
      "15/15 [==============================] - 4s 295ms/step - det_loss: 0.3798 - cls_loss: 0.2017 - box_loss: 0.0036 - reg_l2_loss: 0.0631 - loss: 0.4429 - learning_rate: 0.0078 - gradient_norm: 1.2600 - val_det_loss: 0.3436 - val_cls_loss: 0.2080 - val_box_loss: 0.0027 - val_reg_l2_loss: 0.0631 - val_loss: 0.4067\n",
      "Epoch 29/90\n",
      "15/15 [==============================] - 4s 298ms/step - det_loss: 0.3785 - cls_loss: 0.1941 - box_loss: 0.0037 - reg_l2_loss: 0.0631 - loss: 0.4415 - learning_rate: 0.0077 - gradient_norm: 1.3495 - val_det_loss: 0.3339 - val_cls_loss: 0.1964 - val_box_loss: 0.0027 - val_reg_l2_loss: 0.0631 - val_loss: 0.3970\n",
      "Epoch 30/90\n",
      "15/15 [==============================] - 5s 360ms/step - det_loss: 0.3725 - cls_loss: 0.1983 - box_loss: 0.0035 - reg_l2_loss: 0.0631 - loss: 0.4356 - learning_rate: 0.0075 - gradient_norm: 1.2266 - val_det_loss: 0.3246 - val_cls_loss: 0.1951 - val_box_loss: 0.0026 - val_reg_l2_loss: 0.0631 - val_loss: 0.3876\n",
      "Epoch 31/90\n",
      "15/15 [==============================] - 4s 301ms/step - det_loss: 0.3764 - cls_loss: 0.2046 - box_loss: 0.0034 - reg_l2_loss: 0.0631 - loss: 0.4395 - learning_rate: 0.0074 - gradient_norm: 1.3749 - val_det_loss: 0.3318 - val_cls_loss: 0.1941 - val_box_loss: 0.0028 - val_reg_l2_loss: 0.0631 - val_loss: 0.3948\n",
      "Epoch 32/90\n",
      "15/15 [==============================] - 5s 354ms/step - det_loss: 0.3861 - cls_loss: 0.1940 - box_loss: 0.0038 - reg_l2_loss: 0.0631 - loss: 0.4492 - learning_rate: 0.0072 - gradient_norm: 1.4047 - val_det_loss: 0.3166 - val_cls_loss: 0.1832 - val_box_loss: 0.0027 - val_reg_l2_loss: 0.0631 - val_loss: 0.3797\n",
      "Epoch 33/90\n",
      "15/15 [==============================] - 4s 308ms/step - det_loss: 0.3847 - cls_loss: 0.1962 - box_loss: 0.0038 - reg_l2_loss: 0.0631 - loss: 0.4477 - learning_rate: 0.0071 - gradient_norm: 1.3657 - val_det_loss: 0.3026 - val_cls_loss: 0.1794 - val_box_loss: 0.0025 - val_reg_l2_loss: 0.0631 - val_loss: 0.3656\n",
      "Epoch 34/90\n",
      "15/15 [==============================] - 5s 312ms/step - det_loss: 0.3780 - cls_loss: 0.1968 - box_loss: 0.0036 - reg_l2_loss: 0.0631 - loss: 0.4411 - learning_rate: 0.0069 - gradient_norm: 1.3654 - val_det_loss: 0.3156 - val_cls_loss: 0.1815 - val_box_loss: 0.0027 - val_reg_l2_loss: 0.0631 - val_loss: 0.3787\n",
      "Epoch 35/90\n",
      "15/15 [==============================] - 6s 399ms/step - det_loss: 0.3672 - cls_loss: 0.1927 - box_loss: 0.0035 - reg_l2_loss: 0.0631 - loss: 0.4302 - learning_rate: 0.0067 - gradient_norm: 1.3225 - val_det_loss: 0.3149 - val_cls_loss: 0.1840 - val_box_loss: 0.0026 - val_reg_l2_loss: 0.0631 - val_loss: 0.3780\n",
      "Epoch 36/90\n",
      "15/15 [==============================] - 5s 316ms/step - det_loss: 0.3627 - cls_loss: 0.1939 - box_loss: 0.0034 - reg_l2_loss: 0.0631 - loss: 0.4258 - learning_rate: 0.0066 - gradient_norm: 1.2455 - val_det_loss: 0.3055 - val_cls_loss: 0.1821 - val_box_loss: 0.0025 - val_reg_l2_loss: 0.0631 - val_loss: 0.3686\n",
      "Epoch 37/90\n",
      "15/15 [==============================] - 5s 349ms/step - det_loss: 0.3559 - cls_loss: 0.1897 - box_loss: 0.0033 - reg_l2_loss: 0.0631 - loss: 0.4189 - learning_rate: 0.0064 - gradient_norm: 1.2274 - val_det_loss: 0.3284 - val_cls_loss: 0.1893 - val_box_loss: 0.0028 - val_reg_l2_loss: 0.0631 - val_loss: 0.3914\n",
      "Epoch 38/90\n",
      "15/15 [==============================] - 4s 306ms/step - det_loss: 0.3769 - cls_loss: 0.1893 - box_loss: 0.0038 - reg_l2_loss: 0.0630 - loss: 0.4400 - learning_rate: 0.0062 - gradient_norm: 1.3431 - val_det_loss: 0.3468 - val_cls_loss: 0.2094 - val_box_loss: 0.0027 - val_reg_l2_loss: 0.0630 - val_loss: 0.4098\n",
      "Epoch 39/90\n",
      "15/15 [==============================] - 4s 298ms/step - det_loss: 0.3608 - cls_loss: 0.1904 - box_loss: 0.0034 - reg_l2_loss: 0.0630 - loss: 0.4238 - learning_rate: 0.0061 - gradient_norm: 1.2362 - val_det_loss: 0.3202 - val_cls_loss: 0.1932 - val_box_loss: 0.0025 - val_reg_l2_loss: 0.0630 - val_loss: 0.3832\n",
      "Epoch 40/90\n",
      "15/15 [==============================] - 5s 378ms/step - det_loss: 0.3475 - cls_loss: 0.1850 - box_loss: 0.0033 - reg_l2_loss: 0.0630 - loss: 0.4105 - learning_rate: 0.0059 - gradient_norm: 1.2489 - val_det_loss: 0.3131 - val_cls_loss: 0.1862 - val_box_loss: 0.0025 - val_reg_l2_loss: 0.0630 - val_loss: 0.3762\n",
      "Epoch 41/90\n",
      "15/15 [==============================] - 5s 354ms/step - det_loss: 0.3677 - cls_loss: 0.1870 - box_loss: 0.0036 - reg_l2_loss: 0.0630 - loss: 0.4307 - learning_rate: 0.0057 - gradient_norm: 1.3188 - val_det_loss: 0.3119 - val_cls_loss: 0.1824 - val_box_loss: 0.0026 - val_reg_l2_loss: 0.0630 - val_loss: 0.3750\n",
      "Epoch 42/90\n",
      "15/15 [==============================] - 4s 292ms/step - det_loss: 0.3710 - cls_loss: 0.1882 - box_loss: 0.0037 - reg_l2_loss: 0.0630 - loss: 0.4340 - learning_rate: 0.0055 - gradient_norm: 1.4411 - val_det_loss: 0.3049 - val_cls_loss: 0.1837 - val_box_loss: 0.0024 - val_reg_l2_loss: 0.0630 - val_loss: 0.3679\n",
      "Epoch 43/90\n",
      "15/15 [==============================] - 4s 295ms/step - det_loss: 0.3711 - cls_loss: 0.1934 - box_loss: 0.0036 - reg_l2_loss: 0.0630 - loss: 0.4341 - learning_rate: 0.0054 - gradient_norm: 1.3818 - val_det_loss: 0.2938 - val_cls_loss: 0.1744 - val_box_loss: 0.0024 - val_reg_l2_loss: 0.0630 - val_loss: 0.3569\n",
      "Epoch 44/90\n",
      "15/15 [==============================] - 4s 287ms/step - det_loss: 0.3322 - cls_loss: 0.1762 - box_loss: 0.0031 - reg_l2_loss: 0.0630 - loss: 0.3952 - learning_rate: 0.0052 - gradient_norm: 1.1113 - val_det_loss: 0.2946 - val_cls_loss: 0.1772 - val_box_loss: 0.0023 - val_reg_l2_loss: 0.0630 - val_loss: 0.3576\n",
      "Epoch 45/90\n",
      "15/15 [==============================] - 5s 377ms/step - det_loss: 0.3715 - cls_loss: 0.1889 - box_loss: 0.0037 - reg_l2_loss: 0.0630 - loss: 0.4346 - learning_rate: 0.0050 - gradient_norm: 1.4270 - val_det_loss: 0.2947 - val_cls_loss: 0.1787 - val_box_loss: 0.0023 - val_reg_l2_loss: 0.0630 - val_loss: 0.3577\n",
      "Epoch 46/90\n",
      "15/15 [==============================] - 5s 366ms/step - det_loss: 0.3533 - cls_loss: 0.1814 - box_loss: 0.0034 - reg_l2_loss: 0.0630 - loss: 0.4164 - learning_rate: 0.0048 - gradient_norm: 1.2324 - val_det_loss: 0.2933 - val_cls_loss: 0.1774 - val_box_loss: 0.0023 - val_reg_l2_loss: 0.0630 - val_loss: 0.3564\n",
      "Epoch 47/90\n",
      "15/15 [==============================] - 5s 321ms/step - det_loss: 0.3652 - cls_loss: 0.1876 - box_loss: 0.0036 - reg_l2_loss: 0.0630 - loss: 0.4282 - learning_rate: 0.0046 - gradient_norm: 1.4510 - val_det_loss: 0.3051 - val_cls_loss: 0.1821 - val_box_loss: 0.0025 - val_reg_l2_loss: 0.0630 - val_loss: 0.3682\n",
      "Epoch 48/90\n",
      "15/15 [==============================] - 4s 299ms/step - det_loss: 0.3443 - cls_loss: 0.1807 - box_loss: 0.0033 - reg_l2_loss: 0.0630 - loss: 0.4073 - learning_rate: 0.0045 - gradient_norm: 1.2175 - val_det_loss: 0.3012 - val_cls_loss: 0.1832 - val_box_loss: 0.0024 - val_reg_l2_loss: 0.0630 - val_loss: 0.3642\n",
      "Epoch 49/90\n",
      "15/15 [==============================] - 4s 304ms/step - det_loss: 0.3270 - cls_loss: 0.1717 - box_loss: 0.0031 - reg_l2_loss: 0.0630 - loss: 0.3901 - learning_rate: 0.0043 - gradient_norm: 1.2647 - val_det_loss: 0.3004 - val_cls_loss: 0.1852 - val_box_loss: 0.0023 - val_reg_l2_loss: 0.0630 - val_loss: 0.3634\n",
      "Epoch 50/90\n",
      "15/15 [==============================] - 6s 385ms/step - det_loss: 0.3604 - cls_loss: 0.1848 - box_loss: 0.0035 - reg_l2_loss: 0.0630 - loss: 0.4234 - learning_rate: 0.0041 - gradient_norm: 1.3370 - val_det_loss: 0.2975 - val_cls_loss: 0.1811 - val_box_loss: 0.0023 - val_reg_l2_loss: 0.0630 - val_loss: 0.3605\n",
      "Epoch 51/90\n"
     ]
    },
    {
     "name": "stdout",
     "output_type": "stream",
     "text": [
      "15/15 [==============================] - 5s 354ms/step - det_loss: 0.3446 - cls_loss: 0.1767 - box_loss: 0.0034 - reg_l2_loss: 0.0630 - loss: 0.4076 - learning_rate: 0.0039 - gradient_norm: 1.2159 - val_det_loss: 0.2897 - val_cls_loss: 0.1757 - val_box_loss: 0.0023 - val_reg_l2_loss: 0.0630 - val_loss: 0.3527\n",
      "Epoch 52/90\n",
      "15/15 [==============================] - 4s 295ms/step - det_loss: 0.3696 - cls_loss: 0.1880 - box_loss: 0.0036 - reg_l2_loss: 0.0630 - loss: 0.4326 - learning_rate: 0.0038 - gradient_norm: 1.8900 - val_det_loss: 0.2896 - val_cls_loss: 0.1771 - val_box_loss: 0.0022 - val_reg_l2_loss: 0.0630 - val_loss: 0.3526\n",
      "Epoch 53/90\n",
      "15/15 [==============================] - 4s 288ms/step - det_loss: 0.3548 - cls_loss: 0.1828 - box_loss: 0.0034 - reg_l2_loss: 0.0630 - loss: 0.4178 - learning_rate: 0.0036 - gradient_norm: 1.2767 - val_det_loss: 0.2872 - val_cls_loss: 0.1762 - val_box_loss: 0.0022 - val_reg_l2_loss: 0.0630 - val_loss: 0.3502\n",
      "Epoch 54/90\n",
      "15/15 [==============================] - 4s 300ms/step - det_loss: 0.3495 - cls_loss: 0.1812 - box_loss: 0.0034 - reg_l2_loss: 0.0630 - loss: 0.4125 - learning_rate: 0.0034 - gradient_norm: 1.2950 - val_det_loss: 0.2870 - val_cls_loss: 0.1770 - val_box_loss: 0.0022 - val_reg_l2_loss: 0.0630 - val_loss: 0.3501\n",
      "Epoch 55/90\n",
      "15/15 [==============================] - 6s 420ms/step - det_loss: 0.3637 - cls_loss: 0.1834 - box_loss: 0.0036 - reg_l2_loss: 0.0630 - loss: 0.4267 - learning_rate: 0.0033 - gradient_norm: 1.3275 - val_det_loss: 0.2855 - val_cls_loss: 0.1747 - val_box_loss: 0.0022 - val_reg_l2_loss: 0.0630 - val_loss: 0.3485\n",
      "Epoch 56/90\n",
      "15/15 [==============================] - 5s 314ms/step - det_loss: 0.3399 - cls_loss: 0.1744 - box_loss: 0.0033 - reg_l2_loss: 0.0630 - loss: 0.4029 - learning_rate: 0.0031 - gradient_norm: 1.2073 - val_det_loss: 0.2905 - val_cls_loss: 0.1769 - val_box_loss: 0.0023 - val_reg_l2_loss: 0.0630 - val_loss: 0.3535\n",
      "Epoch 57/90\n",
      "15/15 [==============================] - 5s 315ms/step - det_loss: 0.3587 - cls_loss: 0.1815 - box_loss: 0.0035 - reg_l2_loss: 0.0630 - loss: 0.4217 - learning_rate: 0.0029 - gradient_norm: 1.2410 - val_det_loss: 0.2890 - val_cls_loss: 0.1762 - val_box_loss: 0.0023 - val_reg_l2_loss: 0.0630 - val_loss: 0.3520\n",
      "Epoch 58/90\n",
      "15/15 [==============================] - 4s 299ms/step - det_loss: 0.3295 - cls_loss: 0.1778 - box_loss: 0.0030 - reg_l2_loss: 0.0630 - loss: 0.3925 - learning_rate: 0.0028 - gradient_norm: 1.2507 - val_det_loss: 0.2844 - val_cls_loss: 0.1734 - val_box_loss: 0.0022 - val_reg_l2_loss: 0.0630 - val_loss: 0.3474\n",
      "Epoch 59/90\n",
      "15/15 [==============================] - 4s 304ms/step - det_loss: 0.3510 - cls_loss: 0.1801 - box_loss: 0.0034 - reg_l2_loss: 0.0630 - loss: 0.4141 - learning_rate: 0.0026 - gradient_norm: 1.3265 - val_det_loss: 0.2901 - val_cls_loss: 0.1776 - val_box_loss: 0.0022 - val_reg_l2_loss: 0.0630 - val_loss: 0.3531\n",
      "Epoch 60/90\n",
      "15/15 [==============================] - 6s 439ms/step - det_loss: 0.3432 - cls_loss: 0.1787 - box_loss: 0.0033 - reg_l2_loss: 0.0630 - loss: 0.4062 - learning_rate: 0.0025 - gradient_norm: 1.2422 - val_det_loss: 0.2882 - val_cls_loss: 0.1774 - val_box_loss: 0.0022 - val_reg_l2_loss: 0.0630 - val_loss: 0.3512\n",
      "Epoch 61/90\n",
      "15/15 [==============================] - 5s 316ms/step - det_loss: 0.3274 - cls_loss: 0.1776 - box_loss: 0.0030 - reg_l2_loss: 0.0630 - loss: 0.3904 - learning_rate: 0.0023 - gradient_norm: 1.1743 - val_det_loss: 0.2867 - val_cls_loss: 0.1744 - val_box_loss: 0.0022 - val_reg_l2_loss: 0.0630 - val_loss: 0.3497\n",
      "Epoch 62/90\n",
      "15/15 [==============================] - 4s 298ms/step - det_loss: 0.3558 - cls_loss: 0.1817 - box_loss: 0.0035 - reg_l2_loss: 0.0630 - loss: 0.4188 - learning_rate: 0.0022 - gradient_norm: 1.7260 - val_det_loss: 0.2809 - val_cls_loss: 0.1703 - val_box_loss: 0.0022 - val_reg_l2_loss: 0.0630 - val_loss: 0.3439\n",
      "Epoch 63/90\n",
      "15/15 [==============================] - 4s 304ms/step - det_loss: 0.3294 - cls_loss: 0.1747 - box_loss: 0.0031 - reg_l2_loss: 0.0630 - loss: 0.3924 - learning_rate: 0.0020 - gradient_norm: 1.1914 - val_det_loss: 0.2846 - val_cls_loss: 0.1720 - val_box_loss: 0.0023 - val_reg_l2_loss: 0.0630 - val_loss: 0.3476\n",
      "Epoch 64/90\n",
      "15/15 [==============================] - 5s 355ms/step - det_loss: 0.3384 - cls_loss: 0.1835 - box_loss: 0.0031 - reg_l2_loss: 0.0630 - loss: 0.4014 - learning_rate: 0.0019 - gradient_norm: 1.2900 - val_det_loss: 0.2869 - val_cls_loss: 0.1743 - val_box_loss: 0.0023 - val_reg_l2_loss: 0.0630 - val_loss: 0.3499\n",
      "Epoch 65/90\n",
      "15/15 [==============================] - 6s 390ms/step - det_loss: 0.3316 - cls_loss: 0.1754 - box_loss: 0.0031 - reg_l2_loss: 0.0630 - loss: 0.3946 - learning_rate: 0.0018 - gradient_norm: 1.1491 - val_det_loss: 0.2836 - val_cls_loss: 0.1734 - val_box_loss: 0.0022 - val_reg_l2_loss: 0.0630 - val_loss: 0.3466\n",
      "Epoch 66/90\n",
      "15/15 [==============================] - 4s 303ms/step - det_loss: 0.3213 - cls_loss: 0.1736 - box_loss: 0.0030 - reg_l2_loss: 0.0630 - loss: 0.3843 - learning_rate: 0.0016 - gradient_norm: 1.1378 - val_det_loss: 0.2844 - val_cls_loss: 0.1720 - val_box_loss: 0.0022 - val_reg_l2_loss: 0.0630 - val_loss: 0.3474\n",
      "Epoch 67/90\n",
      "15/15 [==============================] - 4s 304ms/step - det_loss: 0.3412 - cls_loss: 0.1808 - box_loss: 0.0032 - reg_l2_loss: 0.0630 - loss: 0.4042 - learning_rate: 0.0015 - gradient_norm: 1.1901 - val_det_loss: 0.2799 - val_cls_loss: 0.1706 - val_box_loss: 0.0022 - val_reg_l2_loss: 0.0630 - val_loss: 0.3429\n",
      "Epoch 68/90\n",
      "15/15 [==============================] - 4s 299ms/step - det_loss: 0.3282 - cls_loss: 0.1755 - box_loss: 0.0031 - reg_l2_loss: 0.0630 - loss: 0.3912 - learning_rate: 0.0014 - gradient_norm: 1.3222 - val_det_loss: 0.2823 - val_cls_loss: 0.1712 - val_box_loss: 0.0022 - val_reg_l2_loss: 0.0630 - val_loss: 0.3453\n",
      "Epoch 69/90\n",
      "15/15 [==============================] - 5s 347ms/step - det_loss: 0.3385 - cls_loss: 0.1796 - box_loss: 0.0032 - reg_l2_loss: 0.0630 - loss: 0.4015 - learning_rate: 0.0013 - gradient_norm: 1.4029 - val_det_loss: 0.2806 - val_cls_loss: 0.1709 - val_box_loss: 0.0022 - val_reg_l2_loss: 0.0630 - val_loss: 0.3436\n",
      "Epoch 70/90\n",
      "15/15 [==============================] - 6s 380ms/step - det_loss: 0.3235 - cls_loss: 0.1704 - box_loss: 0.0031 - reg_l2_loss: 0.0630 - loss: 0.3865 - learning_rate: 0.0011 - gradient_norm: 1.2051 - val_det_loss: 0.2772 - val_cls_loss: 0.1697 - val_box_loss: 0.0021 - val_reg_l2_loss: 0.0630 - val_loss: 0.3402\n",
      "Epoch 71/90\n",
      "15/15 [==============================] - 4s 301ms/step - det_loss: 0.3732 - cls_loss: 0.1788 - box_loss: 0.0039 - reg_l2_loss: 0.0630 - loss: 0.4362 - learning_rate: 0.0010 - gradient_norm: 1.5471 - val_det_loss: 0.2789 - val_cls_loss: 0.1695 - val_box_loss: 0.0022 - val_reg_l2_loss: 0.0630 - val_loss: 0.3419\n",
      "Epoch 72/90\n",
      "15/15 [==============================] - 4s 299ms/step - det_loss: 0.3286 - cls_loss: 0.1716 - box_loss: 0.0031 - reg_l2_loss: 0.0630 - loss: 0.3916 - learning_rate: 9.2468e-04 - gradient_norm: 1.2195 - val_det_loss: 0.2758 - val_cls_loss: 0.1697 - val_box_loss: 0.0021 - val_reg_l2_loss: 0.0630 - val_loss: 0.3388\n",
      "Epoch 73/90\n",
      "15/15 [==============================] - 4s 293ms/step - det_loss: 0.3291 - cls_loss: 0.1712 - box_loss: 0.0032 - reg_l2_loss: 0.0630 - loss: 0.3922 - learning_rate: 8.2500e-04 - gradient_norm: 1.2400 - val_det_loss: 0.2795 - val_cls_loss: 0.1709 - val_box_loss: 0.0022 - val_reg_l2_loss: 0.0630 - val_loss: 0.3425\n",
      "Epoch 74/90\n",
      "15/15 [==============================] - 5s 344ms/step - det_loss: 0.3098 - cls_loss: 0.1678 - box_loss: 0.0028 - reg_l2_loss: 0.0630 - loss: 0.3728 - learning_rate: 7.3052e-04 - gradient_norm: 1.1069 - val_det_loss: 0.2811 - val_cls_loss: 0.1726 - val_box_loss: 0.0022 - val_reg_l2_loss: 0.0630 - val_loss: 0.3441\n",
      "Epoch 75/90\n",
      "15/15 [==============================] - 5s 366ms/step - det_loss: 0.3120 - cls_loss: 0.1677 - box_loss: 0.0029 - reg_l2_loss: 0.0630 - loss: 0.3750 - learning_rate: 6.4136e-04 - gradient_norm: 1.0726 - val_det_loss: 0.2781 - val_cls_loss: 0.1717 - val_box_loss: 0.0021 - val_reg_l2_loss: 0.0630 - val_loss: 0.3411\n",
      "Epoch 76/90\n"
     ]
    },
    {
     "name": "stdout",
     "output_type": "stream",
     "text": [
      "15/15 [==============================] - 4s 302ms/step - det_loss: 0.3145 - cls_loss: 0.1638 - box_loss: 0.0030 - reg_l2_loss: 0.0630 - loss: 0.3775 - learning_rate: 5.5764e-04 - gradient_norm: 1.1177 - val_det_loss: 0.2781 - val_cls_loss: 0.1712 - val_box_loss: 0.0021 - val_reg_l2_loss: 0.0630 - val_loss: 0.3411\n",
      "Epoch 77/90\n",
      "15/15 [==============================] - 4s 296ms/step - det_loss: 0.3287 - cls_loss: 0.1744 - box_loss: 0.0031 - reg_l2_loss: 0.0630 - loss: 0.3917 - learning_rate: 4.7944e-04 - gradient_norm: 1.1724 - val_det_loss: 0.2816 - val_cls_loss: 0.1727 - val_box_loss: 0.0022 - val_reg_l2_loss: 0.0630 - val_loss: 0.3446\n",
      "Epoch 78/90\n",
      "15/15 [==============================] - 5s 347ms/step - det_loss: 0.3252 - cls_loss: 0.1699 - box_loss: 0.0031 - reg_l2_loss: 0.0630 - loss: 0.3882 - learning_rate: 4.0688e-04 - gradient_norm: 1.1144 - val_det_loss: 0.2791 - val_cls_loss: 0.1724 - val_box_loss: 0.0021 - val_reg_l2_loss: 0.0630 - val_loss: 0.3421\n",
      "Epoch 79/90\n",
      "15/15 [==============================] - 5s 311ms/step - det_loss: 0.3300 - cls_loss: 0.1716 - box_loss: 0.0032 - reg_l2_loss: 0.0630 - loss: 0.3930 - learning_rate: 3.4005e-04 - gradient_norm: 1.0581 - val_det_loss: 0.2791 - val_cls_loss: 0.1723 - val_box_loss: 0.0021 - val_reg_l2_loss: 0.0630 - val_loss: 0.3421\n",
      "Epoch 80/90\n",
      "15/15 [==============================] - 5s 378ms/step - det_loss: 0.3189 - cls_loss: 0.1674 - box_loss: 0.0030 - reg_l2_loss: 0.0630 - loss: 0.3819 - learning_rate: 2.7901e-04 - gradient_norm: 1.1533 - val_det_loss: 0.2794 - val_cls_loss: 0.1722 - val_box_loss: 0.0021 - val_reg_l2_loss: 0.0630 - val_loss: 0.3424\n",
      "Epoch 81/90\n",
      "15/15 [==============================] - 4s 304ms/step - det_loss: 0.3263 - cls_loss: 0.1717 - box_loss: 0.0031 - reg_l2_loss: 0.0630 - loss: 0.3893 - learning_rate: 2.2386e-04 - gradient_norm: 1.1664 - val_det_loss: 0.2805 - val_cls_loss: 0.1726 - val_box_loss: 0.0022 - val_reg_l2_loss: 0.0630 - val_loss: 0.3435\n",
      "Epoch 82/90\n",
      "15/15 [==============================] - 4s 295ms/step - det_loss: 0.3275 - cls_loss: 0.1735 - box_loss: 0.0031 - reg_l2_loss: 0.0630 - loss: 0.3905 - learning_rate: 1.7466e-04 - gradient_norm: 1.1608 - val_det_loss: 0.2799 - val_cls_loss: 0.1724 - val_box_loss: 0.0022 - val_reg_l2_loss: 0.0630 - val_loss: 0.3429\n",
      "Epoch 83/90\n",
      "15/15 [==============================] - 5s 337ms/step - det_loss: 0.3256 - cls_loss: 0.1705 - box_loss: 0.0031 - reg_l2_loss: 0.0630 - loss: 0.3886 - learning_rate: 1.3147e-04 - gradient_norm: 1.1679 - val_det_loss: 0.2794 - val_cls_loss: 0.1722 - val_box_loss: 0.0021 - val_reg_l2_loss: 0.0630 - val_loss: 0.3424\n",
      "Epoch 84/90\n",
      "15/15 [==============================] - 4s 283ms/step - det_loss: 0.3508 - cls_loss: 0.1795 - box_loss: 0.0034 - reg_l2_loss: 0.0630 - loss: 0.4138 - learning_rate: 9.4352e-05 - gradient_norm: 1.2935 - val_det_loss: 0.2788 - val_cls_loss: 0.1718 - val_box_loss: 0.0021 - val_reg_l2_loss: 0.0630 - val_loss: 0.3418\n",
      "Epoch 85/90\n",
      "15/15 [==============================] - 5s 344ms/step - det_loss: 0.3510 - cls_loss: 0.1834 - box_loss: 0.0034 - reg_l2_loss: 0.0630 - loss: 0.4140 - learning_rate: 6.3341e-05 - gradient_norm: 1.5837 - val_det_loss: 0.2780 - val_cls_loss: 0.1713 - val_box_loss: 0.0021 - val_reg_l2_loss: 0.0630 - val_loss: 0.3410\n",
      "Epoch 86/90\n",
      "15/15 [==============================] - 4s 296ms/step - det_loss: 0.3169 - cls_loss: 0.1682 - box_loss: 0.0030 - reg_l2_loss: 0.0630 - loss: 0.3799 - learning_rate: 3.8481e-05 - gradient_norm: 1.0385 - val_det_loss: 0.2782 - val_cls_loss: 0.1716 - val_box_loss: 0.0021 - val_reg_l2_loss: 0.0630 - val_loss: 0.3412\n",
      "Epoch 87/90\n",
      "15/15 [==============================] - 4s 284ms/step - det_loss: 0.3445 - cls_loss: 0.1773 - box_loss: 0.0033 - reg_l2_loss: 0.0630 - loss: 0.4075 - learning_rate: 1.9802e-05 - gradient_norm: 1.3281 - val_det_loss: 0.2784 - val_cls_loss: 0.1717 - val_box_loss: 0.0021 - val_reg_l2_loss: 0.0630 - val_loss: 0.3414\n",
      "Epoch 88/90\n",
      "15/15 [==============================] - 5s 332ms/step - det_loss: 0.3290 - cls_loss: 0.1754 - box_loss: 0.0031 - reg_l2_loss: 0.0630 - loss: 0.3920 - learning_rate: 7.3277e-06 - gradient_norm: 1.1650 - val_det_loss: 0.2785 - val_cls_loss: 0.1718 - val_box_loss: 0.0021 - val_reg_l2_loss: 0.0630 - val_loss: 0.3415\n",
      "Epoch 89/90\n",
      "15/15 [==============================] - 4s 292ms/step - det_loss: 0.3214 - cls_loss: 0.1727 - box_loss: 0.0030 - reg_l2_loss: 0.0630 - loss: 0.3844 - learning_rate: 1.0737e-06 - gradient_norm: 1.2194 - val_det_loss: 0.2790 - val_cls_loss: 0.1721 - val_box_loss: 0.0021 - val_reg_l2_loss: 0.0630 - val_loss: 0.3419\n",
      "Epoch 90/90\n",
      "15/15 [==============================] - 5s 356ms/step - det_loss: 0.3241 - cls_loss: 0.1717 - box_loss: 0.0030 - reg_l2_loss: 0.0630 - loss: 0.3871 - learning_rate: 1.0478e-06 - gradient_norm: 1.1273 - val_det_loss: 0.2788 - val_cls_loss: 0.1720 - val_box_loss: 0.0021 - val_reg_l2_loss: 0.0630 - val_loss: 0.3418\n"
     ]
    }
   ],
   "source": [
    "model = object_detector.create(train_data, \n",
    "                               model_spec=spec, \n",
    "                               batch_size=8,\n",
    "                               epochs=epochs,\n",
    "                               train_whole_model=True, \n",
    "                               validation_data=validation_data)"
   ]
  },
  {
   "cell_type": "code",
   "execution_count": 11,
   "metadata": {},
   "outputs": [],
   "source": [
    "## Need to update Nvidia-Driver version. Schade"
   ]
  },
  {
   "cell_type": "code",
   "execution_count": 12,
   "metadata": {},
   "outputs": [],
   "source": [
    "## Looks like maybe the learning rate should be lower for epoch ~60, need to adjust \n",
    "## (link to all hyperparameters above)\n",
    "\n",
    "## If as is, should have probably stopped at epoch ~80."
   ]
  },
  {
   "cell_type": "markdown",
   "metadata": {
    "id": "-BzCHLWJ6h7q"
   },
   "source": [
    "### Evaluating\n",
    "\n",
    "From https://cocodataset.org/#detection-eval:  \n",
    "\n",
    "Average Precision (AP):  \n",
    "AP  \n",
    "% AP at IoU=.50:.05:.95 (primary challenge metric)  \n",
    "APIoU=.50  \n",
    "% AP at IoU=.50 (PASCAL VOC metric)  \n",
    "APIoU=.75  \n",
    "% AP at IoU=.75 (strict metric)  \n",
    "AP Across Scales:  \n",
    "APsmall  \n",
    "% AP for small objects: area < 322  \n",
    "APmedium  \n",
    "% AP for medium objects: 322 < area < 962  \n",
    "APlarge  \n",
    "% AP for large objects: area > 962  \n",
    "Average Recall (AR):  \n",
    "ARmax=1  \n",
    "% AR given 1 detection per image  \n",
    "ARmax=10  \n",
    "% AR given 10 detections per image  \n",
    "ARmax=100  \n",
    "% AR given 100 detections per image  \n",
    "AR Across Scales:  \n",
    "ARsmall  \n",
    "% AR for small objects: area < 322  \n",
    "ARmedium  \n",
    "% AR for medium objects: 322 < area < 962  \n",
    "ARlarge  \n",
    "% AR for large objects: area > 962  \n"
   ]
  },
  {
   "cell_type": "code",
   "execution_count": 13,
   "metadata": {
    "execution": {
     "iopub.execute_input": "2022-05-26T11:33:38.728247Z",
     "iopub.status.busy": "2022-05-26T11:33:38.727660Z",
     "iopub.status.idle": "2022-05-26T11:33:45.580646Z",
     "shell.execute_reply": "2022-05-26T11:33:45.579902Z"
    },
    "id": "8xmnl6Yy7ARn"
   },
   "outputs": [],
   "source": [
    "%%capture cap --no-stderr\n",
    "\n",
    "model.evaluate(test_data)"
   ]
  },
  {
   "cell_type": "code",
   "execution_count": 15,
   "metadata": {},
   "outputs": [
    {
     "name": "stdout",
     "output_type": "stream",
     "text": [
      "\r",
      "1/1 [==============================] - 4s 4s/step\n",
      "\n"
     ]
    },
    {
     "data": {
      "text/plain": [
       "{'AP': 0.36688063,\n",
       " 'AP50': 0.6299745,\n",
       " 'AP75': 0.38016248,\n",
       " 'APs': 0.2575144,\n",
       " 'APm': 0.58892274,\n",
       " 'APl': 0.6410678,\n",
       " 'ARmax1': 0.020284697,\n",
       " 'ARmax10': 0.17224199,\n",
       " 'ARmax100': 0.45017794,\n",
       " 'ARs': 0.33687,\n",
       " 'ARm': 0.67134506,\n",
       " 'ARl': 0.76666665,\n",
       " 'AP_/label': -1.0,\n",
       " 'AP_/climbing_hold': 0.36688063}"
      ]
     },
     "metadata": {},
     "output_type": "display_data"
    }
   ],
   "source": [
    "with open(f'evaluation_EfficientDet{model_num}_preLite.txt', 'w') as f:\n",
    "    f.write(\"\\n\".join(str(cap.outputs[0].data).split('\\\\n')))\n",
    "    \n",
    "cap()"
   ]
  },
  {
   "cell_type": "markdown",
   "metadata": {
    "id": "CgCDMe0e6jlT"
   },
   "source": [
    "### Export as a TensorFlow Lite model\n",
    "\n",
    "Export the trained object detection model to the TensorFlow Lite format by specifying which folder you want to export the quantized model to. The default post-training quantization technique is full integer quantization."
   ]
  },
  {
   "cell_type": "code",
   "execution_count": 16,
   "metadata": {
    "execution": {
     "iopub.execute_input": "2022-05-26T11:33:45.584118Z",
     "iopub.status.busy": "2022-05-26T11:33:45.583857Z",
     "iopub.status.idle": "2022-05-26T11:35:06.037870Z",
     "shell.execute_reply": "2022-05-26T11:35:06.036963Z"
    },
    "id": "Hm_UULdW7A9T",
    "scrolled": true
   },
   "outputs": [
    {
     "name": "stderr",
     "output_type": "stream",
     "text": [
      "2022-08-04 16:05:58.434956: W tensorflow/python/util/util.cc:368] Sets are not currently considered sequences, but this may change in the future, so consider avoiding using them.\n",
      "2022-08-04 16:06:29.341405: W tensorflow/core/common_runtime/graph_constructor.cc:803] Node 'resample_p7/PartitionedCall' has 1 outputs but the _output_shapes attribute specifies shapes for 3 outputs. Output shapes may be inaccurate.\n",
      "2022-08-04 16:06:36.764834: W tensorflow/compiler/mlir/lite/python/tf_tfl_flatbuffer_helpers.cc:357] Ignored output_format.\n",
      "2022-08-04 16:06:36.764877: W tensorflow/compiler/mlir/lite/python/tf_tfl_flatbuffer_helpers.cc:360] Ignored drop_control_dependency.\n",
      "2022-08-04 16:06:36.766052: I tensorflow/cc/saved_model/reader.cc:43] Reading SavedModel from: /tmp/tmpnh5aut_6\n",
      "2022-08-04 16:06:36.888233: I tensorflow/cc/saved_model/reader.cc:78] Reading meta graph with tags { serve }\n",
      "2022-08-04 16:06:36.888281: I tensorflow/cc/saved_model/reader.cc:119] Reading SavedModel debug info (if present) from: /tmp/tmpnh5aut_6\n",
      "2022-08-04 16:06:37.320194: I tensorflow/cc/saved_model/loader.cc:228] Restoring SavedModel bundle.\n",
      "2022-08-04 16:06:39.437632: I tensorflow/cc/saved_model/loader.cc:212] Running initialization op on SavedModel bundle at path: /tmp/tmpnh5aut_6\n",
      "2022-08-04 16:06:40.373509: I tensorflow/cc/saved_model/loader.cc:301] SavedModel load for tags { serve }; Status: success: OK. Took 3607458 microseconds.\n",
      "2022-08-04 16:06:42.124189: I tensorflow/compiler/mlir/tensorflow/utils/dump_mlir_util.cc:237] disabling MLIR crash reproducer, set env var `MLIR_CRASH_REPRODUCER_DIRECTORY` to enable.\n",
      "2022-08-04 16:06:44.395320: I tensorflow/compiler/mlir/lite/flatbuffer_export.cc:1963] Estimated count of arithmetic ops: 1.752 G  ops, equivalently 0.876 G  MACs\n",
      "\n",
      "fully_quantize: 0, inference_type: 6, input_inference_type: 3, output_inference_type: 0\n",
      "2022-08-04 16:07:13.693048: I tensorflow/compiler/mlir/lite/flatbuffer_export.cc:1963] Estimated count of arithmetic ops: 1.752 G  ops, equivalently 0.876 G  MACs\n",
      "\n"
     ]
    }
   ],
   "source": [
    "model.export(export_dir='.', tflite_filename=f'model{model_num}.tflite')"
   ]
  },
  {
   "cell_type": "code",
   "execution_count": 17,
   "metadata": {},
   "outputs": [],
   "source": [
    "## Those warnings are the default output - info below"
   ]
  },
  {
   "cell_type": "markdown",
   "metadata": {
    "id": "3vPyZInPxJBT"
   },
   "source": [
    "### Export to different formats"
   ]
  },
  {
   "cell_type": "markdown",
   "metadata": {
    "id": "0xqNIcBM-4YR"
   },
   "source": [
    "The export formats can be one or a list of the following:\n",
    "\n",
    "*   `ExportFormat.TFLITE`\n",
    "*   `ExportFormat.LABEL`\n",
    "*   `ExportFormat.SAVED_MODEL`\n",
    "\n",
    "\n"
   ]
  },
  {
   "cell_type": "markdown",
   "metadata": {
    "id": "enhsZhW3ApcX"
   },
   "source": [
    "By default, it exports only the TensorFlow Lite model file containing the model [metadata](https://www.tensorflow.org/lite/models/convert/metadata) so that you can later use in an on-device ML application. The label file is embedded in metadata.\n",
    "\n",
    "In many on-device ML application, the model size is an important factor. Therefore, it is recommended that you quantize the model to make it smaller and potentially run faster. As for EfficientDet-Lite models, full integer quantization  is used to quantize the model by default. Please refer to [Post-training quantization](https://www.tensorflow.org/lite/performance/post_training_quantization) for more detail.\n",
    "\n",
    "```python\n",
    "model.export(export_dir='.')\n",
    "```"
   ]
  },
  {
   "cell_type": "markdown",
   "metadata": {
    "id": "RLGZs6InAnP5"
   },
   "source": [
    "You can also choose to export other files related to the model for better examination. For instance, exporting both the saved model and the label file as follows:\n",
    "```python\n",
    "model.export(export_dir='.', export_format=[ExportFormat.SAVED_MODEL, ExportFormat.LABEL])\n",
    "```"
   ]
  },
  {
   "cell_type": "markdown",
   "metadata": {
    "id": "W5q_McchQ2C4"
   },
   "source": [
    "### Customize Post-training quantization on the TensorFlow Lite model\n",
    "\n",
    "[Post-training quantization](https://www.tensorflow.org/lite/performance/post_training_quantization) is a conversion technique that can reduce model size and inference latency, while also improving CPU and hardware accelerator inference speed, with a little degradation in model accuracy. Thus, it's widely used to optimize the model.\n",
    "\n",
    "Model Maker library applies a default post-training quantization techique when exporting the model. If you want to customize post-training quantization, Model Maker supports multiple post-training quantization options using [QuantizationConfig](https://www.tensorflow.org/lite/api_docs/python/tflite_model_maker/config/QuantizationConfig) as well. Let's take float16 quantization as an instance. First, define the quantization config.\n",
    "\n",
    "```python\n",
    "config = QuantizationConfig.for_float16()\n",
    "```\n",
    "\n",
    "\n",
    "Then we export the TensorFlow Lite model with such configuration.\n",
    "\n",
    "```python\n",
    "model.export(export_dir='.', tflite_filename='model_fp16.tflite', quantization_config=config)\n",
    "```"
   ]
  },
  {
   "cell_type": "markdown",
   "metadata": {
    "id": "HS4u77W5gnzQ"
   },
   "source": [
    "# Read more\n",
    "\n",
    "You can read our [object detection](https://www.tensorflow.org/lite/examples/object_detection/overview) example to learn technical details. For more information, please refer to:\n",
    "\n",
    "*   TensorFlow Lite Model Maker [guide](https://www.tensorflow.org/lite/models/modify/model_maker) and [API reference](https://www.tensorflow.org/lite/api_docs/python/tflite_model_maker).\n",
    "*   Task Library: [ObjectDetector](https://www.tensorflow.org/lite/inference_with_metadata/task_library/object_detector) for deployment.\n",
    "*   The end-to-end reference apps: [Android](https://github.com/tensorflow/examples/tree/master/lite/examples/object_detection/android), [iOS](https://github.com/tensorflow/examples/tree/master/lite/examples/object_detection/ios), and [Raspberry PI](https://github.com/tensorflow/examples/tree/master/lite/examples/object_detection/raspberry_pi).\n",
    "\n"
   ]
  },
  {
   "cell_type": "markdown",
   "metadata": {
    "id": "ZQpahAIBqBPp"
   },
   "source": [
    "### Evaluate the TensorFlow Lite model\n",
    "\n",
    "Several factors can affect the model accuracy when exporting to TFLite:\n",
    "* [Quantization](https://www.tensorflow.org/lite/performance/model_optimization) helps shrinking the model size by 4 times at the expense of some accuracy drop.\n",
    "* The original TensorFlow model uses per-class [non-max supression (NMS)](https://www.coursera.org/lecture/convolutional-neural-networks/non-max-suppression-dvrjH) for post-processing, while the TFLite model uses global NMS that's much faster but less accurate.\n",
    "Keras outputs maximum 100 detections while tflite outputs maximum 25 detections.\n",
    "\n",
    "Therefore you'll have to evaluate the exported TFLite model and compare its accuracy with the original TensorFlow model."
   ]
  },
  {
   "cell_type": "code",
   "execution_count": 18,
   "metadata": {
    "execution": {
     "iopub.execute_input": "2022-05-26T11:35:06.042208Z",
     "iopub.status.busy": "2022-05-26T11:35:06.041665Z",
     "iopub.status.idle": "2022-05-26T11:36:04.546499Z",
     "shell.execute_reply": "2022-05-26T11:36:04.545765Z"
    },
    "id": "RS3Ell_lqH4e"
   },
   "outputs": [
    {
     "name": "stderr",
     "output_type": "stream",
     "text": [
      "INFO: Created TensorFlow Lite XNNPACK delegate for CPU.\n"
     ]
    }
   ],
   "source": [
    "%%capture cap --no-stderr\n",
    "\n",
    "model.evaluate_tflite(f'model{model_num}.tflite', test_data)"
   ]
  },
  {
   "cell_type": "code",
   "execution_count": 19,
   "metadata": {},
   "outputs": [],
   "source": [
    "## Thats much much worse. need to figure it out / another model."
   ]
  },
  {
   "cell_type": "code",
   "execution_count": 20,
   "metadata": {},
   "outputs": [
    {
     "name": "stdout",
     "output_type": "stream",
     "text": [
      "\r",
      " 1/15 [=>............................] - ETA: 39s\b\b\b\b\b\b\b\b\b\b\b\b\b\b\b\b\b\b\b\b\b\b\b\b\b\b\b\b\b\b\b\b\b\b\b\b\b\b\b\b\b\b\b\b\b\b\b\b\b\r",
      " 2/15 [===>..........................] - ETA: 29s\b\b\b\b\b\b\b\b\b\b\b\b\b\b\b\b\b\b\b\b\b\b\b\b\b\b\b\b\b\b\b\b\b\b\b\b\b\b\b\b\b\b\b\b\b\b\b\b\b\r",
      " 3/15 [=====>........................] - ETA: 26s\b\b\b\b\b\b\b\b\b\b\b\b\b\b\b\b\b\b\b\b\b\b\b\b\b\b\b\b\b\b\b\b\b\b\b\b\b\b\b\b\b\b\b\b\b\b\b\b\b\r",
      " 4/15 [=======>......................] - ETA: 24s\b\b\b\b\b\b\b\b\b\b\b\b\b\b\b\b\b\b\b\b\b\b\b\b\b\b\b\b\b\b\b\b\b\b\b\b\b\b\b\b\b\b\b\b\b\b\b\b\b\r",
      " 5/15 [=========>....................] - ETA: 22s\b\b\b\b\b\b\b\b\b\b\b\b\b\b\b\b\b\b\b\b\b\b\b\b\b\b\b\b\b\b\b\b\b\b\b\b\b\b\b\b\b\b\b\b\b\b\b\b\b\r",
      " 6/15 [===========>..................] - ETA: 20s\b\b\b\b\b\b\b\b\b\b\b\b\b\b\b\b\b\b\b\b\b\b\b\b\b\b\b\b\b\b\b\b\b\b\b\b\b\b\b\b\b\b\b\b\b\b\b\b\b\r",
      " 7/15 [=============>................] - ETA: 18s\b\b\b\b\b\b\b\b\b\b\b\b\b\b\b\b\b\b\b\b\b\b\b\b\b\b\b\b\b\b\b\b\b\b\b\b\b\b\b\b\b\b\b\b\b\b\b\b\b\r",
      " 8/15 [===============>..............] - ETA: 15s\b\b\b\b\b\b\b\b\b\b\b\b\b\b\b\b\b\b\b\b\b\b\b\b\b\b\b\b\b\b\b\b\b\b\b\b\b\b\b\b\b\b\b\b\b\b\b\b\b\r",
      " 9/15 [=================>............] - ETA: 13s\b\b\b\b\b\b\b\b\b\b\b\b\b\b\b\b\b\b\b\b\b\b\b\b\b\b\b\b\b\b\b\b\b\b\b\b\b\b\b\b\b\b\b\b\b\b\b\b\b\r",
      "10/15 [===================>..........] - ETA: 11s\b\b\b\b\b\b\b\b\b\b\b\b\b\b\b\b\b\b\b\b\b\b\b\b\b\b\b\b\b\b\b\b\b\b\b\b\b\b\b\b\b\b\b\b\b\b\b\b\b\r",
      "11/15 [=====================>........] - ETA: 9s \b\b\b\b\b\b\b\b\b\b\b\b\b\b\b\b\b\b\b\b\b\b\b\b\b\b\b\b\b\b\b\b\b\b\b\b\b\b\b\b\b\b\b\b\b\b\b\b\r",
      "12/15 [=======================>......] - ETA: 6s\b\b\b\b\b\b\b\b\b\b\b\b\b\b\b\b\b\b\b\b\b\b\b\b\b\b\b\b\b\b\b\b\b\b\b\b\b\b\b\b\b\b\b\b\b\b\b\b\r",
      "13/15 [=========================>....] - ETA: 4s\b\b\b\b\b\b\b\b\b\b\b\b\b\b\b\b\b\b\b\b\b\b\b\b\b\b\b\b\b\b\b\b\b\b\b\b\b\b\b\b\b\b\b\b\b\b\b\b\r",
      "14/15 [===========================>..] - ETA: 2s\b\b\b\b\b\b\b\b\b\b\b\b\b\b\b\b\b\b\b\b\b\b\b\b\b\b\b\b\b\b\b\b\b\b\b\b\b\b\b\b\b\b\b\b\b\b\b\b\r",
      "15/15 [==============================] - 35s 2s/step\n",
      "\n"
     ]
    },
    {
     "data": {
      "text/plain": [
       "{'AP': 0.28082144,\n",
       " 'AP50': 0.447756,\n",
       " 'AP75': 0.31311336,\n",
       " 'APs': 0.15442218,\n",
       " 'APm': 0.54207397,\n",
       " 'APl': 0.5846207,\n",
       " 'ARmax1': 0.019928826,\n",
       " 'ARmax10': 0.17081851,\n",
       " 'ARmax100': 0.3144128,\n",
       " 'ARs': 0.17453581,\n",
       " 'ARm': 0.5888889,\n",
       " 'ARl': 0.70666665,\n",
       " 'AP_/label': -1.0,\n",
       " 'AP_/climbing_hold': 0.28082144}"
      ]
     },
     "metadata": {},
     "output_type": "display_data"
    }
   ],
   "source": [
    "with open(f'evaluation_EfficientDet-Lite{model_num}.txt', 'w') as f:\n",
    "    f.write(\"\\n\".join(str(cap.outputs[0].data).split('\\\\n')))\n",
    "    \n",
    "cap()"
   ]
  },
  {
   "cell_type": "markdown",
   "metadata": {},
   "source": [
    "## EfficientDet-Lite1"
   ]
  },
  {
   "cell_type": "code",
   "execution_count": 21,
   "metadata": {},
   "outputs": [
    {
     "name": "stdout",
     "output_type": "stream",
     "text": [
      "Epoch 1/90\n",
      "15/15 [==============================] - 44s 595ms/step - det_loss: 1.8958 - cls_loss: 1.0795 - box_loss: 0.0163 - reg_l2_loss: 0.0706 - loss: 1.9664 - learning_rate: 0.0090 - gradient_norm: 0.8498 - val_det_loss: 1.6072 - val_cls_loss: 1.0084 - val_box_loss: 0.0120 - val_reg_l2_loss: 0.0706 - val_loss: 1.6778\n",
      "Epoch 2/90\n",
      "15/15 [==============================] - 6s 410ms/step - det_loss: 1.4934 - cls_loss: 0.7873 - box_loss: 0.0141 - reg_l2_loss: 0.0706 - loss: 1.5640 - learning_rate: 0.0100 - gradient_norm: 1.5173 - val_det_loss: 1.1186 - val_cls_loss: 0.6334 - val_box_loss: 0.0097 - val_reg_l2_loss: 0.0706 - val_loss: 1.1892\n",
      "Epoch 3/90\n",
      "15/15 [==============================] - 6s 402ms/step - det_loss: 1.0089 - cls_loss: 0.4291 - box_loss: 0.0116 - reg_l2_loss: 0.0706 - loss: 1.0795 - learning_rate: 0.0100 - gradient_norm: 1.6905 - val_det_loss: 0.7332 - val_cls_loss: 0.3496 - val_box_loss: 0.0077 - val_reg_l2_loss: 0.0706 - val_loss: 0.8038\n",
      "Epoch 4/90\n",
      "15/15 [==============================] - 6s 404ms/step - det_loss: 0.7822 - cls_loss: 0.3479 - box_loss: 0.0087 - reg_l2_loss: 0.0706 - loss: 0.8528 - learning_rate: 0.0100 - gradient_norm: 1.5108 - val_det_loss: 0.6704 - val_cls_loss: 0.3145 - val_box_loss: 0.0071 - val_reg_l2_loss: 0.0706 - val_loss: 0.7411\n",
      "Epoch 5/90\n",
      "15/15 [==============================] - 10s 731ms/step - det_loss: 0.6786 - cls_loss: 0.3221 - box_loss: 0.0071 - reg_l2_loss: 0.0706 - loss: 0.7492 - learning_rate: 0.0099 - gradient_norm: 1.7593 - val_det_loss: 0.5946 - val_cls_loss: 0.2710 - val_box_loss: 0.0065 - val_reg_l2_loss: 0.0706 - val_loss: 0.6652\n",
      "Epoch 6/90\n",
      "15/15 [==============================] - 6s 404ms/step - det_loss: 0.5920 - cls_loss: 0.2920 - box_loss: 0.0060 - reg_l2_loss: 0.0706 - loss: 0.6627 - learning_rate: 0.0099 - gradient_norm: 1.5983 - val_det_loss: 0.5373 - val_cls_loss: 0.2670 - val_box_loss: 0.0054 - val_reg_l2_loss: 0.0707 - val_loss: 0.6079\n",
      "Epoch 7/90\n",
      "15/15 [==============================] - 6s 394ms/step - det_loss: 0.5211 - cls_loss: 0.2664 - box_loss: 0.0051 - reg_l2_loss: 0.0707 - loss: 0.5917 - learning_rate: 0.0099 - gradient_norm: 1.4860 - val_det_loss: 0.5036 - val_cls_loss: 0.2579 - val_box_loss: 0.0049 - val_reg_l2_loss: 0.0707 - val_loss: 0.5743\n",
      "Epoch 8/90\n",
      "15/15 [==============================] - 6s 397ms/step - det_loss: 0.4932 - cls_loss: 0.2552 - box_loss: 0.0048 - reg_l2_loss: 0.0707 - loss: 0.5639 - learning_rate: 0.0098 - gradient_norm: 1.6180 - val_det_loss: 0.4748 - val_cls_loss: 0.2197 - val_box_loss: 0.0051 - val_reg_l2_loss: 0.0707 - val_loss: 0.5455\n",
      "Epoch 9/90\n",
      "15/15 [==============================] - 6s 404ms/step - det_loss: 0.4880 - cls_loss: 0.2489 - box_loss: 0.0048 - reg_l2_loss: 0.0707 - loss: 0.5587 - learning_rate: 0.0098 - gradient_norm: 1.7339 - val_det_loss: 0.4116 - val_cls_loss: 0.2246 - val_box_loss: 0.0037 - val_reg_l2_loss: 0.0707 - val_loss: 0.4822\n",
      "Epoch 10/90\n",
      "15/15 [==============================] - 7s 472ms/step - det_loss: 0.4409 - cls_loss: 0.2354 - box_loss: 0.0041 - reg_l2_loss: 0.0707 - loss: 0.5115 - learning_rate: 0.0097 - gradient_norm: 1.4188 - val_det_loss: 0.4072 - val_cls_loss: 0.2124 - val_box_loss: 0.0039 - val_reg_l2_loss: 0.0707 - val_loss: 0.4779\n",
      "Epoch 11/90\n",
      "15/15 [==============================] - 7s 495ms/step - det_loss: 0.4489 - cls_loss: 0.2420 - box_loss: 0.0041 - reg_l2_loss: 0.0707 - loss: 0.5196 - learning_rate: 0.0097 - gradient_norm: 1.5418 - val_det_loss: 0.3845 - val_cls_loss: 0.2152 - val_box_loss: 0.0034 - val_reg_l2_loss: 0.0707 - val_loss: 0.4552\n",
      "Epoch 12/90\n",
      "15/15 [==============================] - 6s 405ms/step - det_loss: 0.3964 - cls_loss: 0.2254 - box_loss: 0.0034 - reg_l2_loss: 0.0707 - loss: 0.4670 - learning_rate: 0.0096 - gradient_norm: 1.3050 - val_det_loss: 0.3366 - val_cls_loss: 0.1992 - val_box_loss: 0.0027 - val_reg_l2_loss: 0.0707 - val_loss: 0.4073\n",
      "Epoch 13/90\n",
      "15/15 [==============================] - 6s 397ms/step - det_loss: 0.4083 - cls_loss: 0.2151 - box_loss: 0.0039 - reg_l2_loss: 0.0707 - loss: 0.4789 - learning_rate: 0.0095 - gradient_norm: 1.4228 - val_det_loss: 0.3236 - val_cls_loss: 0.1989 - val_box_loss: 0.0025 - val_reg_l2_loss: 0.0707 - val_loss: 0.3943\n",
      "Epoch 14/90\n",
      "15/15 [==============================] - 6s 406ms/step - det_loss: 0.3908 - cls_loss: 0.2157 - box_loss: 0.0035 - reg_l2_loss: 0.0707 - loss: 0.4614 - learning_rate: 0.0094 - gradient_norm: 1.3749 - val_det_loss: 0.3138 - val_cls_loss: 0.1812 - val_box_loss: 0.0027 - val_reg_l2_loss: 0.0707 - val_loss: 0.3845\n",
      "Epoch 15/90\n",
      "15/15 [==============================] - 7s 501ms/step - det_loss: 0.3845 - cls_loss: 0.2121 - box_loss: 0.0034 - reg_l2_loss: 0.0707 - loss: 0.4551 - learning_rate: 0.0094 - gradient_norm: 1.3824 - val_det_loss: 0.3122 - val_cls_loss: 0.1819 - val_box_loss: 0.0026 - val_reg_l2_loss: 0.0707 - val_loss: 0.3829\n",
      "Epoch 16/90\n",
      "15/15 [==============================] - 6s 395ms/step - det_loss: 0.4081 - cls_loss: 0.2303 - box_loss: 0.0036 - reg_l2_loss: 0.0706 - loss: 0.4787 - learning_rate: 0.0093 - gradient_norm: 1.5572 - val_det_loss: 0.2956 - val_cls_loss: 0.1786 - val_box_loss: 0.0023 - val_reg_l2_loss: 0.0707 - val_loss: 0.3663\n",
      "Epoch 17/90\n",
      "15/15 [==============================] - 7s 476ms/step - det_loss: 0.3914 - cls_loss: 0.2154 - box_loss: 0.0035 - reg_l2_loss: 0.0706 - loss: 0.4620 - learning_rate: 0.0092 - gradient_norm: 1.4252 - val_det_loss: 0.2942 - val_cls_loss: 0.1825 - val_box_loss: 0.0022 - val_reg_l2_loss: 0.0706 - val_loss: 0.3649\n",
      "Epoch 18/90\n",
      "15/15 [==============================] - 6s 400ms/step - det_loss: 0.3856 - cls_loss: 0.2077 - box_loss: 0.0036 - reg_l2_loss: 0.0706 - loss: 0.4562 - learning_rate: 0.0091 - gradient_norm: 1.3276 - val_det_loss: 0.3183 - val_cls_loss: 0.2059 - val_box_loss: 0.0022 - val_reg_l2_loss: 0.0706 - val_loss: 0.3889\n",
      "Epoch 19/90\n",
      "15/15 [==============================] - 6s 396ms/step - det_loss: 0.3602 - cls_loss: 0.2053 - box_loss: 0.0031 - reg_l2_loss: 0.0706 - loss: 0.4308 - learning_rate: 0.0090 - gradient_norm: 1.3545 - val_det_loss: 0.2906 - val_cls_loss: 0.1804 - val_box_loss: 0.0022 - val_reg_l2_loss: 0.0706 - val_loss: 0.3613\n",
      "Epoch 20/90\n",
      "15/15 [==============================] - 7s 466ms/step - det_loss: 0.3495 - cls_loss: 0.1939 - box_loss: 0.0031 - reg_l2_loss: 0.0706 - loss: 0.4201 - learning_rate: 0.0089 - gradient_norm: 1.2261 - val_det_loss: 0.2832 - val_cls_loss: 0.1744 - val_box_loss: 0.0022 - val_reg_l2_loss: 0.0706 - val_loss: 0.3539\n",
      "Epoch 21/90\n",
      "15/15 [==============================] - 6s 402ms/step - det_loss: 0.3454 - cls_loss: 0.1968 - box_loss: 0.0030 - reg_l2_loss: 0.0706 - loss: 0.4161 - learning_rate: 0.0087 - gradient_norm: 1.2953 - val_det_loss: 0.2826 - val_cls_loss: 0.1747 - val_box_loss: 0.0022 - val_reg_l2_loss: 0.0706 - val_loss: 0.3532\n",
      "Epoch 22/90\n",
      "15/15 [==============================] - 6s 397ms/step - det_loss: 0.3517 - cls_loss: 0.1955 - box_loss: 0.0031 - reg_l2_loss: 0.0706 - loss: 0.4224 - learning_rate: 0.0086 - gradient_norm: 1.2785 - val_det_loss: 0.2684 - val_cls_loss: 0.1683 - val_box_loss: 0.0020 - val_reg_l2_loss: 0.0706 - val_loss: 0.3390\n",
      "Epoch 23/90\n",
      "15/15 [==============================] - 6s 397ms/step - det_loss: 0.3415 - cls_loss: 0.1899 - box_loss: 0.0030 - reg_l2_loss: 0.0706 - loss: 0.4121 - learning_rate: 0.0085 - gradient_norm: 1.3337 - val_det_loss: 0.2800 - val_cls_loss: 0.1676 - val_box_loss: 0.0022 - val_reg_l2_loss: 0.0706 - val_loss: 0.3506\n",
      "Epoch 24/90\n",
      "15/15 [==============================] - 7s 482ms/step - det_loss: 0.3740 - cls_loss: 0.2014 - box_loss: 0.0035 - reg_l2_loss: 0.0706 - loss: 0.4446 - learning_rate: 0.0084 - gradient_norm: 1.5520 - val_det_loss: 0.2626 - val_cls_loss: 0.1612 - val_box_loss: 0.0020 - val_reg_l2_loss: 0.0706 - val_loss: 0.3333\n",
      "Epoch 25/90\n",
      "15/15 [==============================] - 7s 474ms/step - det_loss: 0.3697 - cls_loss: 0.1973 - box_loss: 0.0034 - reg_l2_loss: 0.0706 - loss: 0.4403 - learning_rate: 0.0082 - gradient_norm: 1.6791 - val_det_loss: 0.2689 - val_cls_loss: 0.1662 - val_box_loss: 0.0021 - val_reg_l2_loss: 0.0706 - val_loss: 0.3395\n",
      "Epoch 26/90\n"
     ]
    },
    {
     "name": "stdout",
     "output_type": "stream",
     "text": [
      "15/15 [==============================] - 6s 398ms/step - det_loss: 0.3583 - cls_loss: 0.1924 - box_loss: 0.0033 - reg_l2_loss: 0.0706 - loss: 0.4289 - learning_rate: 0.0081 - gradient_norm: 1.3566 - val_det_loss: 0.2765 - val_cls_loss: 0.1718 - val_box_loss: 0.0021 - val_reg_l2_loss: 0.0706 - val_loss: 0.3472\n",
      "Epoch 27/90\n",
      "15/15 [==============================] - 6s 403ms/step - det_loss: 0.3423 - cls_loss: 0.1926 - box_loss: 0.0030 - reg_l2_loss: 0.0706 - loss: 0.4129 - learning_rate: 0.0080 - gradient_norm: 1.4467 - val_det_loss: 0.2626 - val_cls_loss: 0.1657 - val_box_loss: 0.0019 - val_reg_l2_loss: 0.0706 - val_loss: 0.3332\n",
      "Epoch 28/90\n",
      "15/15 [==============================] - 6s 398ms/step - det_loss: 0.3279 - cls_loss: 0.1850 - box_loss: 0.0029 - reg_l2_loss: 0.0706 - loss: 0.3985 - learning_rate: 0.0078 - gradient_norm: 1.3194 - val_det_loss: 0.2675 - val_cls_loss: 0.1651 - val_box_loss: 0.0020 - val_reg_l2_loss: 0.0706 - val_loss: 0.3381\n",
      "Epoch 29/90\n",
      "15/15 [==============================] - 6s 397ms/step - det_loss: 0.3436 - cls_loss: 0.1895 - box_loss: 0.0031 - reg_l2_loss: 0.0706 - loss: 0.4142 - learning_rate: 0.0077 - gradient_norm: 1.3798 - val_det_loss: 0.2744 - val_cls_loss: 0.1662 - val_box_loss: 0.0022 - val_reg_l2_loss: 0.0706 - val_loss: 0.3451\n",
      "Epoch 30/90\n",
      "15/15 [==============================] - 8s 536ms/step - det_loss: 0.3238 - cls_loss: 0.1817 - box_loss: 0.0028 - reg_l2_loss: 0.0706 - loss: 0.3944 - learning_rate: 0.0075 - gradient_norm: 1.2503 - val_det_loss: 0.2588 - val_cls_loss: 0.1636 - val_box_loss: 0.0019 - val_reg_l2_loss: 0.0706 - val_loss: 0.3294\n",
      "Epoch 31/90\n",
      "15/15 [==============================] - 6s 396ms/step - det_loss: 0.3443 - cls_loss: 0.1895 - box_loss: 0.0031 - reg_l2_loss: 0.0706 - loss: 0.4149 - learning_rate: 0.0074 - gradient_norm: 1.4723 - val_det_loss: 0.2660 - val_cls_loss: 0.1625 - val_box_loss: 0.0021 - val_reg_l2_loss: 0.0706 - val_loss: 0.3366\n",
      "Epoch 32/90\n",
      "15/15 [==============================] - 6s 396ms/step - det_loss: 0.3187 - cls_loss: 0.1786 - box_loss: 0.0028 - reg_l2_loss: 0.0706 - loss: 0.3893 - learning_rate: 0.0072 - gradient_norm: 1.2429 - val_det_loss: 0.2680 - val_cls_loss: 0.1626 - val_box_loss: 0.0021 - val_reg_l2_loss: 0.0706 - val_loss: 0.3386\n",
      "Epoch 33/90\n",
      "15/15 [==============================] - 6s 401ms/step - det_loss: 0.3167 - cls_loss: 0.1773 - box_loss: 0.0028 - reg_l2_loss: 0.0706 - loss: 0.3873 - learning_rate: 0.0071 - gradient_norm: 1.2262 - val_det_loss: 0.2538 - val_cls_loss: 0.1561 - val_box_loss: 0.0020 - val_reg_l2_loss: 0.0706 - val_loss: 0.3244\n",
      "Epoch 34/90\n",
      "15/15 [==============================] - 6s 393ms/step - det_loss: 0.3369 - cls_loss: 0.1833 - box_loss: 0.0031 - reg_l2_loss: 0.0706 - loss: 0.4075 - learning_rate: 0.0069 - gradient_norm: 1.3488 - val_det_loss: 0.2536 - val_cls_loss: 0.1587 - val_box_loss: 0.0019 - val_reg_l2_loss: 0.0706 - val_loss: 0.3243\n",
      "Epoch 35/90\n",
      "15/15 [==============================] - 7s 471ms/step - det_loss: 0.3046 - cls_loss: 0.1746 - box_loss: 0.0026 - reg_l2_loss: 0.0706 - loss: 0.3752 - learning_rate: 0.0067 - gradient_norm: 1.1730 - val_det_loss: 0.2590 - val_cls_loss: 0.1624 - val_box_loss: 0.0019 - val_reg_l2_loss: 0.0706 - val_loss: 0.3296\n",
      "Epoch 36/90\n",
      "15/15 [==============================] - 6s 422ms/step - det_loss: 0.3040 - cls_loss: 0.1743 - box_loss: 0.0026 - reg_l2_loss: 0.0706 - loss: 0.3746 - learning_rate: 0.0066 - gradient_norm: 1.2884 - val_det_loss: 0.2448 - val_cls_loss: 0.1539 - val_box_loss: 0.0018 - val_reg_l2_loss: 0.0706 - val_loss: 0.3154\n",
      "Epoch 37/90\n",
      "15/15 [==============================] - 7s 480ms/step - det_loss: 0.3372 - cls_loss: 0.1763 - box_loss: 0.0032 - reg_l2_loss: 0.0706 - loss: 0.4078 - learning_rate: 0.0064 - gradient_norm: 1.2470 - val_det_loss: 0.2485 - val_cls_loss: 0.1570 - val_box_loss: 0.0018 - val_reg_l2_loss: 0.0706 - val_loss: 0.3191\n",
      "Epoch 38/90\n",
      "15/15 [==============================] - 6s 397ms/step - det_loss: 0.2838 - cls_loss: 0.1673 - box_loss: 0.0023 - reg_l2_loss: 0.0706 - loss: 0.3544 - learning_rate: 0.0062 - gradient_norm: 1.0399 - val_det_loss: 0.2448 - val_cls_loss: 0.1551 - val_box_loss: 0.0018 - val_reg_l2_loss: 0.0706 - val_loss: 0.3154\n",
      "Epoch 39/90\n",
      "15/15 [==============================] - 6s 409ms/step - det_loss: 0.3272 - cls_loss: 0.1776 - box_loss: 0.0030 - reg_l2_loss: 0.0706 - loss: 0.3978 - learning_rate: 0.0061 - gradient_norm: 1.2951 - val_det_loss: 0.2487 - val_cls_loss: 0.1543 - val_box_loss: 0.0019 - val_reg_l2_loss: 0.0706 - val_loss: 0.3193\n",
      "Epoch 40/90\n",
      "15/15 [==============================] - 7s 486ms/step - det_loss: 0.3243 - cls_loss: 0.1785 - box_loss: 0.0029 - reg_l2_loss: 0.0706 - loss: 0.3949 - learning_rate: 0.0059 - gradient_norm: 1.4598 - val_det_loss: 0.2467 - val_cls_loss: 0.1548 - val_box_loss: 0.0018 - val_reg_l2_loss: 0.0706 - val_loss: 0.3172\n",
      "Epoch 41/90\n",
      "15/15 [==============================] - 6s 395ms/step - det_loss: 0.3105 - cls_loss: 0.1716 - box_loss: 0.0028 - reg_l2_loss: 0.0706 - loss: 0.3811 - learning_rate: 0.0057 - gradient_norm: 1.4712 - val_det_loss: 0.2457 - val_cls_loss: 0.1528 - val_box_loss: 0.0019 - val_reg_l2_loss: 0.0706 - val_loss: 0.3163\n",
      "Epoch 42/90\n",
      "15/15 [==============================] - 6s 406ms/step - det_loss: 0.2987 - cls_loss: 0.1622 - box_loss: 0.0027 - reg_l2_loss: 0.0706 - loss: 0.3693 - learning_rate: 0.0055 - gradient_norm: 1.2116 - val_det_loss: 0.2453 - val_cls_loss: 0.1525 - val_box_loss: 0.0019 - val_reg_l2_loss: 0.0706 - val_loss: 0.3159\n",
      "Epoch 43/90\n",
      "15/15 [==============================] - 6s 421ms/step - det_loss: 0.2818 - cls_loss: 0.1638 - box_loss: 0.0024 - reg_l2_loss: 0.0706 - loss: 0.3523 - learning_rate: 0.0054 - gradient_norm: 1.1217 - val_det_loss: 0.2454 - val_cls_loss: 0.1542 - val_box_loss: 0.0018 - val_reg_l2_loss: 0.0706 - val_loss: 0.3160\n",
      "Epoch 44/90\n",
      "15/15 [==============================] - 7s 505ms/step - det_loss: 0.2935 - cls_loss: 0.1683 - box_loss: 0.0025 - reg_l2_loss: 0.0706 - loss: 0.3641 - learning_rate: 0.0052 - gradient_norm: 1.2715 - val_det_loss: 0.2410 - val_cls_loss: 0.1533 - val_box_loss: 0.0018 - val_reg_l2_loss: 0.0706 - val_loss: 0.3115\n",
      "Epoch 45/90\n",
      "15/15 [==============================] - 7s 469ms/step - det_loss: 0.2954 - cls_loss: 0.1687 - box_loss: 0.0025 - reg_l2_loss: 0.0706 - loss: 0.3659 - learning_rate: 0.0050 - gradient_norm: 1.3210 - val_det_loss: 0.2409 - val_cls_loss: 0.1536 - val_box_loss: 0.0017 - val_reg_l2_loss: 0.0706 - val_loss: 0.3115\n",
      "Epoch 46/90\n",
      "15/15 [==============================] - 6s 397ms/step - det_loss: 0.3100 - cls_loss: 0.1725 - box_loss: 0.0028 - reg_l2_loss: 0.0706 - loss: 0.3806 - learning_rate: 0.0048 - gradient_norm: 1.3437 - val_det_loss: 0.2445 - val_cls_loss: 0.1551 - val_box_loss: 0.0018 - val_reg_l2_loss: 0.0706 - val_loss: 0.3151\n",
      "Epoch 47/90\n",
      "15/15 [==============================] - 6s 392ms/step - det_loss: 0.2810 - cls_loss: 0.1606 - box_loss: 0.0024 - reg_l2_loss: 0.0706 - loss: 0.3516 - learning_rate: 0.0046 - gradient_norm: 1.2654 - val_det_loss: 0.2371 - val_cls_loss: 0.1500 - val_box_loss: 0.0017 - val_reg_l2_loss: 0.0706 - val_loss: 0.3076\n",
      "Epoch 48/90\n",
      "15/15 [==============================] - 6s 401ms/step - det_loss: 0.3063 - cls_loss: 0.1666 - box_loss: 0.0028 - reg_l2_loss: 0.0706 - loss: 0.3769 - learning_rate: 0.0045 - gradient_norm: 1.3261 - val_det_loss: 0.2356 - val_cls_loss: 0.1460 - val_box_loss: 0.0018 - val_reg_l2_loss: 0.0706 - val_loss: 0.3062\n",
      "Epoch 49/90\n",
      "15/15 [==============================] - 6s 392ms/step - det_loss: 0.2864 - cls_loss: 0.1668 - box_loss: 0.0024 - reg_l2_loss: 0.0706 - loss: 0.3570 - learning_rate: 0.0043 - gradient_norm: 1.3467 - val_det_loss: 0.2322 - val_cls_loss: 0.1470 - val_box_loss: 0.0017 - val_reg_l2_loss: 0.0706 - val_loss: 0.3027\n",
      "Epoch 50/90\n",
      "15/15 [==============================] - 8s 569ms/step - det_loss: 0.2956 - cls_loss: 0.1666 - box_loss: 0.0026 - reg_l2_loss: 0.0706 - loss: 0.3662 - learning_rate: 0.0041 - gradient_norm: 1.2738 - val_det_loss: 0.2305 - val_cls_loss: 0.1469 - val_box_loss: 0.0017 - val_reg_l2_loss: 0.0706 - val_loss: 0.3011\n",
      "Epoch 51/90\n"
     ]
    },
    {
     "name": "stdout",
     "output_type": "stream",
     "text": [
      "15/15 [==============================] - 6s 396ms/step - det_loss: 0.2801 - cls_loss: 0.1618 - box_loss: 0.0024 - reg_l2_loss: 0.0706 - loss: 0.3506 - learning_rate: 0.0039 - gradient_norm: 1.1240 - val_det_loss: 0.2239 - val_cls_loss: 0.1439 - val_box_loss: 0.0016 - val_reg_l2_loss: 0.0706 - val_loss: 0.2945\n",
      "Epoch 52/90\n",
      "15/15 [==============================] - 6s 408ms/step - det_loss: 0.3002 - cls_loss: 0.1654 - box_loss: 0.0027 - reg_l2_loss: 0.0706 - loss: 0.3708 - learning_rate: 0.0038 - gradient_norm: 1.4439 - val_det_loss: 0.2231 - val_cls_loss: 0.1429 - val_box_loss: 0.0016 - val_reg_l2_loss: 0.0706 - val_loss: 0.2937\n",
      "Epoch 53/90\n",
      "15/15 [==============================] - 6s 393ms/step - det_loss: 0.2821 - cls_loss: 0.1626 - box_loss: 0.0024 - reg_l2_loss: 0.0706 - loss: 0.3527 - learning_rate: 0.0036 - gradient_norm: 1.1952 - val_det_loss: 0.2318 - val_cls_loss: 0.1484 - val_box_loss: 0.0017 - val_reg_l2_loss: 0.0706 - val_loss: 0.3024\n",
      "Epoch 54/90\n",
      "15/15 [==============================] - 6s 394ms/step - det_loss: 0.2861 - cls_loss: 0.1634 - box_loss: 0.0025 - reg_l2_loss: 0.0706 - loss: 0.3567 - learning_rate: 0.0034 - gradient_norm: 1.1996 - val_det_loss: 0.2345 - val_cls_loss: 0.1503 - val_box_loss: 0.0017 - val_reg_l2_loss: 0.0706 - val_loss: 0.3051\n",
      "Epoch 55/90\n",
      "15/15 [==============================] - 7s 488ms/step - det_loss: 0.2714 - cls_loss: 0.1618 - box_loss: 0.0022 - reg_l2_loss: 0.0706 - loss: 0.3420 - learning_rate: 0.0033 - gradient_norm: 1.1980 - val_det_loss: 0.2303 - val_cls_loss: 0.1479 - val_box_loss: 0.0016 - val_reg_l2_loss: 0.0706 - val_loss: 0.3008\n",
      "Epoch 56/90\n",
      "15/15 [==============================] - 6s 421ms/step - det_loss: 0.2617 - cls_loss: 0.1556 - box_loss: 0.0021 - reg_l2_loss: 0.0706 - loss: 0.3322 - learning_rate: 0.0031 - gradient_norm: 1.0574 - val_det_loss: 0.2232 - val_cls_loss: 0.1443 - val_box_loss: 0.0016 - val_reg_l2_loss: 0.0706 - val_loss: 0.2938\n",
      "Epoch 57/90\n",
      "15/15 [==============================] - 7s 483ms/step - det_loss: 0.3016 - cls_loss: 0.1624 - box_loss: 0.0028 - reg_l2_loss: 0.0706 - loss: 0.3721 - learning_rate: 0.0029 - gradient_norm: 1.2384 - val_det_loss: 0.2241 - val_cls_loss: 0.1444 - val_box_loss: 0.0016 - val_reg_l2_loss: 0.0706 - val_loss: 0.2947\n",
      "Epoch 58/90\n",
      "15/15 [==============================] - 6s 397ms/step - det_loss: 0.2864 - cls_loss: 0.1640 - box_loss: 0.0024 - reg_l2_loss: 0.0706 - loss: 0.3570 - learning_rate: 0.0028 - gradient_norm: 1.2075 - val_det_loss: 0.2287 - val_cls_loss: 0.1456 - val_box_loss: 0.0017 - val_reg_l2_loss: 0.0706 - val_loss: 0.2992\n",
      "Epoch 59/90\n",
      "15/15 [==============================] - 6s 400ms/step - det_loss: 0.2763 - cls_loss: 0.1573 - box_loss: 0.0024 - reg_l2_loss: 0.0706 - loss: 0.3468 - learning_rate: 0.0026 - gradient_norm: 1.1980 - val_det_loss: 0.2212 - val_cls_loss: 0.1432 - val_box_loss: 0.0016 - val_reg_l2_loss: 0.0706 - val_loss: 0.2917\n",
      "Epoch 60/90\n",
      "15/15 [==============================] - 7s 466ms/step - det_loss: 0.3138 - cls_loss: 0.1712 - box_loss: 0.0029 - reg_l2_loss: 0.0705 - loss: 0.3844 - learning_rate: 0.0025 - gradient_norm: 1.5240 - val_det_loss: 0.2275 - val_cls_loss: 0.1450 - val_box_loss: 0.0017 - val_reg_l2_loss: 0.0705 - val_loss: 0.2981\n",
      "Epoch 61/90\n",
      "15/15 [==============================] - 6s 390ms/step - det_loss: 0.2961 - cls_loss: 0.1655 - box_loss: 0.0026 - reg_l2_loss: 0.0705 - loss: 0.3667 - learning_rate: 0.0023 - gradient_norm: 1.2978 - val_det_loss: 0.2265 - val_cls_loss: 0.1446 - val_box_loss: 0.0016 - val_reg_l2_loss: 0.0705 - val_loss: 0.2970\n",
      "Epoch 62/90\n",
      "15/15 [==============================] - 6s 401ms/step - det_loss: 0.2691 - cls_loss: 0.1637 - box_loss: 0.0021 - reg_l2_loss: 0.0705 - loss: 0.3396 - learning_rate: 0.0022 - gradient_norm: 1.1298 - val_det_loss: 0.2233 - val_cls_loss: 0.1438 - val_box_loss: 0.0016 - val_reg_l2_loss: 0.0705 - val_loss: 0.2938\n",
      "Epoch 63/90\n",
      "15/15 [==============================] - 7s 491ms/step - det_loss: 0.2919 - cls_loss: 0.1607 - box_loss: 0.0026 - reg_l2_loss: 0.0705 - loss: 0.3625 - learning_rate: 0.0020 - gradient_norm: 1.2194 - val_det_loss: 0.2199 - val_cls_loss: 0.1425 - val_box_loss: 0.0015 - val_reg_l2_loss: 0.0705 - val_loss: 0.2905\n",
      "Epoch 64/90\n",
      "15/15 [==============================] - 6s 399ms/step - det_loss: 0.2822 - cls_loss: 0.1628 - box_loss: 0.0024 - reg_l2_loss: 0.0705 - loss: 0.3527 - learning_rate: 0.0019 - gradient_norm: 1.1591 - val_det_loss: 0.2216 - val_cls_loss: 0.1431 - val_box_loss: 0.0016 - val_reg_l2_loss: 0.0705 - val_loss: 0.2922\n",
      "Epoch 65/90\n",
      "15/15 [==============================] - 7s 475ms/step - det_loss: 0.2704 - cls_loss: 0.1561 - box_loss: 0.0023 - reg_l2_loss: 0.0705 - loss: 0.3409 - learning_rate: 0.0018 - gradient_norm: 1.1700 - val_det_loss: 0.2218 - val_cls_loss: 0.1429 - val_box_loss: 0.0016 - val_reg_l2_loss: 0.0705 - val_loss: 0.2923\n",
      "Epoch 66/90\n",
      "15/15 [==============================] - 6s 396ms/step - det_loss: 0.2838 - cls_loss: 0.1560 - box_loss: 0.0026 - reg_l2_loss: 0.0705 - loss: 0.3544 - learning_rate: 0.0016 - gradient_norm: 1.1673 - val_det_loss: 0.2226 - val_cls_loss: 0.1438 - val_box_loss: 0.0016 - val_reg_l2_loss: 0.0705 - val_loss: 0.2931\n",
      "Epoch 67/90\n",
      "15/15 [==============================] - 6s 415ms/step - det_loss: 0.2751 - cls_loss: 0.1546 - box_loss: 0.0024 - reg_l2_loss: 0.0705 - loss: 0.3456 - learning_rate: 0.0015 - gradient_norm: 1.0777 - val_det_loss: 0.2222 - val_cls_loss: 0.1438 - val_box_loss: 0.0016 - val_reg_l2_loss: 0.0705 - val_loss: 0.2927\n",
      "Epoch 68/90\n",
      "15/15 [==============================] - 6s 403ms/step - det_loss: 0.2671 - cls_loss: 0.1542 - box_loss: 0.0023 - reg_l2_loss: 0.0705 - loss: 0.3376 - learning_rate: 0.0014 - gradient_norm: 1.0877 - val_det_loss: 0.2220 - val_cls_loss: 0.1440 - val_box_loss: 0.0016 - val_reg_l2_loss: 0.0705 - val_loss: 0.2926\n",
      "Epoch 69/90\n",
      "15/15 [==============================] - 6s 395ms/step - det_loss: 0.2727 - cls_loss: 0.1581 - box_loss: 0.0023 - reg_l2_loss: 0.0705 - loss: 0.3432 - learning_rate: 0.0013 - gradient_norm: 1.1442 - val_det_loss: 0.2240 - val_cls_loss: 0.1448 - val_box_loss: 0.0016 - val_reg_l2_loss: 0.0705 - val_loss: 0.2946\n",
      "Epoch 70/90\n",
      "15/15 [==============================] - 8s 554ms/step - det_loss: 0.2843 - cls_loss: 0.1596 - box_loss: 0.0025 - reg_l2_loss: 0.0705 - loss: 0.3549 - learning_rate: 0.0011 - gradient_norm: 1.1700 - val_det_loss: 0.2220 - val_cls_loss: 0.1435 - val_box_loss: 0.0016 - val_reg_l2_loss: 0.0705 - val_loss: 0.2925\n",
      "Epoch 71/90\n",
      "15/15 [==============================] - 6s 399ms/step - det_loss: 0.2832 - cls_loss: 0.1594 - box_loss: 0.0025 - reg_l2_loss: 0.0705 - loss: 0.3537 - learning_rate: 0.0010 - gradient_norm: 1.1643 - val_det_loss: 0.2198 - val_cls_loss: 0.1420 - val_box_loss: 0.0016 - val_reg_l2_loss: 0.0705 - val_loss: 0.2904\n",
      "Epoch 72/90\n",
      "15/15 [==============================] - 6s 381ms/step - det_loss: 0.2701 - cls_loss: 0.1565 - box_loss: 0.0023 - reg_l2_loss: 0.0705 - loss: 0.3406 - learning_rate: 9.2468e-04 - gradient_norm: 1.0845 - val_det_loss: 0.2185 - val_cls_loss: 0.1419 - val_box_loss: 0.0015 - val_reg_l2_loss: 0.0705 - val_loss: 0.2890\n",
      "Epoch 73/90\n",
      "15/15 [==============================] - 5s 375ms/step - det_loss: 0.2748 - cls_loss: 0.1601 - box_loss: 0.0023 - reg_l2_loss: 0.0705 - loss: 0.3453 - learning_rate: 8.2500e-04 - gradient_norm: 1.1199 - val_det_loss: 0.2175 - val_cls_loss: 0.1414 - val_box_loss: 0.0015 - val_reg_l2_loss: 0.0705 - val_loss: 0.2880\n",
      "Epoch 74/90\n",
      "15/15 [==============================] - 6s 394ms/step - det_loss: 0.2738 - cls_loss: 0.1569 - box_loss: 0.0023 - reg_l2_loss: 0.0705 - loss: 0.3443 - learning_rate: 7.3052e-04 - gradient_norm: 1.1195 - val_det_loss: 0.2178 - val_cls_loss: 0.1415 - val_box_loss: 0.0015 - val_reg_l2_loss: 0.0705 - val_loss: 0.2884\n",
      "Epoch 75/90\n",
      "15/15 [==============================] - 7s 495ms/step - det_loss: 0.2824 - cls_loss: 0.1560 - box_loss: 0.0025 - reg_l2_loss: 0.0705 - loss: 0.3530 - learning_rate: 6.4136e-04 - gradient_norm: 1.0170 - val_det_loss: 0.2169 - val_cls_loss: 0.1412 - val_box_loss: 0.0015 - val_reg_l2_loss: 0.0705 - val_loss: 0.2874\n",
      "Epoch 76/90\n"
     ]
    },
    {
     "name": "stdout",
     "output_type": "stream",
     "text": [
      "15/15 [==============================] - 7s 478ms/step - det_loss: 0.2690 - cls_loss: 0.1518 - box_loss: 0.0023 - reg_l2_loss: 0.0705 - loss: 0.3396 - learning_rate: 5.5764e-04 - gradient_norm: 0.9706 - val_det_loss: 0.2170 - val_cls_loss: 0.1414 - val_box_loss: 0.0015 - val_reg_l2_loss: 0.0705 - val_loss: 0.2876\n",
      "Epoch 77/90\n",
      "15/15 [==============================] - 6s 402ms/step - det_loss: 0.2879 - cls_loss: 0.1641 - box_loss: 0.0025 - reg_l2_loss: 0.0705 - loss: 0.3584 - learning_rate: 4.7944e-04 - gradient_norm: 1.2401 - val_det_loss: 0.2163 - val_cls_loss: 0.1410 - val_box_loss: 0.0015 - val_reg_l2_loss: 0.0705 - val_loss: 0.2869\n",
      "Epoch 78/90\n",
      "15/15 [==============================] - 6s 388ms/step - det_loss: 0.2769 - cls_loss: 0.1595 - box_loss: 0.0023 - reg_l2_loss: 0.0705 - loss: 0.3475 - learning_rate: 4.0688e-04 - gradient_norm: 1.0892 - val_det_loss: 0.2169 - val_cls_loss: 0.1408 - val_box_loss: 0.0015 - val_reg_l2_loss: 0.0705 - val_loss: 0.2874\n",
      "Epoch 79/90\n",
      "15/15 [==============================] - 6s 396ms/step - det_loss: 0.2884 - cls_loss: 0.1568 - box_loss: 0.0026 - reg_l2_loss: 0.0705 - loss: 0.3589 - learning_rate: 3.4005e-04 - gradient_norm: 1.1315 - val_det_loss: 0.2163 - val_cls_loss: 0.1407 - val_box_loss: 0.0015 - val_reg_l2_loss: 0.0705 - val_loss: 0.2868\n",
      "Epoch 80/90\n",
      "15/15 [==============================] - 7s 471ms/step - det_loss: 0.2822 - cls_loss: 0.1600 - box_loss: 0.0024 - reg_l2_loss: 0.0705 - loss: 0.3528 - learning_rate: 2.7901e-04 - gradient_norm: 1.1490 - val_det_loss: 0.2158 - val_cls_loss: 0.1406 - val_box_loss: 0.0015 - val_reg_l2_loss: 0.0705 - val_loss: 0.2863\n",
      "Epoch 81/90\n",
      "15/15 [==============================] - 6s 397ms/step - det_loss: 0.2883 - cls_loss: 0.1612 - box_loss: 0.0025 - reg_l2_loss: 0.0705 - loss: 0.3589 - learning_rate: 2.2386e-04 - gradient_norm: 1.1326 - val_det_loss: 0.2155 - val_cls_loss: 0.1405 - val_box_loss: 0.0015 - val_reg_l2_loss: 0.0705 - val_loss: 0.2860\n",
      "Epoch 82/90\n",
      "15/15 [==============================] - 6s 390ms/step - det_loss: 0.2847 - cls_loss: 0.1554 - box_loss: 0.0026 - reg_l2_loss: 0.0705 - loss: 0.3553 - learning_rate: 1.7466e-04 - gradient_norm: 1.1484 - val_det_loss: 0.2156 - val_cls_loss: 0.1406 - val_box_loss: 0.0015 - val_reg_l2_loss: 0.0705 - val_loss: 0.2862\n",
      "Epoch 83/90\n",
      "15/15 [==============================] - 7s 487ms/step - det_loss: 0.2554 - cls_loss: 0.1520 - box_loss: 0.0021 - reg_l2_loss: 0.0705 - loss: 0.3259 - learning_rate: 1.3147e-04 - gradient_norm: 1.0399 - val_det_loss: 0.2157 - val_cls_loss: 0.1406 - val_box_loss: 0.0015 - val_reg_l2_loss: 0.0705 - val_loss: 0.2862\n",
      "Epoch 84/90\n",
      "15/15 [==============================] - 6s 405ms/step - det_loss: 0.3227 - cls_loss: 0.1670 - box_loss: 0.0031 - reg_l2_loss: 0.0705 - loss: 0.3933 - learning_rate: 9.4352e-05 - gradient_norm: 1.5207 - val_det_loss: 0.2155 - val_cls_loss: 0.1406 - val_box_loss: 0.0015 - val_reg_l2_loss: 0.0705 - val_loss: 0.2860\n",
      "Epoch 85/90\n",
      "15/15 [==============================] - 7s 473ms/step - det_loss: 0.2698 - cls_loss: 0.1533 - box_loss: 0.0023 - reg_l2_loss: 0.0705 - loss: 0.3404 - learning_rate: 6.3341e-05 - gradient_norm: 1.0249 - val_det_loss: 0.2152 - val_cls_loss: 0.1405 - val_box_loss: 0.0015 - val_reg_l2_loss: 0.0705 - val_loss: 0.2858\n",
      "Epoch 86/90\n",
      "15/15 [==============================] - 6s 394ms/step - det_loss: 0.2952 - cls_loss: 0.1679 - box_loss: 0.0025 - reg_l2_loss: 0.0705 - loss: 0.3657 - learning_rate: 3.8481e-05 - gradient_norm: 1.2466 - val_det_loss: 0.2151 - val_cls_loss: 0.1404 - val_box_loss: 0.0015 - val_reg_l2_loss: 0.0705 - val_loss: 0.2856\n",
      "Epoch 87/90\n",
      "15/15 [==============================] - 6s 403ms/step - det_loss: 0.2881 - cls_loss: 0.1600 - box_loss: 0.0026 - reg_l2_loss: 0.0705 - loss: 0.3587 - learning_rate: 1.9802e-05 - gradient_norm: 1.2249 - val_det_loss: 0.2152 - val_cls_loss: 0.1404 - val_box_loss: 0.0015 - val_reg_l2_loss: 0.0705 - val_loss: 0.2857\n",
      "Epoch 88/90\n",
      "15/15 [==============================] - 6s 385ms/step - det_loss: 0.2825 - cls_loss: 0.1573 - box_loss: 0.0025 - reg_l2_loss: 0.0705 - loss: 0.3531 - learning_rate: 7.3277e-06 - gradient_norm: 1.0571 - val_det_loss: 0.2152 - val_cls_loss: 0.1404 - val_box_loss: 0.0015 - val_reg_l2_loss: 0.0705 - val_loss: 0.2857\n",
      "Epoch 89/90\n",
      "15/15 [==============================] - 7s 491ms/step - det_loss: 0.2723 - cls_loss: 0.1581 - box_loss: 0.0023 - reg_l2_loss: 0.0705 - loss: 0.3428 - learning_rate: 1.0737e-06 - gradient_norm: 1.1793 - val_det_loss: 0.2153 - val_cls_loss: 0.1405 - val_box_loss: 0.0015 - val_reg_l2_loss: 0.0705 - val_loss: 0.2858\n",
      "Epoch 90/90\n",
      "15/15 [==============================] - 7s 490ms/step - det_loss: 0.2673 - cls_loss: 0.1554 - box_loss: 0.0022 - reg_l2_loss: 0.0705 - loss: 0.3378 - learning_rate: 1.0478e-06 - gradient_norm: 1.0538 - val_det_loss: 0.2153 - val_cls_loss: 0.1405 - val_box_loss: 0.0015 - val_reg_l2_loss: 0.0705 - val_loss: 0.2858\n"
     ]
    }
   ],
   "source": [
    "model_num = 1\n",
    "model_name = f'efficientdet_lite{model_num}'\n",
    "\n",
    "epochs = 90\n",
    "\n",
    "## First train the smallest model\n",
    "spec = model_spec.get(model_name)\n",
    "spec.config.model_dir = model_name\n",
    "\n",
    "model = object_detector.create(train_data, \n",
    "                               model_spec=spec, \n",
    "                               batch_size=8,\n",
    "                               epochs=epochs,\n",
    "                               train_whole_model=True, \n",
    "                               validation_data=validation_data)"
   ]
  },
  {
   "cell_type": "code",
   "execution_count": 22,
   "metadata": {},
   "outputs": [],
   "source": [
    "%%capture cap --no-stderr\n",
    "model.evaluate(test_data)"
   ]
  },
  {
   "cell_type": "code",
   "execution_count": null,
   "metadata": {},
   "outputs": [],
   "source": [
    "with open(f'evaluation_EfficientDet{model_num}_preLite.txt', 'w') as f:\n",
    "    f.write(\"\\n\".join(str(cap.outputs[0].data).split('\\\\n')))\n",
    "    \n",
    "cap()"
   ]
  },
  {
   "cell_type": "code",
   "execution_count": 23,
   "metadata": {},
   "outputs": [
    {
     "name": "stderr",
     "output_type": "stream",
     "text": [
      "2022-08-04 16:18:55.304247: W tensorflow/core/common_runtime/graph_constructor.cc:803] Node 'resample_p7/PartitionedCall' has 1 outputs but the _output_shapes attribute specifies shapes for 3 outputs. Output shapes may be inaccurate.\n",
      "2022-08-04 16:19:11.394726: W tensorflow/compiler/mlir/lite/python/tf_tfl_flatbuffer_helpers.cc:357] Ignored output_format.\n",
      "2022-08-04 16:19:11.394776: W tensorflow/compiler/mlir/lite/python/tf_tfl_flatbuffer_helpers.cc:360] Ignored drop_control_dependency.\n",
      "2022-08-04 16:19:11.395050: I tensorflow/cc/saved_model/reader.cc:43] Reading SavedModel from: /tmp/tmpg228jg7z\n",
      "2022-08-04 16:19:11.543156: I tensorflow/cc/saved_model/reader.cc:78] Reading meta graph with tags { serve }\n",
      "2022-08-04 16:19:11.543227: I tensorflow/cc/saved_model/reader.cc:119] Reading SavedModel debug info (if present) from: /tmp/tmpg228jg7z\n",
      "2022-08-04 16:19:11.992560: I tensorflow/cc/saved_model/loader.cc:228] Restoring SavedModel bundle.\n",
      "2022-08-04 16:19:14.636208: I tensorflow/cc/saved_model/loader.cc:212] Running initialization op on SavedModel bundle at path: /tmp/tmpg228jg7z\n",
      "2022-08-04 16:19:15.763745: I tensorflow/cc/saved_model/loader.cc:301] SavedModel load for tags { serve }; Status: success: OK. Took 4368697 microseconds.\n",
      "2022-08-04 16:19:20.429418: I tensorflow/compiler/mlir/lite/flatbuffer_export.cc:1963] Estimated count of arithmetic ops: 3.547 G  ops, equivalently 1.773 G  MACs\n",
      "\n",
      "fully_quantize: 0, inference_type: 6, input_inference_type: 3, output_inference_type: 0\n",
      "2022-08-04 16:20:16.930427: I tensorflow/compiler/mlir/lite/flatbuffer_export.cc:1963] Estimated count of arithmetic ops: 3.547 G  ops, equivalently 1.773 G  MACs\n",
      "\n"
     ]
    }
   ],
   "source": [
    "model.export(export_dir='.', tflite_filename=f'model{model_num}.tflite')"
   ]
  },
  {
   "cell_type": "code",
   "execution_count": 24,
   "metadata": {},
   "outputs": [],
   "source": [
    "%%capture cap --no-stderr\n",
    "model.evaluate_tflite(f'model{model_num}.tflite', test_data)"
   ]
  },
  {
   "cell_type": "code",
   "execution_count": 25,
   "metadata": {},
   "outputs": [
    {
     "name": "stdout",
     "output_type": "stream",
     "text": [
      "\r",
      " 1/15 [=>............................] - ETA: 1:12\b\b\b\b\b\b\b\b\b\b\b\b\b\b\b\b\b\b\b\b\b\b\b\b\b\b\b\b\b\b\b\b\b\b\b\b\b\b\b\b\b\b\b\b\b\b\b\b\b\b\r",
      " 2/15 [===>..........................] - ETA: 1:00\b\b\b\b\b\b\b\b\b\b\b\b\b\b\b\b\b\b\b\b\b\b\b\b\b\b\b\b\b\b\b\b\b\b\b\b\b\b\b\b\b\b\b\b\b\b\b\b\b\b\r",
      " 3/15 [=====>........................] - ETA: 54s \b\b\b\b\b\b\b\b\b\b\b\b\b\b\b\b\b\b\b\b\b\b\b\b\b\b\b\b\b\b\b\b\b\b\b\b\b\b\b\b\b\b\b\b\b\b\b\b\b\r",
      " 4/15 [=======>......................] - ETA: 49s\b\b\b\b\b\b\b\b\b\b\b\b\b\b\b\b\b\b\b\b\b\b\b\b\b\b\b\b\b\b\b\b\b\b\b\b\b\b\b\b\b\b\b\b\b\b\b\b\b\r",
      " 5/15 [=========>....................] - ETA: 45s\b\b\b\b\b\b\b\b\b\b\b\b\b\b\b\b\b\b\b\b\b\b\b\b\b\b\b\b\b\b\b\b\b\b\b\b\b\b\b\b\b\b\b\b\b\b\b\b\b\r",
      " 6/15 [===========>..................] - ETA: 40s\b\b\b\b\b\b\b\b\b\b\b\b\b\b\b\b\b\b\b\b\b\b\b\b\b\b\b\b\b\b\b\b\b\b\b\b\b\b\b\b\b\b\b\b\b\b\b\b\b\r",
      " 7/15 [=============>................] - ETA: 36s\b\b\b\b\b\b\b\b\b\b\b\b\b\b\b\b\b\b\b\b\b\b\b\b\b\b\b\b\b\b\b\b\b\b\b\b\b\b\b\b\b\b\b\b\b\b\b\b\b\r",
      " 8/15 [===============>..............] - ETA: 32s\b\b\b\b\b\b\b\b\b\b\b\b\b\b\b\b\b\b\b\b\b\b\b\b\b\b\b\b\b\b\b\b\b\b\b\b\b\b\b\b\b\b\b\b\b\b\b\b\b\r",
      " 9/15 [=================>............] - ETA: 27s\b\b\b\b\b\b\b\b\b\b\b\b\b\b\b\b\b\b\b\b\b\b\b\b\b\b\b\b\b\b\b\b\b\b\b\b\b\b\b\b\b\b\b\b\b\b\b\b\b\r",
      "10/15 [===================>..........] - ETA: 23s\b\b\b\b\b\b\b\b\b\b\b\b\b\b\b\b\b\b\b\b\b\b\b\b\b\b\b\b\b\b\b\b\b\b\b\b\b\b\b\b\b\b\b\b\b\b\b\b\b\r",
      "11/15 [=====================>........] - ETA: 18s\b\b\b\b\b\b\b\b\b\b\b\b\b\b\b\b\b\b\b\b\b\b\b\b\b\b\b\b\b\b\b\b\b\b\b\b\b\b\b\b\b\b\b\b\b\b\b\b\b\r",
      "12/15 [=======================>......] - ETA: 13s\b\b\b\b\b\b\b\b\b\b\b\b\b\b\b\b\b\b\b\b\b\b\b\b\b\b\b\b\b\b\b\b\b\b\b\b\b\b\b\b\b\b\b\b\b\b\b\b\b\r",
      "13/15 [=========================>....] - ETA: 9s \b\b\b\b\b\b\b\b\b\b\b\b\b\b\b\b\b\b\b\b\b\b\b\b\b\b\b\b\b\b\b\b\b\b\b\b\b\b\b\b\b\b\b\b\b\b\b\b\r",
      "14/15 [===========================>..] - ETA: 4s\b\b\b\b\b\b\b\b\b\b\b\b\b\b\b\b\b\b\b\b\b\b\b\b\b\b\b\b\b\b\b\b\b\b\b\b\b\b\b\b\b\b\b\b\b\b\b\b\r",
      "15/15 [==============================] - 70s 5s/step\n",
      "\n"
     ]
    },
    {
     "data": {
      "text/plain": [
       "{'AP': 0.33648214,\n",
       " 'AP50': 0.4961116,\n",
       " 'AP75': 0.3785436,\n",
       " 'APs': 0.19117028,\n",
       " 'APm': 0.633111,\n",
       " 'APl': 0.5997047,\n",
       " 'ARmax1': 0.020818505,\n",
       " 'ARmax10': 0.19430605,\n",
       " 'ARmax100': 0.3613879,\n",
       " 'ARs': 0.20371352,\n",
       " 'ARm': 0.6766082,\n",
       " 'ARl': 0.70666665,\n",
       " 'AP_/label': -1.0,\n",
       " 'AP_/climbing_hold': 0.33648214}"
      ]
     },
     "metadata": {},
     "output_type": "display_data"
    }
   ],
   "source": [
    "with open(f'evaluation_EfficientDet-Lite{model_num}.txt', 'w') as f:\n",
    "    f.write(\"\\n\".join(str(cap.outputs[0].data).split('\\\\n')))\n",
    "    \n",
    "cap()"
   ]
  },
  {
   "cell_type": "markdown",
   "metadata": {},
   "source": [
    "## EfficientDet-Lite2"
   ]
  },
  {
   "cell_type": "code",
   "execution_count": 26,
   "metadata": {},
   "outputs": [
    {
     "name": "stdout",
     "output_type": "stream",
     "text": [
      "Epoch 1/90\n",
      "15/15 [==============================] - 49s 749ms/step - det_loss: 1.8289 - cls_loss: 1.0839 - box_loss: 0.0149 - reg_l2_loss: 0.0759 - loss: 1.9048 - learning_rate: 0.0090 - gradient_norm: 0.7804 - val_det_loss: 1.5673 - val_cls_loss: 1.0098 - val_box_loss: 0.0111 - val_reg_l2_loss: 0.0759 - val_loss: 1.6431\n",
      "Epoch 2/90\n",
      "15/15 [==============================] - 8s 537ms/step - det_loss: 1.4281 - cls_loss: 0.7732 - box_loss: 0.0131 - reg_l2_loss: 0.0759 - loss: 1.5040 - learning_rate: 0.0100 - gradient_norm: 1.6230 - val_det_loss: 1.5537 - val_cls_loss: 1.0858 - val_box_loss: 0.0094 - val_reg_l2_loss: 0.0759 - val_loss: 1.6297\n",
      "Epoch 3/90\n",
      "15/15 [==============================] - 8s 552ms/step - det_loss: 0.9436 - cls_loss: 0.4299 - box_loss: 0.0103 - reg_l2_loss: 0.0759 - loss: 1.0195 - learning_rate: 0.0100 - gradient_norm: 1.7746 - val_det_loss: 0.8124 - val_cls_loss: 0.4458 - val_box_loss: 0.0073 - val_reg_l2_loss: 0.0759 - val_loss: 0.8883\n",
      "Epoch 4/90\n",
      "15/15 [==============================] - 8s 558ms/step - det_loss: 0.7727 - cls_loss: 0.3275 - box_loss: 0.0089 - reg_l2_loss: 0.0759 - loss: 0.8486 - learning_rate: 0.0100 - gradient_norm: 1.4654 - val_det_loss: 0.6415 - val_cls_loss: 0.3164 - val_box_loss: 0.0065 - val_reg_l2_loss: 0.0759 - val_loss: 0.7175\n",
      "Epoch 5/90\n",
      "15/15 [==============================] - 12s 817ms/step - det_loss: 0.6535 - cls_loss: 0.2926 - box_loss: 0.0072 - reg_l2_loss: 0.0759 - loss: 0.7294 - learning_rate: 0.0099 - gradient_norm: 1.4603 - val_det_loss: 0.5946 - val_cls_loss: 0.2627 - val_box_loss: 0.0066 - val_reg_l2_loss: 0.0759 - val_loss: 0.6705\n",
      "Epoch 6/90\n",
      "15/15 [==============================] - 9s 635ms/step - det_loss: 0.5902 - cls_loss: 0.2704 - box_loss: 0.0064 - reg_l2_loss: 0.0759 - loss: 0.6661 - learning_rate: 0.0099 - gradient_norm: 1.6778 - val_det_loss: 0.4921 - val_cls_loss: 0.2356 - val_box_loss: 0.0051 - val_reg_l2_loss: 0.0759 - val_loss: 0.5680\n",
      "Epoch 7/90\n",
      "15/15 [==============================] - 8s 552ms/step - det_loss: 0.4945 - cls_loss: 0.2557 - box_loss: 0.0048 - reg_l2_loss: 0.0759 - loss: 0.5704 - learning_rate: 0.0099 - gradient_norm: 1.6470 - val_det_loss: 0.4641 - val_cls_loss: 0.2201 - val_box_loss: 0.0049 - val_reg_l2_loss: 0.0759 - val_loss: 0.5401\n",
      "Epoch 8/90\n",
      "15/15 [==============================] - 8s 542ms/step - det_loss: 0.5485 - cls_loss: 0.2760 - box_loss: 0.0054 - reg_l2_loss: 0.0759 - loss: 0.6244 - learning_rate: 0.0098 - gradient_norm: 2.1600 - val_det_loss: 0.4016 - val_cls_loss: 0.2120 - val_box_loss: 0.0038 - val_reg_l2_loss: 0.0760 - val_loss: 0.4775\n",
      "Epoch 9/90\n",
      "15/15 [==============================] - 8s 547ms/step - det_loss: 0.4750 - cls_loss: 0.2448 - box_loss: 0.0046 - reg_l2_loss: 0.0760 - loss: 0.5510 - learning_rate: 0.0098 - gradient_norm: 1.9035 - val_det_loss: 0.3994 - val_cls_loss: 0.2123 - val_box_loss: 0.0037 - val_reg_l2_loss: 0.0760 - val_loss: 0.4753\n",
      "Epoch 10/90\n",
      "15/15 [==============================] - 9s 631ms/step - det_loss: 0.4153 - cls_loss: 0.2292 - box_loss: 0.0037 - reg_l2_loss: 0.0760 - loss: 0.4913 - learning_rate: 0.0097 - gradient_norm: 1.4382 - val_det_loss: 0.3836 - val_cls_loss: 0.2008 - val_box_loss: 0.0037 - val_reg_l2_loss: 0.0760 - val_loss: 0.4595\n",
      "Epoch 11/90\n",
      "15/15 [==============================] - 8s 556ms/step - det_loss: 0.3991 - cls_loss: 0.2260 - box_loss: 0.0035 - reg_l2_loss: 0.0760 - loss: 0.4751 - learning_rate: 0.0097 - gradient_norm: 1.4201 - val_det_loss: 0.3359 - val_cls_loss: 0.1875 - val_box_loss: 0.0030 - val_reg_l2_loss: 0.0760 - val_loss: 0.4118\n",
      "Epoch 12/90\n",
      "15/15 [==============================] - 8s 554ms/step - det_loss: 0.3893 - cls_loss: 0.2195 - box_loss: 0.0034 - reg_l2_loss: 0.0760 - loss: 0.4653 - learning_rate: 0.0096 - gradient_norm: 1.4606 - val_det_loss: 0.3285 - val_cls_loss: 0.1846 - val_box_loss: 0.0029 - val_reg_l2_loss: 0.0760 - val_loss: 0.4044\n",
      "Epoch 13/90\n",
      "15/15 [==============================] - 9s 647ms/step - det_loss: 0.3752 - cls_loss: 0.2128 - box_loss: 0.0032 - reg_l2_loss: 0.0760 - loss: 0.4511 - learning_rate: 0.0095 - gradient_norm: 1.3860 - val_det_loss: 0.3251 - val_cls_loss: 0.1841 - val_box_loss: 0.0028 - val_reg_l2_loss: 0.0760 - val_loss: 0.4011\n",
      "Epoch 14/90\n",
      "15/15 [==============================] - 8s 563ms/step - det_loss: 0.3529 - cls_loss: 0.2038 - box_loss: 0.0030 - reg_l2_loss: 0.0760 - loss: 0.4289 - learning_rate: 0.0094 - gradient_norm: 1.2647 - val_det_loss: 0.3058 - val_cls_loss: 0.1826 - val_box_loss: 0.0025 - val_reg_l2_loss: 0.0760 - val_loss: 0.3818\n",
      "Epoch 15/90\n",
      "15/15 [==============================] - 10s 653ms/step - det_loss: 0.3513 - cls_loss: 0.2040 - box_loss: 0.0029 - reg_l2_loss: 0.0760 - loss: 0.4273 - learning_rate: 0.0094 - gradient_norm: 1.3268 - val_det_loss: 0.3149 - val_cls_loss: 0.1900 - val_box_loss: 0.0025 - val_reg_l2_loss: 0.0759 - val_loss: 0.3908\n",
      "Epoch 16/90\n",
      "15/15 [==============================] - 8s 554ms/step - det_loss: 0.3736 - cls_loss: 0.2111 - box_loss: 0.0032 - reg_l2_loss: 0.0759 - loss: 0.4495 - learning_rate: 0.0093 - gradient_norm: 1.4942 - val_det_loss: 0.3250 - val_cls_loss: 0.2015 - val_box_loss: 0.0025 - val_reg_l2_loss: 0.0759 - val_loss: 0.4009\n",
      "Epoch 17/90\n",
      "15/15 [==============================] - 8s 563ms/step - det_loss: 0.3717 - cls_loss: 0.2071 - box_loss: 0.0033 - reg_l2_loss: 0.0759 - loss: 0.4477 - learning_rate: 0.0092 - gradient_norm: 1.5582 - val_det_loss: 0.2953 - val_cls_loss: 0.1764 - val_box_loss: 0.0024 - val_reg_l2_loss: 0.0759 - val_loss: 0.3713\n",
      "Epoch 18/90\n",
      "15/15 [==============================] - 8s 554ms/step - det_loss: 0.3543 - cls_loss: 0.2035 - box_loss: 0.0030 - reg_l2_loss: 0.0759 - loss: 0.4302 - learning_rate: 0.0091 - gradient_norm: 1.4086 - val_det_loss: 0.3056 - val_cls_loss: 0.1951 - val_box_loss: 0.0022 - val_reg_l2_loss: 0.0759 - val_loss: 0.3816\n",
      "Epoch 19/90\n",
      "15/15 [==============================] - 10s 665ms/step - det_loss: 0.3389 - cls_loss: 0.1945 - box_loss: 0.0029 - reg_l2_loss: 0.0759 - loss: 0.4149 - learning_rate: 0.0090 - gradient_norm: 1.4102 - val_det_loss: 0.2690 - val_cls_loss: 0.1674 - val_box_loss: 0.0020 - val_reg_l2_loss: 0.0759 - val_loss: 0.3450\n",
      "Epoch 20/90\n",
      "15/15 [==============================] - 9s 637ms/step - det_loss: 0.3205 - cls_loss: 0.1869 - box_loss: 0.0027 - reg_l2_loss: 0.0759 - loss: 0.3964 - learning_rate: 0.0089 - gradient_norm: 1.1954 - val_det_loss: 0.2870 - val_cls_loss: 0.1811 - val_box_loss: 0.0021 - val_reg_l2_loss: 0.0759 - val_loss: 0.3629\n",
      "Epoch 21/90\n",
      "15/15 [==============================] - 8s 564ms/step - det_loss: 0.3258 - cls_loss: 0.1868 - box_loss: 0.0028 - reg_l2_loss: 0.0759 - loss: 0.4017 - learning_rate: 0.0087 - gradient_norm: 1.3625 - val_det_loss: 0.2764 - val_cls_loss: 0.1699 - val_box_loss: 0.0021 - val_reg_l2_loss: 0.0759 - val_loss: 0.3524\n",
      "Epoch 22/90\n",
      "15/15 [==============================] - 8s 565ms/step - det_loss: 0.3168 - cls_loss: 0.1827 - box_loss: 0.0027 - reg_l2_loss: 0.0759 - loss: 0.3927 - learning_rate: 0.0086 - gradient_norm: 1.4069 - val_det_loss: 0.2531 - val_cls_loss: 0.1605 - val_box_loss: 0.0019 - val_reg_l2_loss: 0.0759 - val_loss: 0.3290\n",
      "Epoch 23/90\n",
      "15/15 [==============================] - 8s 562ms/step - det_loss: 0.3318 - cls_loss: 0.1894 - box_loss: 0.0028 - reg_l2_loss: 0.0759 - loss: 0.4077 - learning_rate: 0.0085 - gradient_norm: 1.4996 - val_det_loss: 0.2662 - val_cls_loss: 0.1635 - val_box_loss: 0.0021 - val_reg_l2_loss: 0.0759 - val_loss: 0.3421\n",
      "Epoch 24/90\n",
      "15/15 [==============================] - 8s 548ms/step - det_loss: 0.3122 - cls_loss: 0.1834 - box_loss: 0.0026 - reg_l2_loss: 0.0759 - loss: 0.3882 - learning_rate: 0.0084 - gradient_norm: 1.3650 - val_det_loss: 0.2645 - val_cls_loss: 0.1696 - val_box_loss: 0.0019 - val_reg_l2_loss: 0.0759 - val_loss: 0.3404\n",
      "Epoch 25/90\n",
      "15/15 [==============================] - 11s 731ms/step - det_loss: 0.3017 - cls_loss: 0.1797 - box_loss: 0.0024 - reg_l2_loss: 0.0759 - loss: 0.3776 - learning_rate: 0.0082 - gradient_norm: 1.3113 - val_det_loss: 0.2567 - val_cls_loss: 0.1635 - val_box_loss: 0.0019 - val_reg_l2_loss: 0.0759 - val_loss: 0.3326\n",
      "Epoch 26/90\n"
     ]
    },
    {
     "name": "stdout",
     "output_type": "stream",
     "text": [
      "15/15 [==============================] - 9s 579ms/step - det_loss: 0.3065 - cls_loss: 0.1771 - box_loss: 0.0026 - reg_l2_loss: 0.0759 - loss: 0.3825 - learning_rate: 0.0081 - gradient_norm: 1.3738 - val_det_loss: 0.2522 - val_cls_loss: 0.1558 - val_box_loss: 0.0019 - val_reg_l2_loss: 0.0759 - val_loss: 0.3282\n",
      "Epoch 27/90\n",
      "15/15 [==============================] - 8s 545ms/step - det_loss: 0.3376 - cls_loss: 0.1831 - box_loss: 0.0031 - reg_l2_loss: 0.0759 - loss: 0.4135 - learning_rate: 0.0080 - gradient_norm: 1.6716 - val_det_loss: 0.2531 - val_cls_loss: 0.1597 - val_box_loss: 0.0019 - val_reg_l2_loss: 0.0759 - val_loss: 0.3290\n",
      "Epoch 28/90\n",
      "15/15 [==============================] - 8s 541ms/step - det_loss: 0.3383 - cls_loss: 0.1855 - box_loss: 0.0031 - reg_l2_loss: 0.0759 - loss: 0.4142 - learning_rate: 0.0078 - gradient_norm: 1.6323 - val_det_loss: 0.2563 - val_cls_loss: 0.1587 - val_box_loss: 0.0020 - val_reg_l2_loss: 0.0759 - val_loss: 0.3322\n",
      "Epoch 29/90\n",
      "15/15 [==============================] - 8s 553ms/step - det_loss: 0.3321 - cls_loss: 0.1838 - box_loss: 0.0030 - reg_l2_loss: 0.0759 - loss: 0.4080 - learning_rate: 0.0077 - gradient_norm: 1.6520 - val_det_loss: 0.2646 - val_cls_loss: 0.1558 - val_box_loss: 0.0022 - val_reg_l2_loss: 0.0759 - val_loss: 0.3405\n",
      "Epoch 30/90\n",
      "15/15 [==============================] - 10s 659ms/step - det_loss: 0.3035 - cls_loss: 0.1739 - box_loss: 0.0026 - reg_l2_loss: 0.0759 - loss: 0.3794 - learning_rate: 0.0075 - gradient_norm: 1.2783 - val_det_loss: 0.2465 - val_cls_loss: 0.1545 - val_box_loss: 0.0018 - val_reg_l2_loss: 0.0759 - val_loss: 0.3224\n",
      "Epoch 31/90\n",
      "15/15 [==============================] - 8s 574ms/step - det_loss: 0.3108 - cls_loss: 0.1745 - box_loss: 0.0027 - reg_l2_loss: 0.0759 - loss: 0.3867 - learning_rate: 0.0074 - gradient_norm: 1.3205 - val_det_loss: 0.2566 - val_cls_loss: 0.1616 - val_box_loss: 0.0019 - val_reg_l2_loss: 0.0759 - val_loss: 0.3326\n",
      "Epoch 32/90\n",
      "15/15 [==============================] - 10s 668ms/step - det_loss: 0.2958 - cls_loss: 0.1696 - box_loss: 0.0025 - reg_l2_loss: 0.0759 - loss: 0.3717 - learning_rate: 0.0072 - gradient_norm: 1.4754 - val_det_loss: 0.2419 - val_cls_loss: 0.1526 - val_box_loss: 0.0018 - val_reg_l2_loss: 0.0759 - val_loss: 0.3179\n",
      "Epoch 33/90\n",
      "15/15 [==============================] - 8s 560ms/step - det_loss: 0.2734 - cls_loss: 0.1623 - box_loss: 0.0022 - reg_l2_loss: 0.0759 - loss: 0.3493 - learning_rate: 0.0071 - gradient_norm: 1.0335 - val_det_loss: 0.2315 - val_cls_loss: 0.1466 - val_box_loss: 0.0017 - val_reg_l2_loss: 0.0759 - val_loss: 0.3074\n",
      "Epoch 34/90\n",
      "15/15 [==============================] - 8s 551ms/step - det_loss: 0.2856 - cls_loss: 0.1693 - box_loss: 0.0023 - reg_l2_loss: 0.0759 - loss: 0.3615 - learning_rate: 0.0069 - gradient_norm: 1.3801 - val_det_loss: 0.2486 - val_cls_loss: 0.1559 - val_box_loss: 0.0019 - val_reg_l2_loss: 0.0759 - val_loss: 0.3245\n",
      "Epoch 35/90\n",
      "15/15 [==============================] - 9s 619ms/step - det_loss: 0.2934 - cls_loss: 0.1713 - box_loss: 0.0024 - reg_l2_loss: 0.0759 - loss: 0.3693 - learning_rate: 0.0067 - gradient_norm: 1.4852 - val_det_loss: 0.2456 - val_cls_loss: 0.1558 - val_box_loss: 0.0018 - val_reg_l2_loss: 0.0759 - val_loss: 0.3215\n",
      "Epoch 36/90\n",
      "15/15 [==============================] - 8s 546ms/step - det_loss: 0.2998 - cls_loss: 0.1702 - box_loss: 0.0026 - reg_l2_loss: 0.0759 - loss: 0.3757 - learning_rate: 0.0066 - gradient_norm: 1.4292 - val_det_loss: 0.2336 - val_cls_loss: 0.1490 - val_box_loss: 0.0017 - val_reg_l2_loss: 0.0759 - val_loss: 0.3095\n",
      "Epoch 37/90\n",
      "15/15 [==============================] - 8s 548ms/step - det_loss: 0.2879 - cls_loss: 0.1695 - box_loss: 0.0024 - reg_l2_loss: 0.0759 - loss: 0.3638 - learning_rate: 0.0064 - gradient_norm: 1.3017 - val_det_loss: 0.2305 - val_cls_loss: 0.1488 - val_box_loss: 0.0016 - val_reg_l2_loss: 0.0759 - val_loss: 0.3064\n",
      "Epoch 38/90\n",
      "15/15 [==============================] - 9s 640ms/step - det_loss: 0.2745 - cls_loss: 0.1586 - box_loss: 0.0023 - reg_l2_loss: 0.0759 - loss: 0.3504 - learning_rate: 0.0062 - gradient_norm: 1.1126 - val_det_loss: 0.2240 - val_cls_loss: 0.1436 - val_box_loss: 0.0016 - val_reg_l2_loss: 0.0759 - val_loss: 0.2999\n",
      "Epoch 39/90\n",
      "15/15 [==============================] - 8s 544ms/step - det_loss: 0.2735 - cls_loss: 0.1606 - box_loss: 0.0023 - reg_l2_loss: 0.0759 - loss: 0.3494 - learning_rate: 0.0061 - gradient_norm: 1.2850 - val_det_loss: 0.2339 - val_cls_loss: 0.1493 - val_box_loss: 0.0017 - val_reg_l2_loss: 0.0759 - val_loss: 0.3098\n",
      "Epoch 40/90\n",
      "15/15 [==============================] - 9s 605ms/step - det_loss: 0.3140 - cls_loss: 0.1719 - box_loss: 0.0028 - reg_l2_loss: 0.0759 - loss: 0.3899 - learning_rate: 0.0059 - gradient_norm: 1.6897 - val_det_loss: 0.2302 - val_cls_loss: 0.1445 - val_box_loss: 0.0017 - val_reg_l2_loss: 0.0759 - val_loss: 0.3060\n",
      "Epoch 41/90\n",
      "15/15 [==============================] - 8s 549ms/step - det_loss: 0.2709 - cls_loss: 0.1573 - box_loss: 0.0023 - reg_l2_loss: 0.0759 - loss: 0.3468 - learning_rate: 0.0057 - gradient_norm: 1.4054 - val_det_loss: 0.2236 - val_cls_loss: 0.1420 - val_box_loss: 0.0016 - val_reg_l2_loss: 0.0759 - val_loss: 0.2994\n",
      "Epoch 42/90\n",
      "15/15 [==============================] - 8s 572ms/step - det_loss: 0.2819 - cls_loss: 0.1599 - box_loss: 0.0024 - reg_l2_loss: 0.0759 - loss: 0.3578 - learning_rate: 0.0055 - gradient_norm: 1.4590 - val_det_loss: 0.2414 - val_cls_loss: 0.1479 - val_box_loss: 0.0019 - val_reg_l2_loss: 0.0759 - val_loss: 0.3173\n",
      "Epoch 43/90\n",
      "15/15 [==============================] - 8s 568ms/step - det_loss: 0.2757 - cls_loss: 0.1596 - box_loss: 0.0023 - reg_l2_loss: 0.0759 - loss: 0.3516 - learning_rate: 0.0054 - gradient_norm: 1.1727 - val_det_loss: 0.2383 - val_cls_loss: 0.1461 - val_box_loss: 0.0018 - val_reg_l2_loss: 0.0759 - val_loss: 0.3142\n",
      "Epoch 44/90\n",
      "15/15 [==============================] - 8s 562ms/step - det_loss: 0.2763 - cls_loss: 0.1628 - box_loss: 0.0023 - reg_l2_loss: 0.0759 - loss: 0.3521 - learning_rate: 0.0052 - gradient_norm: 1.2999 - val_det_loss: 0.2342 - val_cls_loss: 0.1487 - val_box_loss: 0.0017 - val_reg_l2_loss: 0.0759 - val_loss: 0.3101\n",
      "Epoch 45/90\n",
      "15/15 [==============================] - 11s 731ms/step - det_loss: 0.2821 - cls_loss: 0.1651 - box_loss: 0.0023 - reg_l2_loss: 0.0759 - loss: 0.3580 - learning_rate: 0.0050 - gradient_norm: 1.3285 - val_det_loss: 0.2252 - val_cls_loss: 0.1445 - val_box_loss: 0.0016 - val_reg_l2_loss: 0.0759 - val_loss: 0.3011\n",
      "Epoch 46/90\n",
      "15/15 [==============================] - 8s 544ms/step - det_loss: 0.2849 - cls_loss: 0.1629 - box_loss: 0.0024 - reg_l2_loss: 0.0759 - loss: 0.3608 - learning_rate: 0.0048 - gradient_norm: 1.1163 - val_det_loss: 0.2209 - val_cls_loss: 0.1402 - val_box_loss: 0.0016 - val_reg_l2_loss: 0.0759 - val_loss: 0.2968\n",
      "Epoch 47/90\n",
      "15/15 [==============================] - 8s 546ms/step - det_loss: 0.2714 - cls_loss: 0.1589 - box_loss: 0.0023 - reg_l2_loss: 0.0759 - loss: 0.3473 - learning_rate: 0.0046 - gradient_norm: 1.3000 - val_det_loss: 0.2256 - val_cls_loss: 0.1435 - val_box_loss: 0.0016 - val_reg_l2_loss: 0.0759 - val_loss: 0.3015\n",
      "Epoch 48/90\n",
      "15/15 [==============================] - 8s 541ms/step - det_loss: 0.2786 - cls_loss: 0.1599 - box_loss: 0.0024 - reg_l2_loss: 0.0759 - loss: 0.3544 - learning_rate: 0.0045 - gradient_norm: 1.3782 - val_det_loss: 0.2216 - val_cls_loss: 0.1386 - val_box_loss: 0.0017 - val_reg_l2_loss: 0.0759 - val_loss: 0.2974\n",
      "Epoch 49/90\n",
      "15/15 [==============================] - 8s 539ms/step - det_loss: 0.2610 - cls_loss: 0.1550 - box_loss: 0.0021 - reg_l2_loss: 0.0759 - loss: 0.3368 - learning_rate: 0.0043 - gradient_norm: 1.0739 - val_det_loss: 0.2195 - val_cls_loss: 0.1405 - val_box_loss: 0.0016 - val_reg_l2_loss: 0.0759 - val_loss: 0.2953\n",
      "Epoch 50/90\n",
      "15/15 [==============================] - 9s 620ms/step - det_loss: 0.2819 - cls_loss: 0.1625 - box_loss: 0.0024 - reg_l2_loss: 0.0759 - loss: 0.3577 - learning_rate: 0.0041 - gradient_norm: 1.2238 - val_det_loss: 0.2273 - val_cls_loss: 0.1420 - val_box_loss: 0.0017 - val_reg_l2_loss: 0.0759 - val_loss: 0.3032\n",
      "Epoch 51/90\n"
     ]
    },
    {
     "name": "stdout",
     "output_type": "stream",
     "text": [
      "15/15 [==============================] - 9s 646ms/step - det_loss: 0.3075 - cls_loss: 0.1649 - box_loss: 0.0029 - reg_l2_loss: 0.0759 - loss: 0.3833 - learning_rate: 0.0039 - gradient_norm: 1.4144 - val_det_loss: 0.2173 - val_cls_loss: 0.1392 - val_box_loss: 0.0016 - val_reg_l2_loss: 0.0759 - val_loss: 0.2932\n",
      "Epoch 52/90\n",
      "15/15 [==============================] - 8s 557ms/step - det_loss: 0.2581 - cls_loss: 0.1514 - box_loss: 0.0021 - reg_l2_loss: 0.0759 - loss: 0.3340 - learning_rate: 0.0038 - gradient_norm: 1.0170 - val_det_loss: 0.2146 - val_cls_loss: 0.1374 - val_box_loss: 0.0015 - val_reg_l2_loss: 0.0759 - val_loss: 0.2905\n",
      "Epoch 53/90\n",
      "15/15 [==============================] - 8s 569ms/step - det_loss: 0.2540 - cls_loss: 0.1471 - box_loss: 0.0021 - reg_l2_loss: 0.0759 - loss: 0.3299 - learning_rate: 0.0036 - gradient_norm: 0.9863 - val_det_loss: 0.2116 - val_cls_loss: 0.1365 - val_box_loss: 0.0015 - val_reg_l2_loss: 0.0759 - val_loss: 0.2875\n",
      "Epoch 54/90\n",
      "15/15 [==============================] - 8s 553ms/step - det_loss: 0.2775 - cls_loss: 0.1593 - box_loss: 0.0024 - reg_l2_loss: 0.0759 - loss: 0.3533 - learning_rate: 0.0034 - gradient_norm: 1.2129 - val_det_loss: 0.2133 - val_cls_loss: 0.1370 - val_box_loss: 0.0015 - val_reg_l2_loss: 0.0759 - val_loss: 0.2892\n",
      "Epoch 55/90\n",
      "15/15 [==============================] - 9s 631ms/step - det_loss: 0.2662 - cls_loss: 0.1538 - box_loss: 0.0022 - reg_l2_loss: 0.0759 - loss: 0.3420 - learning_rate: 0.0033 - gradient_norm: 1.1247 - val_det_loss: 0.2123 - val_cls_loss: 0.1367 - val_box_loss: 0.0015 - val_reg_l2_loss: 0.0759 - val_loss: 0.2882\n",
      "Epoch 56/90\n",
      "15/15 [==============================] - 8s 559ms/step - det_loss: 0.2463 - cls_loss: 0.1502 - box_loss: 0.0019 - reg_l2_loss: 0.0759 - loss: 0.3222 - learning_rate: 0.0031 - gradient_norm: 1.1994 - val_det_loss: 0.2159 - val_cls_loss: 0.1383 - val_box_loss: 0.0016 - val_reg_l2_loss: 0.0759 - val_loss: 0.2918\n",
      "Epoch 57/90\n",
      "15/15 [==============================] - 8s 568ms/step - det_loss: 0.2530 - cls_loss: 0.1512 - box_loss: 0.0020 - reg_l2_loss: 0.0759 - loss: 0.3289 - learning_rate: 0.0029 - gradient_norm: 1.1156 - val_det_loss: 0.2109 - val_cls_loss: 0.1357 - val_box_loss: 0.0015 - val_reg_l2_loss: 0.0759 - val_loss: 0.2868\n",
      "Epoch 58/90\n",
      "15/15 [==============================] - 10s 674ms/step - det_loss: 0.2532 - cls_loss: 0.1447 - box_loss: 0.0022 - reg_l2_loss: 0.0759 - loss: 0.3290 - learning_rate: 0.0028 - gradient_norm: 1.0738 - val_det_loss: 0.2105 - val_cls_loss: 0.1346 - val_box_loss: 0.0015 - val_reg_l2_loss: 0.0759 - val_loss: 0.2864\n",
      "Epoch 59/90\n",
      "15/15 [==============================] - 8s 571ms/step - det_loss: 0.2637 - cls_loss: 0.1507 - box_loss: 0.0023 - reg_l2_loss: 0.0758 - loss: 0.3395 - learning_rate: 0.0026 - gradient_norm: 1.1113 - val_det_loss: 0.2121 - val_cls_loss: 0.1352 - val_box_loss: 0.0015 - val_reg_l2_loss: 0.0758 - val_loss: 0.2879\n",
      "Epoch 60/90\n",
      "15/15 [==============================] - 9s 643ms/step - det_loss: 0.2419 - cls_loss: 0.1461 - box_loss: 0.0019 - reg_l2_loss: 0.0758 - loss: 0.3177 - learning_rate: 0.0025 - gradient_norm: 1.0388 - val_det_loss: 0.2072 - val_cls_loss: 0.1340 - val_box_loss: 0.0015 - val_reg_l2_loss: 0.0758 - val_loss: 0.2830\n",
      "Epoch 61/90\n",
      "15/15 [==============================] - 8s 559ms/step - det_loss: 0.2654 - cls_loss: 0.1513 - box_loss: 0.0023 - reg_l2_loss: 0.0758 - loss: 0.3413 - learning_rate: 0.0023 - gradient_norm: 1.1580 - val_det_loss: 0.2105 - val_cls_loss: 0.1344 - val_box_loss: 0.0015 - val_reg_l2_loss: 0.0758 - val_loss: 0.2863\n",
      "Epoch 62/90\n",
      "15/15 [==============================] - 8s 569ms/step - det_loss: 0.2432 - cls_loss: 0.1471 - box_loss: 0.0019 - reg_l2_loss: 0.0758 - loss: 0.3191 - learning_rate: 0.0022 - gradient_norm: 1.0747 - val_det_loss: 0.2065 - val_cls_loss: 0.1332 - val_box_loss: 0.0015 - val_reg_l2_loss: 0.0758 - val_loss: 0.2823\n",
      "Epoch 63/90\n",
      "15/15 [==============================] - 8s 563ms/step - det_loss: 0.2613 - cls_loss: 0.1521 - box_loss: 0.0022 - reg_l2_loss: 0.0758 - loss: 0.3372 - learning_rate: 0.0020 - gradient_norm: 1.0630 - val_det_loss: 0.2063 - val_cls_loss: 0.1336 - val_box_loss: 0.0015 - val_reg_l2_loss: 0.0758 - val_loss: 0.2822\n",
      "Epoch 64/90\n",
      "15/15 [==============================] - 10s 653ms/step - det_loss: 0.2628 - cls_loss: 0.1528 - box_loss: 0.0022 - reg_l2_loss: 0.0758 - loss: 0.3387 - learning_rate: 0.0019 - gradient_norm: 1.1633 - val_det_loss: 0.2097 - val_cls_loss: 0.1343 - val_box_loss: 0.0015 - val_reg_l2_loss: 0.0758 - val_loss: 0.2856\n",
      "Epoch 65/90\n",
      "15/15 [==============================] - 9s 626ms/step - det_loss: 0.2494 - cls_loss: 0.1477 - box_loss: 0.0020 - reg_l2_loss: 0.0758 - loss: 0.3252 - learning_rate: 0.0018 - gradient_norm: 1.1361 - val_det_loss: 0.2093 - val_cls_loss: 0.1347 - val_box_loss: 0.0015 - val_reg_l2_loss: 0.0758 - val_loss: 0.2851\n",
      "Epoch 66/90\n",
      "15/15 [==============================] - 8s 571ms/step - det_loss: 0.2575 - cls_loss: 0.1488 - box_loss: 0.0022 - reg_l2_loss: 0.0758 - loss: 0.3334 - learning_rate: 0.0016 - gradient_norm: 1.1489 - val_det_loss: 0.2099 - val_cls_loss: 0.1345 - val_box_loss: 0.0015 - val_reg_l2_loss: 0.0758 - val_loss: 0.2857\n",
      "Epoch 67/90\n",
      "15/15 [==============================] - 8s 558ms/step - det_loss: 0.2549 - cls_loss: 0.1489 - box_loss: 0.0021 - reg_l2_loss: 0.0758 - loss: 0.3307 - learning_rate: 0.0015 - gradient_norm: 1.0721 - val_det_loss: 0.2083 - val_cls_loss: 0.1340 - val_box_loss: 0.0015 - val_reg_l2_loss: 0.0758 - val_loss: 0.2842\n",
      "Epoch 68/90\n",
      "15/15 [==============================] - 8s 561ms/step - det_loss: 0.2379 - cls_loss: 0.1429 - box_loss: 0.0019 - reg_l2_loss: 0.0758 - loss: 0.3138 - learning_rate: 0.0014 - gradient_norm: 1.0619 - val_det_loss: 0.2073 - val_cls_loss: 0.1331 - val_box_loss: 0.0015 - val_reg_l2_loss: 0.0758 - val_loss: 0.2831\n",
      "Epoch 69/90\n",
      "15/15 [==============================] - 8s 570ms/step - det_loss: 0.2533 - cls_loss: 0.1482 - box_loss: 0.0021 - reg_l2_loss: 0.0758 - loss: 0.3292 - learning_rate: 0.0013 - gradient_norm: 0.9873 - val_det_loss: 0.2072 - val_cls_loss: 0.1331 - val_box_loss: 0.0015 - val_reg_l2_loss: 0.0758 - val_loss: 0.2830\n",
      "Epoch 70/90\n",
      "15/15 [==============================] - 9s 645ms/step - det_loss: 0.2537 - cls_loss: 0.1531 - box_loss: 0.0020 - reg_l2_loss: 0.0758 - loss: 0.3295 - learning_rate: 0.0011 - gradient_norm: 1.0623 - val_det_loss: 0.2059 - val_cls_loss: 0.1329 - val_box_loss: 0.0015 - val_reg_l2_loss: 0.0758 - val_loss: 0.2818\n",
      "Epoch 71/90\n",
      "15/15 [==============================] - 10s 672ms/step - det_loss: 0.2445 - cls_loss: 0.1464 - box_loss: 0.0020 - reg_l2_loss: 0.0758 - loss: 0.3203 - learning_rate: 0.0010 - gradient_norm: 0.9315 - val_det_loss: 0.2071 - val_cls_loss: 0.1334 - val_box_loss: 0.0015 - val_reg_l2_loss: 0.0758 - val_loss: 0.2829\n",
      "Epoch 72/90\n",
      "15/15 [==============================] - 8s 547ms/step - det_loss: 0.2475 - cls_loss: 0.1470 - box_loss: 0.0020 - reg_l2_loss: 0.0758 - loss: 0.3233 - learning_rate: 9.2468e-04 - gradient_norm: 1.0952 - val_det_loss: 0.2082 - val_cls_loss: 0.1337 - val_box_loss: 0.0015 - val_reg_l2_loss: 0.0758 - val_loss: 0.2840\n",
      "Epoch 73/90\n",
      "15/15 [==============================] - 8s 556ms/step - det_loss: 0.2578 - cls_loss: 0.1507 - box_loss: 0.0021 - reg_l2_loss: 0.0758 - loss: 0.3337 - learning_rate: 8.2500e-04 - gradient_norm: 1.1010 - val_det_loss: 0.2078 - val_cls_loss: 0.1338 - val_box_loss: 0.0015 - val_reg_l2_loss: 0.0758 - val_loss: 0.2836\n",
      "Epoch 74/90\n",
      "15/15 [==============================] - 8s 563ms/step - det_loss: 0.2464 - cls_loss: 0.1458 - box_loss: 0.0020 - reg_l2_loss: 0.0758 - loss: 0.3222 - learning_rate: 7.3052e-04 - gradient_norm: 1.0011 - val_det_loss: 0.2084 - val_cls_loss: 0.1339 - val_box_loss: 0.0015 - val_reg_l2_loss: 0.0758 - val_loss: 0.2843\n",
      "Epoch 75/90\n",
      "15/15 [==============================] - 10s 657ms/step - det_loss: 0.2462 - cls_loss: 0.1491 - box_loss: 0.0019 - reg_l2_loss: 0.0758 - loss: 0.3221 - learning_rate: 6.4136e-04 - gradient_norm: 1.0455 - val_det_loss: 0.2073 - val_cls_loss: 0.1335 - val_box_loss: 0.0015 - val_reg_l2_loss: 0.0758 - val_loss: 0.2831\n",
      "Epoch 76/90\n"
     ]
    },
    {
     "name": "stdout",
     "output_type": "stream",
     "text": [
      "15/15 [==============================] - 8s 580ms/step - det_loss: 0.2452 - cls_loss: 0.1479 - box_loss: 0.0019 - reg_l2_loss: 0.0758 - loss: 0.3210 - learning_rate: 5.5764e-04 - gradient_norm: 1.0582 - val_det_loss: 0.2071 - val_cls_loss: 0.1333 - val_box_loss: 0.0015 - val_reg_l2_loss: 0.0758 - val_loss: 0.2830\n",
      "Epoch 77/90\n",
      "15/15 [==============================] - 10s 661ms/step - det_loss: 0.2788 - cls_loss: 0.1526 - box_loss: 0.0025 - reg_l2_loss: 0.0758 - loss: 0.3546 - learning_rate: 4.7944e-04 - gradient_norm: 1.2798 - val_det_loss: 0.2077 - val_cls_loss: 0.1335 - val_box_loss: 0.0015 - val_reg_l2_loss: 0.0758 - val_loss: 0.2835\n",
      "Epoch 78/90\n",
      "15/15 [==============================] - 9s 581ms/step - det_loss: 0.2689 - cls_loss: 0.1533 - box_loss: 0.0023 - reg_l2_loss: 0.0758 - loss: 0.3447 - learning_rate: 4.0688e-04 - gradient_norm: 1.1539 - val_det_loss: 0.2071 - val_cls_loss: 0.1334 - val_box_loss: 0.0015 - val_reg_l2_loss: 0.0758 - val_loss: 0.2829\n",
      "Epoch 79/90\n",
      "15/15 [==============================] - 8s 558ms/step - det_loss: 0.2540 - cls_loss: 0.1503 - box_loss: 0.0021 - reg_l2_loss: 0.0758 - loss: 0.3298 - learning_rate: 3.4005e-04 - gradient_norm: 1.1411 - val_det_loss: 0.2066 - val_cls_loss: 0.1333 - val_box_loss: 0.0015 - val_reg_l2_loss: 0.0758 - val_loss: 0.2825\n",
      "Epoch 80/90\n",
      "15/15 [==============================] - 9s 644ms/step - det_loss: 0.2527 - cls_loss: 0.1486 - box_loss: 0.0021 - reg_l2_loss: 0.0758 - loss: 0.3285 - learning_rate: 2.7901e-04 - gradient_norm: 1.0905 - val_det_loss: 0.2069 - val_cls_loss: 0.1333 - val_box_loss: 0.0015 - val_reg_l2_loss: 0.0758 - val_loss: 0.2828\n",
      "Epoch 81/90\n",
      "15/15 [==============================] - 8s 553ms/step - det_loss: 0.2582 - cls_loss: 0.1479 - box_loss: 0.0022 - reg_l2_loss: 0.0758 - loss: 0.3340 - learning_rate: 2.2386e-04 - gradient_norm: 1.0670 - val_det_loss: 0.2068 - val_cls_loss: 0.1333 - val_box_loss: 0.0015 - val_reg_l2_loss: 0.0758 - val_loss: 0.2826\n",
      "Epoch 82/90\n",
      "15/15 [==============================] - 8s 569ms/step - det_loss: 0.2449 - cls_loss: 0.1458 - box_loss: 0.0020 - reg_l2_loss: 0.0758 - loss: 0.3207 - learning_rate: 1.7466e-04 - gradient_norm: 1.0301 - val_det_loss: 0.2066 - val_cls_loss: 0.1332 - val_box_loss: 0.0015 - val_reg_l2_loss: 0.0758 - val_loss: 0.2824\n",
      "Epoch 83/90\n",
      "15/15 [==============================] - 8s 560ms/step - det_loss: 0.2476 - cls_loss: 0.1456 - box_loss: 0.0020 - reg_l2_loss: 0.0758 - loss: 0.3235 - learning_rate: 1.3147e-04 - gradient_norm: 1.0741 - val_det_loss: 0.2067 - val_cls_loss: 0.1333 - val_box_loss: 0.0015 - val_reg_l2_loss: 0.0758 - val_loss: 0.2825\n",
      "Epoch 84/90\n",
      "15/15 [==============================] - 10s 651ms/step - det_loss: 0.2547 - cls_loss: 0.1520 - box_loss: 0.0021 - reg_l2_loss: 0.0758 - loss: 0.3305 - learning_rate: 9.4352e-05 - gradient_norm: 1.0892 - val_det_loss: 0.2068 - val_cls_loss: 0.1333 - val_box_loss: 0.0015 - val_reg_l2_loss: 0.0758 - val_loss: 0.2826\n",
      "Epoch 85/90\n",
      "15/15 [==============================] - 10s 654ms/step - det_loss: 0.2443 - cls_loss: 0.1442 - box_loss: 0.0020 - reg_l2_loss: 0.0758 - loss: 0.3201 - learning_rate: 6.3341e-05 - gradient_norm: 0.9940 - val_det_loss: 0.2066 - val_cls_loss: 0.1332 - val_box_loss: 0.0015 - val_reg_l2_loss: 0.0758 - val_loss: 0.2824\n",
      "Epoch 86/90\n",
      "15/15 [==============================] - 8s 559ms/step - det_loss: 0.2475 - cls_loss: 0.1487 - box_loss: 0.0020 - reg_l2_loss: 0.0758 - loss: 0.3233 - learning_rate: 3.8481e-05 - gradient_norm: 1.0175 - val_det_loss: 0.2066 - val_cls_loss: 0.1332 - val_box_loss: 0.0015 - val_reg_l2_loss: 0.0758 - val_loss: 0.2824\n",
      "Epoch 87/90\n",
      "15/15 [==============================] - 8s 562ms/step - det_loss: 0.2372 - cls_loss: 0.1436 - box_loss: 0.0019 - reg_l2_loss: 0.0758 - loss: 0.3130 - learning_rate: 1.9802e-05 - gradient_norm: 1.0671 - val_det_loss: 0.2064 - val_cls_loss: 0.1332 - val_box_loss: 0.0015 - val_reg_l2_loss: 0.0758 - val_loss: 0.2823\n",
      "Epoch 88/90\n",
      "15/15 [==============================] - 8s 556ms/step - det_loss: 0.2283 - cls_loss: 0.1392 - box_loss: 0.0018 - reg_l2_loss: 0.0758 - loss: 0.3042 - learning_rate: 7.3277e-06 - gradient_norm: 0.9389 - val_det_loss: 0.2063 - val_cls_loss: 0.1332 - val_box_loss: 0.0015 - val_reg_l2_loss: 0.0758 - val_loss: 0.2821\n",
      "Epoch 89/90\n",
      "15/15 [==============================] - 9s 580ms/step - det_loss: 0.2477 - cls_loss: 0.1469 - box_loss: 0.0020 - reg_l2_loss: 0.0758 - loss: 0.3235 - learning_rate: 1.0737e-06 - gradient_norm: 1.0224 - val_det_loss: 0.2063 - val_cls_loss: 0.1331 - val_box_loss: 0.0015 - val_reg_l2_loss: 0.0758 - val_loss: 0.2822\n",
      "Epoch 90/90\n",
      "15/15 [==============================] - 11s 739ms/step - det_loss: 0.2436 - cls_loss: 0.1428 - box_loss: 0.0020 - reg_l2_loss: 0.0758 - loss: 0.3194 - learning_rate: 1.0478e-06 - gradient_norm: 0.9809 - val_det_loss: 0.2063 - val_cls_loss: 0.1331 - val_box_loss: 0.0015 - val_reg_l2_loss: 0.0758 - val_loss: 0.2822\n"
     ]
    }
   ],
   "source": [
    "model_num = 2\n",
    "model_name = f'efficientdet_lite{model_num}'\n",
    "\n",
    "epochs = 90\n",
    "\n",
    "## First train the smallest model\n",
    "spec = model_spec.get(model_name)\n",
    "spec.config.model_dir = model_name\n",
    "\n",
    "model = object_detector.create(train_data, \n",
    "                               model_spec=spec, \n",
    "                               batch_size=8,\n",
    "                               epochs=epochs,\n",
    "                               train_whole_model=True, \n",
    "                               validation_data=validation_data)"
   ]
  },
  {
   "cell_type": "code",
   "execution_count": 27,
   "metadata": {},
   "outputs": [],
   "source": [
    "%%capture cap --no-stderr\n",
    "model.evaluate(test_data)"
   ]
  },
  {
   "cell_type": "code",
   "execution_count": 29,
   "metadata": {},
   "outputs": [
    {
     "name": "stdout",
     "output_type": "stream",
     "text": [
      "\r",
      "1/1 [==============================] - 5s 5s/step\n",
      "\n"
     ]
    },
    {
     "data": {
      "text/plain": [
       "{'AP': 0.52801114,\n",
       " 'AP50': 0.8342187,\n",
       " 'AP75': 0.5720881,\n",
       " 'APs': 0.44196653,\n",
       " 'APm': 0.7127014,\n",
       " 'APl': 0.6575063,\n",
       " 'ARmax1': 0.02241993,\n",
       " 'ARmax10': 0.20587188,\n",
       " 'ARmax100': 0.6005338,\n",
       " 'ARs': 0.5127321,\n",
       " 'ARm': 0.7754386,\n",
       " 'ARl': 0.81333333,\n",
       " 'AP_/label': -1.0,\n",
       " 'AP_/climbing_hold': 0.52801114}"
      ]
     },
     "metadata": {},
     "output_type": "display_data"
    }
   ],
   "source": [
    "with open(f'evaluation_EfficientDet{model_num}_preLite.txt', 'w') as f:\n",
    "    f.write(\"\\n\".join(str(cap.outputs[0].data).split('\\\\n')))\n",
    "    \n",
    "cap()"
   ]
  },
  {
   "cell_type": "code",
   "execution_count": 30,
   "metadata": {},
   "outputs": [
    {
     "name": "stderr",
     "output_type": "stream",
     "text": [
      "2022-08-04 16:36:50.263969: W tensorflow/core/common_runtime/graph_constructor.cc:803] Node 'resample_p7/PartitionedCall' has 1 outputs but the _output_shapes attribute specifies shapes for 3 outputs. Output shapes may be inaccurate.\n",
      "2022-08-04 16:37:01.165101: W tensorflow/compiler/mlir/lite/python/tf_tfl_flatbuffer_helpers.cc:357] Ignored output_format.\n",
      "2022-08-04 16:37:01.165150: W tensorflow/compiler/mlir/lite/python/tf_tfl_flatbuffer_helpers.cc:360] Ignored drop_control_dependency.\n",
      "2022-08-04 16:37:01.165420: I tensorflow/cc/saved_model/reader.cc:43] Reading SavedModel from: /tmp/tmpwg_t353m\n",
      "2022-08-04 16:37:01.328245: I tensorflow/cc/saved_model/reader.cc:78] Reading meta graph with tags { serve }\n",
      "2022-08-04 16:37:01.328301: I tensorflow/cc/saved_model/reader.cc:119] Reading SavedModel debug info (if present) from: /tmp/tmpwg_t353m\n",
      "2022-08-04 16:37:01.891082: I tensorflow/cc/saved_model/loader.cc:228] Restoring SavedModel bundle.\n",
      "2022-08-04 16:37:04.770495: I tensorflow/cc/saved_model/loader.cc:212] Running initialization op on SavedModel bundle at path: /tmp/tmpwg_t353m\n",
      "2022-08-04 16:37:06.114361: I tensorflow/cc/saved_model/loader.cc:301] SavedModel load for tags { serve }; Status: success: OK. Took 4948944 microseconds.\n",
      "2022-08-04 16:37:11.155382: I tensorflow/compiler/mlir/lite/flatbuffer_export.cc:1963] Estimated count of arithmetic ops: 6.066 G  ops, equivalently 3.033 G  MACs\n",
      "\n",
      "fully_quantize: 0, inference_type: 6, input_inference_type: 3, output_inference_type: 0\n",
      "2022-08-04 16:38:39.505538: I tensorflow/compiler/mlir/lite/flatbuffer_export.cc:1963] Estimated count of arithmetic ops: 6.066 G  ops, equivalently 3.033 G  MACs\n",
      "\n"
     ]
    }
   ],
   "source": [
    "model.export(export_dir='.', tflite_filename=f'model{model_num}.tflite')"
   ]
  },
  {
   "cell_type": "code",
   "execution_count": 31,
   "metadata": {},
   "outputs": [],
   "source": [
    "%%capture cap --no-stderr\n",
    "model.evaluate_tflite(f'model{model_num}.tflite', test_data)"
   ]
  },
  {
   "cell_type": "code",
   "execution_count": 32,
   "metadata": {},
   "outputs": [
    {
     "name": "stdout",
     "output_type": "stream",
     "text": [
      "\r",
      " 1/15 [=>............................] - ETA: 1:59\b\b\b\b\b\b\b\b\b\b\b\b\b\b\b\b\b\b\b\b\b\b\b\b\b\b\b\b\b\b\b\b\b\b\b\b\b\b\b\b\b\b\b\b\b\b\b\b\b\b\r",
      " 2/15 [===>..........................] - ETA: 1:40\b\b\b\b\b\b\b\b\b\b\b\b\b\b\b\b\b\b\b\b\b\b\b\b\b\b\b\b\b\b\b\b\b\b\b\b\b\b\b\b\b\b\b\b\b\b\b\b\b\b\r",
      " 3/15 [=====>........................] - ETA: 1:32\b\b\b\b\b\b\b\b\b\b\b\b\b\b\b\b\b\b\b\b\b\b\b\b\b\b\b\b\b\b\b\b\b\b\b\b\b\b\b\b\b\b\b\b\b\b\b\b\b\b\r",
      " 4/15 [=======>......................] - ETA: 1:24\b\b\b\b\b\b\b\b\b\b\b\b\b\b\b\b\b\b\b\b\b\b\b\b\b\b\b\b\b\b\b\b\b\b\b\b\b\b\b\b\b\b\b\b\b\b\b\b\b\b\r",
      " 5/15 [=========>....................] - ETA: 1:17\b\b\b\b\b\b\b\b\b\b\b\b\b\b\b\b\b\b\b\b\b\b\b\b\b\b\b\b\b\b\b\b\b\b\b\b\b\b\b\b\b\b\b\b\b\b\b\b\b\b\r",
      " 6/15 [===========>..................] - ETA: 1:10\b\b\b\b\b\b\b\b\b\b\b\b\b\b\b\b\b\b\b\b\b\b\b\b\b\b\b\b\b\b\b\b\b\b\b\b\b\b\b\b\b\b\b\b\b\b\b\b\b\b\r",
      " 7/15 [=============>................] - ETA: 1:02\b\b\b\b\b\b\b\b\b\b\b\b\b\b\b\b\b\b\b\b\b\b\b\b\b\b\b\b\b\b\b\b\b\b\b\b\b\b\b\b\b\b\b\b\b\b\b\b\b\b\r",
      " 8/15 [===============>..............] - ETA: 54s \b\b\b\b\b\b\b\b\b\b\b\b\b\b\b\b\b\b\b\b\b\b\b\b\b\b\b\b\b\b\b\b\b\b\b\b\b\b\b\b\b\b\b\b\b\b\b\b\b\r",
      " 9/15 [=================>............] - ETA: 47s\b\b\b\b\b\b\b\b\b\b\b\b\b\b\b\b\b\b\b\b\b\b\b\b\b\b\b\b\b\b\b\b\b\b\b\b\b\b\b\b\b\b\b\b\b\b\b\b\b\r",
      "10/15 [===================>..........] - ETA: 39s\b\b\b\b\b\b\b\b\b\b\b\b\b\b\b\b\b\b\b\b\b\b\b\b\b\b\b\b\b\b\b\b\b\b\b\b\b\b\b\b\b\b\b\b\b\b\b\b\b\r",
      "11/15 [=====================>........] - ETA: 31s\b\b\b\b\b\b\b\b\b\b\b\b\b\b\b\b\b\b\b\b\b\b\b\b\b\b\b\b\b\b\b\b\b\b\b\b\b\b\b\b\b\b\b\b\b\b\b\b\b\r",
      "12/15 [=======================>......] - ETA: 23s\b\b\b\b\b\b\b\b\b\b\b\b\b\b\b\b\b\b\b\b\b\b\b\b\b\b\b\b\b\b\b\b\b\b\b\b\b\b\b\b\b\b\b\b\b\b\b\b\b\r",
      "13/15 [=========================>....] - ETA: 15s\b\b\b\b\b\b\b\b\b\b\b\b\b\b\b\b\b\b\b\b\b\b\b\b\b\b\b\b\b\b\b\b\b\b\b\b\b\b\b\b\b\b\b\b\b\b\b\b\b\r",
      "14/15 [===========================>..] - ETA: 7s \b\b\b\b\b\b\b\b\b\b\b\b\b\b\b\b\b\b\b\b\b\b\b\b\b\b\b\b\b\b\b\b\b\b\b\b\b\b\b\b\b\b\b\b\b\b\b\b\r",
      "15/15 [==============================] - 118s 8s/step\n",
      "\n"
     ]
    },
    {
     "data": {
      "text/plain": [
       "{'AP': 0.37148884,\n",
       " 'AP50': 0.52957815,\n",
       " 'AP75': 0.43367568,\n",
       " 'APs': 0.23589589,\n",
       " 'APm': 0.6532577,\n",
       " 'APl': 0.6276683,\n",
       " 'ARmax1': 0.021886121,\n",
       " 'ARmax10': 0.2024911,\n",
       " 'ARmax100': 0.39733097,\n",
       " 'ARs': 0.24827586,\n",
       " 'ARm': 0.69005847,\n",
       " 'ARl': 0.78,\n",
       " 'AP_/label': -1.0,\n",
       " 'AP_/climbing_hold': 0.37148884}"
      ]
     },
     "metadata": {},
     "output_type": "display_data"
    }
   ],
   "source": [
    "with open(f'evaluation_EfficientDet-Lite{model_num}.txt', 'w') as f:\n",
    "    f.write(\"\\n\".join(str(cap.outputs[0].data).split('\\\\n')))\n",
    "    \n",
    "cap()"
   ]
  },
  {
   "cell_type": "markdown",
   "metadata": {},
   "source": [
    "## EfficientDet-Lite3"
   ]
  },
  {
   "cell_type": "code",
   "execution_count": 33,
   "metadata": {},
   "outputs": [
    {
     "name": "stdout",
     "output_type": "stream",
     "text": [
      "Epoch 1/90\n",
      "15/15 [==============================] - 60s 966ms/step - det_loss: 1.8136 - cls_loss: 1.1088 - box_loss: 0.0141 - reg_l2_loss: 0.0926 - loss: 1.9061 - learning_rate: 0.0090 - gradient_norm: 0.6642 - val_det_loss: 1.6078 - val_cls_loss: 1.0538 - val_box_loss: 0.0111 - val_reg_l2_loss: 0.0925 - val_loss: 1.7003\n",
      "Epoch 2/90\n",
      "15/15 [==============================] - 11s 756ms/step - det_loss: 1.4754 - cls_loss: 0.8622 - box_loss: 0.0123 - reg_l2_loss: 0.0926 - loss: 1.5680 - learning_rate: 0.0100 - gradient_norm: 1.3970 - val_det_loss: 1.0998 - val_cls_loss: 0.6939 - val_box_loss: 0.0081 - val_reg_l2_loss: 0.0926 - val_loss: 1.1923\n",
      "Epoch 3/90\n",
      "15/15 [==============================] - 11s 734ms/step - det_loss: 0.8902 - cls_loss: 0.4289 - box_loss: 0.0092 - reg_l2_loss: 0.0926 - loss: 0.9828 - learning_rate: 0.0100 - gradient_norm: 1.9639 - val_det_loss: 0.6732 - val_cls_loss: 0.4020 - val_box_loss: 0.0054 - val_reg_l2_loss: 0.0926 - val_loss: 0.7658\n",
      "Epoch 4/90\n",
      "15/15 [==============================] - 11s 733ms/step - det_loss: 0.6599 - cls_loss: 0.3283 - box_loss: 0.0066 - reg_l2_loss: 0.0926 - loss: 0.7525 - learning_rate: 0.0100 - gradient_norm: 1.7653 - val_det_loss: 0.4865 - val_cls_loss: 0.2841 - val_box_loss: 0.0040 - val_reg_l2_loss: 0.0926 - val_loss: 0.5791\n",
      "Epoch 5/90\n",
      "15/15 [==============================] - 17s 1s/step - det_loss: 0.5125 - cls_loss: 0.2726 - box_loss: 0.0048 - reg_l2_loss: 0.0926 - loss: 0.6051 - learning_rate: 0.0099 - gradient_norm: 1.4702 - val_det_loss: 0.4682 - val_cls_loss: 0.2761 - val_box_loss: 0.0038 - val_reg_l2_loss: 0.0926 - val_loss: 0.5608\n",
      "Epoch 6/90\n",
      "15/15 [==============================] - 11s 738ms/step - det_loss: 0.4287 - cls_loss: 0.2416 - box_loss: 0.0037 - reg_l2_loss: 0.0926 - loss: 0.5213 - learning_rate: 0.0099 - gradient_norm: 1.4513 - val_det_loss: 0.3773 - val_cls_loss: 0.2109 - val_box_loss: 0.0033 - val_reg_l2_loss: 0.0926 - val_loss: 0.4699\n",
      "Epoch 7/90\n",
      "15/15 [==============================] - 11s 730ms/step - det_loss: 0.3829 - cls_loss: 0.2275 - box_loss: 0.0031 - reg_l2_loss: 0.0926 - loss: 0.4755 - learning_rate: 0.0099 - gradient_norm: 1.2866 - val_det_loss: 0.3396 - val_cls_loss: 0.1960 - val_box_loss: 0.0029 - val_reg_l2_loss: 0.0926 - val_loss: 0.4322\n",
      "Epoch 8/90\n",
      "15/15 [==============================] - 11s 737ms/step - det_loss: 0.3601 - cls_loss: 0.2222 - box_loss: 0.0028 - reg_l2_loss: 0.0926 - loss: 0.4527 - learning_rate: 0.0098 - gradient_norm: 1.4028 - val_det_loss: 0.2841 - val_cls_loss: 0.1760 - val_box_loss: 0.0022 - val_reg_l2_loss: 0.0926 - val_loss: 0.3768\n",
      "Epoch 9/90\n",
      "15/15 [==============================] - 11s 736ms/step - det_loss: 0.3692 - cls_loss: 0.2170 - box_loss: 0.0030 - reg_l2_loss: 0.0926 - loss: 0.4618 - learning_rate: 0.0098 - gradient_norm: 1.7032 - val_det_loss: 0.3178 - val_cls_loss: 0.1690 - val_box_loss: 0.0030 - val_reg_l2_loss: 0.0926 - val_loss: 0.4104\n",
      "Epoch 10/90\n",
      "15/15 [==============================] - 12s 806ms/step - det_loss: 0.3423 - cls_loss: 0.2096 - box_loss: 0.0027 - reg_l2_loss: 0.0926 - loss: 0.4349 - learning_rate: 0.0097 - gradient_norm: 1.5117 - val_det_loss: 0.2720 - val_cls_loss: 0.1656 - val_box_loss: 0.0021 - val_reg_l2_loss: 0.0926 - val_loss: 0.3646\n",
      "Epoch 11/90\n",
      "15/15 [==============================] - 11s 742ms/step - det_loss: 0.3378 - cls_loss: 0.2036 - box_loss: 0.0027 - reg_l2_loss: 0.0926 - loss: 0.4304 - learning_rate: 0.0097 - gradient_norm: 1.3394 - val_det_loss: 0.2587 - val_cls_loss: 0.1688 - val_box_loss: 0.0018 - val_reg_l2_loss: 0.0926 - val_loss: 0.3513\n",
      "Epoch 12/90\n",
      "15/15 [==============================] - 13s 868ms/step - det_loss: 0.3264 - cls_loss: 0.1975 - box_loss: 0.0026 - reg_l2_loss: 0.0926 - loss: 0.4190 - learning_rate: 0.0096 - gradient_norm: 1.5020 - val_det_loss: 0.2450 - val_cls_loss: 0.1622 - val_box_loss: 0.0017 - val_reg_l2_loss: 0.0926 - val_loss: 0.3375\n",
      "Epoch 13/90\n",
      "15/15 [==============================] - 11s 761ms/step - det_loss: 0.3278 - cls_loss: 0.1948 - box_loss: 0.0027 - reg_l2_loss: 0.0926 - loss: 0.4204 - learning_rate: 0.0095 - gradient_norm: 1.5167 - val_det_loss: 0.2867 - val_cls_loss: 0.1643 - val_box_loss: 0.0024 - val_reg_l2_loss: 0.0926 - val_loss: 0.3793\n",
      "Epoch 14/90\n",
      "15/15 [==============================] - 11s 734ms/step - det_loss: 0.3154 - cls_loss: 0.1879 - box_loss: 0.0025 - reg_l2_loss: 0.0926 - loss: 0.4080 - learning_rate: 0.0094 - gradient_norm: 1.5407 - val_det_loss: 0.2487 - val_cls_loss: 0.1658 - val_box_loss: 0.0017 - val_reg_l2_loss: 0.0926 - val_loss: 0.3413\n",
      "Epoch 15/90\n",
      "15/15 [==============================] - 12s 850ms/step - det_loss: 0.2905 - cls_loss: 0.1831 - box_loss: 0.0021 - reg_l2_loss: 0.0926 - loss: 0.3831 - learning_rate: 0.0094 - gradient_norm: 1.3217 - val_det_loss: 0.2357 - val_cls_loss: 0.1568 - val_box_loss: 0.0016 - val_reg_l2_loss: 0.0926 - val_loss: 0.3283\n",
      "Epoch 16/90\n",
      "15/15 [==============================] - 11s 768ms/step - det_loss: 0.2575 - cls_loss: 0.1651 - box_loss: 0.0018 - reg_l2_loss: 0.0926 - loss: 0.3501 - learning_rate: 0.0093 - gradient_norm: 0.9589 - val_det_loss: 0.2255 - val_cls_loss: 0.1534 - val_box_loss: 0.0014 - val_reg_l2_loss: 0.0926 - val_loss: 0.3181\n",
      "Epoch 17/90\n",
      "15/15 [==============================] - 11s 740ms/step - det_loss: 0.2877 - cls_loss: 0.1771 - box_loss: 0.0022 - reg_l2_loss: 0.0926 - loss: 0.3803 - learning_rate: 0.0092 - gradient_norm: 1.3261 - val_det_loss: 0.2198 - val_cls_loss: 0.1486 - val_box_loss: 0.0014 - val_reg_l2_loss: 0.0926 - val_loss: 0.3124\n",
      "Epoch 18/90\n",
      "15/15 [==============================] - 11s 728ms/step - det_loss: 0.2752 - cls_loss: 0.1680 - box_loss: 0.0021 - reg_l2_loss: 0.0926 - loss: 0.3678 - learning_rate: 0.0091 - gradient_norm: 1.2681 - val_det_loss: 0.2456 - val_cls_loss: 0.1677 - val_box_loss: 0.0016 - val_reg_l2_loss: 0.0926 - val_loss: 0.3381\n",
      "Epoch 19/90\n",
      "15/15 [==============================] - 13s 854ms/step - det_loss: 0.2946 - cls_loss: 0.1792 - box_loss: 0.0023 - reg_l2_loss: 0.0926 - loss: 0.3871 - learning_rate: 0.0090 - gradient_norm: 1.5009 - val_det_loss: 0.2193 - val_cls_loss: 0.1466 - val_box_loss: 0.0015 - val_reg_l2_loss: 0.0926 - val_loss: 0.3118\n",
      "Epoch 20/90\n",
      "15/15 [==============================] - 12s 823ms/step - det_loss: 0.2915 - cls_loss: 0.1748 - box_loss: 0.0023 - reg_l2_loss: 0.0926 - loss: 0.3841 - learning_rate: 0.0089 - gradient_norm: 1.4325 - val_det_loss: 0.2344 - val_cls_loss: 0.1548 - val_box_loss: 0.0016 - val_reg_l2_loss: 0.0926 - val_loss: 0.3269\n",
      "Epoch 21/90\n",
      "15/15 [==============================] - 11s 738ms/step - det_loss: 0.2796 - cls_loss: 0.1700 - box_loss: 0.0022 - reg_l2_loss: 0.0926 - loss: 0.3722 - learning_rate: 0.0087 - gradient_norm: 1.3029 - val_det_loss: 0.2175 - val_cls_loss: 0.1479 - val_box_loss: 0.0014 - val_reg_l2_loss: 0.0926 - val_loss: 0.3100\n",
      "Epoch 22/90\n",
      "15/15 [==============================] - 11s 760ms/step - det_loss: 0.2520 - cls_loss: 0.1594 - box_loss: 0.0019 - reg_l2_loss: 0.0926 - loss: 0.3445 - learning_rate: 0.0086 - gradient_norm: 1.1926 - val_det_loss: 0.2237 - val_cls_loss: 0.1554 - val_box_loss: 0.0014 - val_reg_l2_loss: 0.0926 - val_loss: 0.3162\n",
      "Epoch 23/90\n",
      "15/15 [==============================] - 11s 751ms/step - det_loss: 0.2560 - cls_loss: 0.1572 - box_loss: 0.0020 - reg_l2_loss: 0.0926 - loss: 0.3485 - learning_rate: 0.0085 - gradient_norm: 1.1842 - val_det_loss: 0.2044 - val_cls_loss: 0.1427 - val_box_loss: 0.0012 - val_reg_l2_loss: 0.0926 - val_loss: 0.2969\n",
      "Epoch 24/90\n",
      "15/15 [==============================] - 11s 748ms/step - det_loss: 0.2580 - cls_loss: 0.1599 - box_loss: 0.0020 - reg_l2_loss: 0.0925 - loss: 0.3505 - learning_rate: 0.0084 - gradient_norm: 1.2990 - val_det_loss: 0.2070 - val_cls_loss: 0.1346 - val_box_loss: 0.0014 - val_reg_l2_loss: 0.0925 - val_loss: 0.2996\n",
      "Epoch 25/90\n",
      "15/15 [==============================] - 12s 840ms/step - det_loss: 0.2561 - cls_loss: 0.1583 - box_loss: 0.0020 - reg_l2_loss: 0.0925 - loss: 0.3487 - learning_rate: 0.0082 - gradient_norm: 1.2361 - val_det_loss: 0.1927 - val_cls_loss: 0.1320 - val_box_loss: 0.0012 - val_reg_l2_loss: 0.0925 - val_loss: 0.2853\n",
      "Epoch 26/90\n"
     ]
    },
    {
     "name": "stdout",
     "output_type": "stream",
     "text": [
      "15/15 [==============================] - 13s 880ms/step - det_loss: 0.2705 - cls_loss: 0.1595 - box_loss: 0.0022 - reg_l2_loss: 0.0925 - loss: 0.3630 - learning_rate: 0.0081 - gradient_norm: 1.2903 - val_det_loss: 0.1936 - val_cls_loss: 0.1315 - val_box_loss: 0.0012 - val_reg_l2_loss: 0.0925 - val_loss: 0.2862\n",
      "Epoch 27/90\n",
      "15/15 [==============================] - 11s 759ms/step - det_loss: 0.2533 - cls_loss: 0.1574 - box_loss: 0.0019 - reg_l2_loss: 0.0925 - loss: 0.3459 - learning_rate: 0.0080 - gradient_norm: 1.3166 - val_det_loss: 0.1856 - val_cls_loss: 0.1268 - val_box_loss: 0.0012 - val_reg_l2_loss: 0.0925 - val_loss: 0.2782\n",
      "Epoch 28/90\n",
      "15/15 [==============================] - 11s 763ms/step - det_loss: 0.2449 - cls_loss: 0.1538 - box_loss: 0.0018 - reg_l2_loss: 0.0925 - loss: 0.3375 - learning_rate: 0.0078 - gradient_norm: 1.2391 - val_det_loss: 0.1937 - val_cls_loss: 0.1346 - val_box_loss: 0.0012 - val_reg_l2_loss: 0.0925 - val_loss: 0.2862\n",
      "Epoch 29/90\n",
      "15/15 [==============================] - 11s 755ms/step - det_loss: 0.2388 - cls_loss: 0.1474 - box_loss: 0.0018 - reg_l2_loss: 0.0925 - loss: 0.3313 - learning_rate: 0.0077 - gradient_norm: 1.1046 - val_det_loss: 0.1958 - val_cls_loss: 0.1329 - val_box_loss: 0.0013 - val_reg_l2_loss: 0.0925 - val_loss: 0.2884\n",
      "Epoch 30/90\n",
      "15/15 [==============================] - 12s 822ms/step - det_loss: 0.2500 - cls_loss: 0.1521 - box_loss: 0.0020 - reg_l2_loss: 0.0925 - loss: 0.3426 - learning_rate: 0.0075 - gradient_norm: 1.3813 - val_det_loss: 0.1901 - val_cls_loss: 0.1327 - val_box_loss: 0.0011 - val_reg_l2_loss: 0.0925 - val_loss: 0.2826\n",
      "Epoch 31/90\n",
      "15/15 [==============================] - 11s 752ms/step - det_loss: 0.2367 - cls_loss: 0.1436 - box_loss: 0.0019 - reg_l2_loss: 0.0925 - loss: 0.3292 - learning_rate: 0.0074 - gradient_norm: 1.1231 - val_det_loss: 0.1975 - val_cls_loss: 0.1354 - val_box_loss: 0.0012 - val_reg_l2_loss: 0.0925 - val_loss: 0.2900\n",
      "Epoch 32/90\n",
      "15/15 [==============================] - 11s 736ms/step - det_loss: 0.2458 - cls_loss: 0.1517 - box_loss: 0.0019 - reg_l2_loss: 0.0925 - loss: 0.3383 - learning_rate: 0.0072 - gradient_norm: 1.7064 - val_det_loss: 0.1993 - val_cls_loss: 0.1360 - val_box_loss: 0.0013 - val_reg_l2_loss: 0.0925 - val_loss: 0.2918\n",
      "Epoch 33/90\n",
      "15/15 [==============================] - 13s 877ms/step - det_loss: 0.2338 - cls_loss: 0.1450 - box_loss: 0.0018 - reg_l2_loss: 0.0925 - loss: 0.3263 - learning_rate: 0.0071 - gradient_norm: 1.1024 - val_det_loss: 0.1927 - val_cls_loss: 0.1315 - val_box_loss: 0.0012 - val_reg_l2_loss: 0.0925 - val_loss: 0.2852\n",
      "Epoch 34/90\n",
      "15/15 [==============================] - 11s 730ms/step - det_loss: 0.2275 - cls_loss: 0.1429 - box_loss: 0.0017 - reg_l2_loss: 0.0925 - loss: 0.3201 - learning_rate: 0.0069 - gradient_norm: 1.0823 - val_det_loss: 0.1773 - val_cls_loss: 0.1225 - val_box_loss: 0.0011 - val_reg_l2_loss: 0.0925 - val_loss: 0.2699\n",
      "Epoch 35/90\n",
      "15/15 [==============================] - 12s 816ms/step - det_loss: 0.2304 - cls_loss: 0.1441 - box_loss: 0.0017 - reg_l2_loss: 0.0925 - loss: 0.3229 - learning_rate: 0.0067 - gradient_norm: 1.1364 - val_det_loss: 0.1779 - val_cls_loss: 0.1233 - val_box_loss: 0.0011 - val_reg_l2_loss: 0.0925 - val_loss: 0.2704\n",
      "Epoch 36/90\n",
      "15/15 [==============================] - 11s 757ms/step - det_loss: 0.2338 - cls_loss: 0.1441 - box_loss: 0.0018 - reg_l2_loss: 0.0925 - loss: 0.3263 - learning_rate: 0.0066 - gradient_norm: 1.2299 - val_det_loss: 0.1828 - val_cls_loss: 0.1281 - val_box_loss: 0.0011 - val_reg_l2_loss: 0.0925 - val_loss: 0.2753\n",
      "Epoch 37/90\n",
      "15/15 [==============================] - 11s 749ms/step - det_loss: 0.2353 - cls_loss: 0.1470 - box_loss: 0.0018 - reg_l2_loss: 0.0925 - loss: 0.3278 - learning_rate: 0.0064 - gradient_norm: 1.1676 - val_det_loss: 0.1787 - val_cls_loss: 0.1217 - val_box_loss: 0.0011 - val_reg_l2_loss: 0.0925 - val_loss: 0.2711\n",
      "Epoch 38/90\n",
      "15/15 [==============================] - 11s 762ms/step - det_loss: 0.2210 - cls_loss: 0.1394 - box_loss: 0.0016 - reg_l2_loss: 0.0925 - loss: 0.3135 - learning_rate: 0.0062 - gradient_norm: 1.1568 - val_det_loss: 0.1803 - val_cls_loss: 0.1243 - val_box_loss: 0.0011 - val_reg_l2_loss: 0.0925 - val_loss: 0.2727\n",
      "Epoch 39/90\n",
      "15/15 [==============================] - 11s 771ms/step - det_loss: 0.2295 - cls_loss: 0.1423 - box_loss: 0.0017 - reg_l2_loss: 0.0925 - loss: 0.3220 - learning_rate: 0.0061 - gradient_norm: 1.2590 - val_det_loss: 0.1814 - val_cls_loss: 0.1269 - val_box_loss: 0.0011 - val_reg_l2_loss: 0.0925 - val_loss: 0.2739\n",
      "Epoch 40/90\n",
      "15/15 [==============================] - 14s 938ms/step - det_loss: 0.2263 - cls_loss: 0.1379 - box_loss: 0.0018 - reg_l2_loss: 0.0925 - loss: 0.3187 - learning_rate: 0.0059 - gradient_norm: 1.1420 - val_det_loss: 0.1786 - val_cls_loss: 0.1233 - val_box_loss: 0.0011 - val_reg_l2_loss: 0.0925 - val_loss: 0.2710\n",
      "Epoch 41/90\n",
      "15/15 [==============================] - 11s 738ms/step - det_loss: 0.2185 - cls_loss: 0.1322 - box_loss: 0.0017 - reg_l2_loss: 0.0925 - loss: 0.3110 - learning_rate: 0.0057 - gradient_norm: 1.0666 - val_det_loss: 0.1726 - val_cls_loss: 0.1199 - val_box_loss: 0.0011 - val_reg_l2_loss: 0.0925 - val_loss: 0.2651\n",
      "Epoch 42/90\n",
      "15/15 [==============================] - 11s 741ms/step - det_loss: 0.2227 - cls_loss: 0.1411 - box_loss: 0.0016 - reg_l2_loss: 0.0925 - loss: 0.3152 - learning_rate: 0.0055 - gradient_norm: 1.2576 - val_det_loss: 0.1720 - val_cls_loss: 0.1181 - val_box_loss: 0.0011 - val_reg_l2_loss: 0.0925 - val_loss: 0.2645\n",
      "Epoch 43/90\n",
      "15/15 [==============================] - 11s 768ms/step - det_loss: 0.2172 - cls_loss: 0.1332 - box_loss: 0.0017 - reg_l2_loss: 0.0925 - loss: 0.3097 - learning_rate: 0.0054 - gradient_norm: 1.1234 - val_det_loss: 0.1739 - val_cls_loss: 0.1211 - val_box_loss: 0.0011 - val_reg_l2_loss: 0.0925 - val_loss: 0.2663\n",
      "Epoch 44/90\n",
      "15/15 [==============================] - 11s 753ms/step - det_loss: 0.2481 - cls_loss: 0.1488 - box_loss: 0.0020 - reg_l2_loss: 0.0925 - loss: 0.3406 - learning_rate: 0.0052 - gradient_norm: 1.3760 - val_det_loss: 0.1737 - val_cls_loss: 0.1195 - val_box_loss: 0.0011 - val_reg_l2_loss: 0.0925 - val_loss: 0.2662\n",
      "Epoch 45/90\n",
      "15/15 [==============================] - 12s 845ms/step - det_loss: 0.2204 - cls_loss: 0.1358 - box_loss: 0.0017 - reg_l2_loss: 0.0925 - loss: 0.3128 - learning_rate: 0.0050 - gradient_norm: 1.1756 - val_det_loss: 0.1733 - val_cls_loss: 0.1217 - val_box_loss: 0.0010 - val_reg_l2_loss: 0.0925 - val_loss: 0.2658\n",
      "Epoch 46/90\n",
      "15/15 [==============================] - 11s 741ms/step - det_loss: 0.2112 - cls_loss: 0.1317 - box_loss: 0.0016 - reg_l2_loss: 0.0925 - loss: 0.3037 - learning_rate: 0.0048 - gradient_norm: 0.9882 - val_det_loss: 0.1708 - val_cls_loss: 0.1175 - val_box_loss: 0.0011 - val_reg_l2_loss: 0.0925 - val_loss: 0.2632\n",
      "Epoch 47/90\n",
      "15/15 [==============================] - 13s 880ms/step - det_loss: 0.2121 - cls_loss: 0.1316 - box_loss: 0.0016 - reg_l2_loss: 0.0925 - loss: 0.3045 - learning_rate: 0.0046 - gradient_norm: 0.9649 - val_det_loss: 0.1714 - val_cls_loss: 0.1195 - val_box_loss: 0.0010 - val_reg_l2_loss: 0.0925 - val_loss: 0.2638\n",
      "Epoch 48/90\n",
      "15/15 [==============================] - 11s 748ms/step - det_loss: 0.2195 - cls_loss: 0.1369 - box_loss: 0.0017 - reg_l2_loss: 0.0925 - loss: 0.3119 - learning_rate: 0.0045 - gradient_norm: 1.0459 - val_det_loss: 0.1737 - val_cls_loss: 0.1203 - val_box_loss: 0.0011 - val_reg_l2_loss: 0.0924 - val_loss: 0.2662\n",
      "Epoch 49/90\n",
      "15/15 [==============================] - 11s 742ms/step - det_loss: 0.2103 - cls_loss: 0.1291 - box_loss: 0.0016 - reg_l2_loss: 0.0924 - loss: 0.3027 - learning_rate: 0.0043 - gradient_norm: 1.0711 - val_det_loss: 0.1735 - val_cls_loss: 0.1204 - val_box_loss: 0.0011 - val_reg_l2_loss: 0.0924 - val_loss: 0.2660\n",
      "Epoch 50/90\n",
      "15/15 [==============================] - 12s 851ms/step - det_loss: 0.2118 - cls_loss: 0.1319 - box_loss: 0.0016 - reg_l2_loss: 0.0924 - loss: 0.3043 - learning_rate: 0.0041 - gradient_norm: 1.2635 - val_det_loss: 0.1666 - val_cls_loss: 0.1162 - val_box_loss: 0.0010 - val_reg_l2_loss: 0.0924 - val_loss: 0.2590\n",
      "Epoch 51/90\n"
     ]
    },
    {
     "name": "stdout",
     "output_type": "stream",
     "text": [
      "15/15 [==============================] - 11s 738ms/step - det_loss: 0.2063 - cls_loss: 0.1307 - box_loss: 0.0015 - reg_l2_loss: 0.0924 - loss: 0.2988 - learning_rate: 0.0039 - gradient_norm: 1.0724 - val_det_loss: 0.1701 - val_cls_loss: 0.1191 - val_box_loss: 0.0010 - val_reg_l2_loss: 0.0924 - val_loss: 0.2626\n",
      "Epoch 52/90\n",
      "15/15 [==============================] - 11s 727ms/step - det_loss: 0.2115 - cls_loss: 0.1330 - box_loss: 0.0016 - reg_l2_loss: 0.0924 - loss: 0.3039 - learning_rate: 0.0038 - gradient_norm: 1.0877 - val_det_loss: 0.1684 - val_cls_loss: 0.1163 - val_box_loss: 0.0010 - val_reg_l2_loss: 0.0924 - val_loss: 0.2608\n",
      "Epoch 53/90\n",
      "15/15 [==============================] - 11s 739ms/step - det_loss: 0.2056 - cls_loss: 0.1283 - box_loss: 0.0015 - reg_l2_loss: 0.0924 - loss: 0.2980 - learning_rate: 0.0036 - gradient_norm: 1.0122 - val_det_loss: 0.1701 - val_cls_loss: 0.1172 - val_box_loss: 0.0011 - val_reg_l2_loss: 0.0924 - val_loss: 0.2625\n",
      "Epoch 54/90\n",
      "15/15 [==============================] - 13s 876ms/step - det_loss: 0.2127 - cls_loss: 0.1304 - box_loss: 0.0016 - reg_l2_loss: 0.0924 - loss: 0.3051 - learning_rate: 0.0034 - gradient_norm: 1.0102 - val_det_loss: 0.1675 - val_cls_loss: 0.1159 - val_box_loss: 0.0010 - val_reg_l2_loss: 0.0924 - val_loss: 0.2600\n",
      "Epoch 55/90\n",
      "15/15 [==============================] - 12s 828ms/step - det_loss: 0.2123 - cls_loss: 0.1326 - box_loss: 0.0016 - reg_l2_loss: 0.0924 - loss: 0.3047 - learning_rate: 0.0033 - gradient_norm: 1.0624 - val_det_loss: 0.1736 - val_cls_loss: 0.1212 - val_box_loss: 0.0010 - val_reg_l2_loss: 0.0924 - val_loss: 0.2661\n",
      "Epoch 56/90\n",
      "15/15 [==============================] - 11s 737ms/step - det_loss: 0.2119 - cls_loss: 0.1305 - box_loss: 0.0016 - reg_l2_loss: 0.0924 - loss: 0.3043 - learning_rate: 0.0031 - gradient_norm: 1.0975 - val_det_loss: 0.1678 - val_cls_loss: 0.1166 - val_box_loss: 0.0010 - val_reg_l2_loss: 0.0924 - val_loss: 0.2603\n",
      "Epoch 57/90\n",
      "15/15 [==============================] - 11s 756ms/step - det_loss: 0.2087 - cls_loss: 0.1283 - box_loss: 0.0016 - reg_l2_loss: 0.0924 - loss: 0.3011 - learning_rate: 0.0029 - gradient_norm: 1.0019 - val_det_loss: 0.1666 - val_cls_loss: 0.1158 - val_box_loss: 0.0010 - val_reg_l2_loss: 0.0924 - val_loss: 0.2590\n",
      "Epoch 58/90\n",
      "15/15 [==============================] - 11s 746ms/step - det_loss: 0.2006 - cls_loss: 0.1286 - box_loss: 0.0014 - reg_l2_loss: 0.0924 - loss: 0.2930 - learning_rate: 0.0028 - gradient_norm: 1.1561 - val_det_loss: 0.1664 - val_cls_loss: 0.1146 - val_box_loss: 0.0010 - val_reg_l2_loss: 0.0924 - val_loss: 0.2588\n",
      "Epoch 59/90\n",
      "15/15 [==============================] - 11s 744ms/step - det_loss: 0.2086 - cls_loss: 0.1268 - box_loss: 0.0016 - reg_l2_loss: 0.0924 - loss: 0.3010 - learning_rate: 0.0026 - gradient_norm: 0.9286 - val_det_loss: 0.1629 - val_cls_loss: 0.1133 - val_box_loss: 9.9287e-04 - val_reg_l2_loss: 0.0924 - val_loss: 0.2553\n",
      "Epoch 60/90\n",
      "15/15 [==============================] - 12s 844ms/step - det_loss: 0.2134 - cls_loss: 0.1315 - box_loss: 0.0016 - reg_l2_loss: 0.0924 - loss: 0.3058 - learning_rate: 0.0025 - gradient_norm: 1.0647 - val_det_loss: 0.1653 - val_cls_loss: 0.1127 - val_box_loss: 0.0011 - val_reg_l2_loss: 0.0924 - val_loss: 0.2577\n",
      "Epoch 61/90\n",
      "15/15 [==============================] - 13s 868ms/step - det_loss: 0.2085 - cls_loss: 0.1279 - box_loss: 0.0016 - reg_l2_loss: 0.0924 - loss: 0.3009 - learning_rate: 0.0023 - gradient_norm: 1.0901 - val_det_loss: 0.1629 - val_cls_loss: 0.1125 - val_box_loss: 0.0010 - val_reg_l2_loss: 0.0924 - val_loss: 0.2553\n",
      "Epoch 62/90\n",
      "15/15 [==============================] - 11s 779ms/step - det_loss: 0.1990 - cls_loss: 0.1234 - box_loss: 0.0015 - reg_l2_loss: 0.0924 - loss: 0.2914 - learning_rate: 0.0022 - gradient_norm: 0.9614 - val_det_loss: 0.1635 - val_cls_loss: 0.1131 - val_box_loss: 0.0010 - val_reg_l2_loss: 0.0924 - val_loss: 0.2559\n",
      "Epoch 63/90\n",
      "15/15 [==============================] - 11s 775ms/step - det_loss: 0.2091 - cls_loss: 0.1296 - box_loss: 0.0016 - reg_l2_loss: 0.0924 - loss: 0.3015 - learning_rate: 0.0020 - gradient_norm: 1.1488 - val_det_loss: 0.1651 - val_cls_loss: 0.1143 - val_box_loss: 0.0010 - val_reg_l2_loss: 0.0924 - val_loss: 0.2575\n",
      "Epoch 64/90\n",
      "15/15 [==============================] - 11s 745ms/step - det_loss: 0.2174 - cls_loss: 0.1313 - box_loss: 0.0017 - reg_l2_loss: 0.0924 - loss: 0.3098 - learning_rate: 0.0019 - gradient_norm: 1.0660 - val_det_loss: 0.1651 - val_cls_loss: 0.1143 - val_box_loss: 0.0010 - val_reg_l2_loss: 0.0924 - val_loss: 0.2575\n",
      "Epoch 65/90\n",
      "15/15 [==============================] - 12s 824ms/step - det_loss: 0.2076 - cls_loss: 0.1257 - box_loss: 0.0016 - reg_l2_loss: 0.0924 - loss: 0.3000 - learning_rate: 0.0018 - gradient_norm: 1.0055 - val_det_loss: 0.1647 - val_cls_loss: 0.1132 - val_box_loss: 0.0010 - val_reg_l2_loss: 0.0924 - val_loss: 0.2571\n",
      "Epoch 66/90\n",
      "15/15 [==============================] - 11s 750ms/step - det_loss: 0.1983 - cls_loss: 0.1237 - box_loss: 0.0015 - reg_l2_loss: 0.0924 - loss: 0.2907 - learning_rate: 0.0016 - gradient_norm: 0.9312 - val_det_loss: 0.1637 - val_cls_loss: 0.1127 - val_box_loss: 0.0010 - val_reg_l2_loss: 0.0924 - val_loss: 0.2561\n",
      "Epoch 67/90\n",
      "15/15 [==============================] - 11s 736ms/step - det_loss: 0.2056 - cls_loss: 0.1306 - box_loss: 0.0015 - reg_l2_loss: 0.0924 - loss: 0.2980 - learning_rate: 0.0015 - gradient_norm: 0.9574 - val_det_loss: 0.1630 - val_cls_loss: 0.1129 - val_box_loss: 0.0010 - val_reg_l2_loss: 0.0924 - val_loss: 0.2554\n",
      "Epoch 68/90\n",
      "15/15 [==============================] - 13s 871ms/step - det_loss: 0.2055 - cls_loss: 0.1245 - box_loss: 0.0016 - reg_l2_loss: 0.0924 - loss: 0.2979 - learning_rate: 0.0014 - gradient_norm: 1.1073 - val_det_loss: 0.1623 - val_cls_loss: 0.1120 - val_box_loss: 0.0010 - val_reg_l2_loss: 0.0924 - val_loss: 0.2548\n",
      "Epoch 69/90\n",
      "15/15 [==============================] - 11s 751ms/step - det_loss: 0.2025 - cls_loss: 0.1310 - box_loss: 0.0014 - reg_l2_loss: 0.0924 - loss: 0.2949 - learning_rate: 0.0013 - gradient_norm: 1.0856 - val_det_loss: 0.1626 - val_cls_loss: 0.1129 - val_box_loss: 9.9392e-04 - val_reg_l2_loss: 0.0924 - val_loss: 0.2550\n",
      "Epoch 70/90\n",
      "15/15 [==============================] - 12s 844ms/step - det_loss: 0.1965 - cls_loss: 0.1244 - box_loss: 0.0014 - reg_l2_loss: 0.0924 - loss: 0.2889 - learning_rate: 0.0011 - gradient_norm: 1.0725 - val_det_loss: 0.1618 - val_cls_loss: 0.1127 - val_box_loss: 9.8258e-04 - val_reg_l2_loss: 0.0924 - val_loss: 0.2542\n",
      "Epoch 71/90\n",
      "15/15 [==============================] - 11s 777ms/step - det_loss: 0.2091 - cls_loss: 0.1271 - box_loss: 0.0016 - reg_l2_loss: 0.0924 - loss: 0.3015 - learning_rate: 0.0010 - gradient_norm: 0.9524 - val_det_loss: 0.1614 - val_cls_loss: 0.1120 - val_box_loss: 9.8947e-04 - val_reg_l2_loss: 0.0924 - val_loss: 0.2538\n",
      "Epoch 72/90\n",
      "15/15 [==============================] - 11s 749ms/step - det_loss: 0.2005 - cls_loss: 0.1275 - box_loss: 0.0015 - reg_l2_loss: 0.0924 - loss: 0.2929 - learning_rate: 9.2468e-04 - gradient_norm: 0.9933 - val_det_loss: 0.1621 - val_cls_loss: 0.1119 - val_box_loss: 0.0010 - val_reg_l2_loss: 0.0924 - val_loss: 0.2545\n",
      "Epoch 73/90\n",
      "15/15 [==============================] - 11s 760ms/step - det_loss: 0.1962 - cls_loss: 0.1258 - box_loss: 0.0014 - reg_l2_loss: 0.0924 - loss: 0.2886 - learning_rate: 8.2500e-04 - gradient_norm: 1.1128 - val_det_loss: 0.1615 - val_cls_loss: 0.1118 - val_box_loss: 9.9243e-04 - val_reg_l2_loss: 0.0924 - val_loss: 0.2539\n",
      "Epoch 74/90\n",
      "15/15 [==============================] - 11s 766ms/step - det_loss: 0.1980 - cls_loss: 0.1244 - box_loss: 0.0015 - reg_l2_loss: 0.0924 - loss: 0.2904 - learning_rate: 7.3052e-04 - gradient_norm: 0.9278 - val_det_loss: 0.1610 - val_cls_loss: 0.1116 - val_box_loss: 9.8917e-04 - val_reg_l2_loss: 0.0924 - val_loss: 0.2534\n",
      "Epoch 75/90\n",
      "15/15 [==============================] - 14s 963ms/step - det_loss: 0.1932 - cls_loss: 0.1220 - box_loss: 0.0014 - reg_l2_loss: 0.0924 - loss: 0.2856 - learning_rate: 6.4136e-04 - gradient_norm: 0.8964 - val_det_loss: 0.1601 - val_cls_loss: 0.1111 - val_box_loss: 9.8046e-04 - val_reg_l2_loss: 0.0924 - val_loss: 0.2525\n",
      "Epoch 76/90\n"
     ]
    },
    {
     "name": "stdout",
     "output_type": "stream",
     "text": [
      "15/15 [==============================] - 11s 739ms/step - det_loss: 0.2046 - cls_loss: 0.1271 - box_loss: 0.0015 - reg_l2_loss: 0.0924 - loss: 0.2970 - learning_rate: 5.5764e-04 - gradient_norm: 1.1862 - val_det_loss: 0.1611 - val_cls_loss: 0.1112 - val_box_loss: 9.9757e-04 - val_reg_l2_loss: 0.0924 - val_loss: 0.2535\n",
      "Epoch 77/90\n",
      "15/15 [==============================] - 11s 753ms/step - det_loss: 0.1936 - cls_loss: 0.1227 - box_loss: 0.0014 - reg_l2_loss: 0.0924 - loss: 0.2860 - learning_rate: 4.7944e-04 - gradient_norm: 0.9088 - val_det_loss: 0.1604 - val_cls_loss: 0.1114 - val_box_loss: 9.8173e-04 - val_reg_l2_loss: 0.0924 - val_loss: 0.2528\n",
      "Epoch 78/90\n",
      "15/15 [==============================] - 11s 756ms/step - det_loss: 0.1905 - cls_loss: 0.1207 - box_loss: 0.0014 - reg_l2_loss: 0.0924 - loss: 0.2829 - learning_rate: 4.0688e-04 - gradient_norm: 0.9642 - val_det_loss: 0.1604 - val_cls_loss: 0.1114 - val_box_loss: 9.7953e-04 - val_reg_l2_loss: 0.0924 - val_loss: 0.2528\n",
      "Epoch 79/90\n",
      "15/15 [==============================] - 11s 748ms/step - det_loss: 0.1950 - cls_loss: 0.1245 - box_loss: 0.0014 - reg_l2_loss: 0.0924 - loss: 0.2874 - learning_rate: 3.4005e-04 - gradient_norm: 0.9478 - val_det_loss: 0.1606 - val_cls_loss: 0.1117 - val_box_loss: 9.7865e-04 - val_reg_l2_loss: 0.0924 - val_loss: 0.2530\n",
      "Epoch 80/90\n",
      "15/15 [==============================] - 12s 828ms/step - det_loss: 0.1835 - cls_loss: 0.1164 - box_loss: 0.0013 - reg_l2_loss: 0.0924 - loss: 0.2759 - learning_rate: 2.7901e-04 - gradient_norm: 0.7925 - val_det_loss: 0.1607 - val_cls_loss: 0.1119 - val_box_loss: 9.7666e-04 - val_reg_l2_loss: 0.0924 - val_loss: 0.2531\n",
      "Epoch 81/90\n",
      "15/15 [==============================] - 11s 758ms/step - det_loss: 0.1965 - cls_loss: 0.1228 - box_loss: 0.0015 - reg_l2_loss: 0.0924 - loss: 0.2889 - learning_rate: 2.2386e-04 - gradient_norm: 0.9305 - val_det_loss: 0.1606 - val_cls_loss: 0.1118 - val_box_loss: 9.7688e-04 - val_reg_l2_loss: 0.0924 - val_loss: 0.2530\n",
      "Epoch 82/90\n",
      "15/15 [==============================] - 13s 865ms/step - det_loss: 0.2005 - cls_loss: 0.1254 - box_loss: 0.0015 - reg_l2_loss: 0.0924 - loss: 0.2929 - learning_rate: 1.7466e-04 - gradient_norm: 0.9199 - val_det_loss: 0.1605 - val_cls_loss: 0.1116 - val_box_loss: 9.7793e-04 - val_reg_l2_loss: 0.0924 - val_loss: 0.2529\n",
      "Epoch 83/90\n",
      "15/15 [==============================] - 11s 741ms/step - det_loss: 0.2139 - cls_loss: 0.1295 - box_loss: 0.0017 - reg_l2_loss: 0.0924 - loss: 0.3063 - learning_rate: 1.3147e-04 - gradient_norm: 1.2361 - val_det_loss: 0.1605 - val_cls_loss: 0.1115 - val_box_loss: 9.7975e-04 - val_reg_l2_loss: 0.0924 - val_loss: 0.2529\n",
      "Epoch 84/90\n",
      "15/15 [==============================] - 11s 737ms/step - det_loss: 0.1917 - cls_loss: 0.1219 - box_loss: 0.0014 - reg_l2_loss: 0.0924 - loss: 0.2841 - learning_rate: 9.4352e-05 - gradient_norm: 0.9838 - val_det_loss: 0.1605 - val_cls_loss: 0.1114 - val_box_loss: 9.8244e-04 - val_reg_l2_loss: 0.0924 - val_loss: 0.2529\n",
      "Epoch 85/90\n",
      "15/15 [==============================] - 12s 813ms/step - det_loss: 0.1933 - cls_loss: 0.1275 - box_loss: 0.0013 - reg_l2_loss: 0.0924 - loss: 0.2857 - learning_rate: 6.3341e-05 - gradient_norm: 1.0588 - val_det_loss: 0.1605 - val_cls_loss: 0.1114 - val_box_loss: 9.8204e-04 - val_reg_l2_loss: 0.0924 - val_loss: 0.2529\n",
      "Epoch 86/90\n",
      "15/15 [==============================] - 11s 744ms/step - det_loss: 0.1914 - cls_loss: 0.1242 - box_loss: 0.0013 - reg_l2_loss: 0.0924 - loss: 0.2838 - learning_rate: 3.8481e-05 - gradient_norm: 0.8873 - val_det_loss: 0.1606 - val_cls_loss: 0.1114 - val_box_loss: 9.8315e-04 - val_reg_l2_loss: 0.0924 - val_loss: 0.2529\n",
      "Epoch 87/90\n",
      "15/15 [==============================] - 11s 730ms/step - det_loss: 0.2031 - cls_loss: 0.1274 - box_loss: 0.0015 - reg_l2_loss: 0.0924 - loss: 0.2955 - learning_rate: 1.9802e-05 - gradient_norm: 1.0191 - val_det_loss: 0.1606 - val_cls_loss: 0.1114 - val_box_loss: 9.8440e-04 - val_reg_l2_loss: 0.0924 - val_loss: 0.2530\n",
      "Epoch 88/90\n",
      "15/15 [==============================] - 11s 732ms/step - det_loss: 0.1972 - cls_loss: 0.1227 - box_loss: 0.0015 - reg_l2_loss: 0.0924 - loss: 0.2896 - learning_rate: 7.3277e-06 - gradient_norm: 0.9836 - val_det_loss: 0.1604 - val_cls_loss: 0.1113 - val_box_loss: 9.8171e-04 - val_reg_l2_loss: 0.0924 - val_loss: 0.2528\n",
      "Epoch 89/90\n",
      "15/15 [==============================] - 13s 892ms/step - det_loss: 0.1982 - cls_loss: 0.1217 - box_loss: 0.0015 - reg_l2_loss: 0.0924 - loss: 0.2906 - learning_rate: 1.0737e-06 - gradient_norm: 1.0013 - val_det_loss: 0.1602 - val_cls_loss: 0.1112 - val_box_loss: 9.8060e-04 - val_reg_l2_loss: 0.0924 - val_loss: 0.2526\n",
      "Epoch 90/90\n",
      "15/15 [==============================] - 13s 854ms/step - det_loss: 0.1883 - cls_loss: 0.1206 - box_loss: 0.0014 - reg_l2_loss: 0.0924 - loss: 0.2807 - learning_rate: 1.0478e-06 - gradient_norm: 0.9744 - val_det_loss: 0.1604 - val_cls_loss: 0.1112 - val_box_loss: 9.8212e-04 - val_reg_l2_loss: 0.0924 - val_loss: 0.2527\n"
     ]
    }
   ],
   "source": [
    "model_num = 3\n",
    "model_name = f'efficientdet_lite{model_num}'\n",
    "\n",
    "epochs = 90\n",
    "\n",
    "## First train the smallest model\n",
    "spec = model_spec.get(model_name)\n",
    "spec.config.model_dir = model_name\n",
    "\n",
    "model = object_detector.create(train_data, \n",
    "                               model_spec=spec, \n",
    "                               batch_size=8,\n",
    "                               epochs=epochs,\n",
    "                               train_whole_model=True, \n",
    "                               validation_data=validation_data)"
   ]
  },
  {
   "cell_type": "code",
   "execution_count": 34,
   "metadata": {},
   "outputs": [],
   "source": [
    "%%capture cap --no-stderr\n",
    "model.evaluate(test_data)"
   ]
  },
  {
   "cell_type": "code",
   "execution_count": 35,
   "metadata": {},
   "outputs": [
    {
     "name": "stdout",
     "output_type": "stream",
     "text": [
      "\r",
      "1/1 [==============================] - 5s 5s/step\n",
      "\n"
     ]
    },
    {
     "data": {
      "text/plain": [
       "{'AP': 0.5211566,\n",
       " 'AP50': 0.8004745,\n",
       " 'AP75': 0.568056,\n",
       " 'APs': 0.4175805,\n",
       " 'APm': 0.72901905,\n",
       " 'APl': 0.74534607,\n",
       " 'ARmax1': 0.022597864,\n",
       " 'ARmax10': 0.20871887,\n",
       " 'ARmax100': 0.5911032,\n",
       " 'ARs': 0.48992044,\n",
       " 'ARm': 0.7894737,\n",
       " 'ARl': 0.87333333,\n",
       " 'AP_/label': -1.0,\n",
       " 'AP_/climbing_hold': 0.5211566}"
      ]
     },
     "metadata": {},
     "output_type": "display_data"
    }
   ],
   "source": [
    "with open(f'evaluation_EfficientDet{model_num}_preLite.txt', 'w') as f:\n",
    "    f.write(\"\\n\".join(str(cap.outputs[0].data).split('\\\\n')))\n",
    "    \n",
    "cap()"
   ]
  },
  {
   "cell_type": "code",
   "execution_count": 36,
   "metadata": {},
   "outputs": [
    {
     "name": "stderr",
     "output_type": "stream",
     "text": [
      "2022-08-04 17:00:30.740061: W tensorflow/core/common_runtime/graph_constructor.cc:803] Node 'resample_p7/PartitionedCall' has 1 outputs but the _output_shapes attribute specifies shapes for 3 outputs. Output shapes may be inaccurate.\n",
      "2022-08-04 17:00:43.443672: W tensorflow/compiler/mlir/lite/python/tf_tfl_flatbuffer_helpers.cc:357] Ignored output_format.\n",
      "2022-08-04 17:00:43.443719: W tensorflow/compiler/mlir/lite/python/tf_tfl_flatbuffer_helpers.cc:360] Ignored drop_control_dependency.\n",
      "2022-08-04 17:00:43.443996: I tensorflow/cc/saved_model/reader.cc:43] Reading SavedModel from: /tmp/tmphtyzmaut\n",
      "2022-08-04 17:00:43.635614: I tensorflow/cc/saved_model/reader.cc:78] Reading meta graph with tags { serve }\n",
      "2022-08-04 17:00:43.635684: I tensorflow/cc/saved_model/reader.cc:119] Reading SavedModel debug info (if present) from: /tmp/tmphtyzmaut\n",
      "2022-08-04 17:00:44.288650: I tensorflow/cc/saved_model/loader.cc:228] Restoring SavedModel bundle.\n",
      "2022-08-04 17:00:47.780364: I tensorflow/cc/saved_model/loader.cc:212] Running initialization op on SavedModel bundle at path: /tmp/tmphtyzmaut\n",
      "2022-08-04 17:00:49.361993: I tensorflow/cc/saved_model/loader.cc:301] SavedModel load for tags { serve }; Status: success: OK. Took 5917999 microseconds.\n",
      "2022-08-04 17:00:55.802600: I tensorflow/compiler/mlir/lite/flatbuffer_export.cc:1963] Estimated count of arithmetic ops: 13.698 G  ops, equivalently 6.849 G  MACs\n",
      "\n",
      "fully_quantize: 0, inference_type: 6, input_inference_type: 3, output_inference_type: 0\n",
      "2022-08-04 17:03:52.637281: I tensorflow/compiler/mlir/lite/flatbuffer_export.cc:1963] Estimated count of arithmetic ops: 13.698 G  ops, equivalently 6.849 G  MACs\n",
      "\n"
     ]
    }
   ],
   "source": [
    "model.export(export_dir='.', tflite_filename=f'model{model_num}.tflite')"
   ]
  },
  {
   "cell_type": "code",
   "execution_count": 37,
   "metadata": {},
   "outputs": [],
   "source": [
    "%%capture cap --no-stderr\n",
    "model.evaluate_tflite(f'model{model_num}.tflite', test_data)"
   ]
  },
  {
   "cell_type": "code",
   "execution_count": 38,
   "metadata": {},
   "outputs": [
    {
     "name": "stdout",
     "output_type": "stream",
     "text": [
      "\r",
      " 1/15 [=>............................] - ETA: 4:17\b\b\b\b\b\b\b\b\b\b\b\b\b\b\b\b\b\b\b\b\b\b\b\b\b\b\b\b\b\b\b\b\b\b\b\b\b\b\b\b\b\b\b\b\b\b\b\b\b\b\r",
      " 2/15 [===>..........................] - ETA: 3:49\b\b\b\b\b\b\b\b\b\b\b\b\b\b\b\b\b\b\b\b\b\b\b\b\b\b\b\b\b\b\b\b\b\b\b\b\b\b\b\b\b\b\b\b\b\b\b\b\b\b\r",
      " 3/15 [=====>........................] - ETA: 3:31\b\b\b\b\b\b\b\b\b\b\b\b\b\b\b\b\b\b\b\b\b\b\b\b\b\b\b\b\b\b\b\b\b\b\b\b\b\b\b\b\b\b\b\b\b\b\b\b\b\b\r",
      " 4/15 [=======>......................] - ETA: 3:13\b\b\b\b\b\b\b\b\b\b\b\b\b\b\b\b\b\b\b\b\b\b\b\b\b\b\b\b\b\b\b\b\b\b\b\b\b\b\b\b\b\b\b\b\b\b\b\b\b\b\r",
      " 5/15 [=========>....................] - ETA: 2:56\b\b\b\b\b\b\b\b\b\b\b\b\b\b\b\b\b\b\b\b\b\b\b\b\b\b\b\b\b\b\b\b\b\b\b\b\b\b\b\b\b\b\b\b\b\b\b\b\b\b\r",
      " 6/15 [===========>..................] - ETA: 2:39\b\b\b\b\b\b\b\b\b\b\b\b\b\b\b\b\b\b\b\b\b\b\b\b\b\b\b\b\b\b\b\b\b\b\b\b\b\b\b\b\b\b\b\b\b\b\b\b\b\b\r",
      " 7/15 [=============>................] - ETA: 2:21\b\b\b\b\b\b\b\b\b\b\b\b\b\b\b\b\b\b\b\b\b\b\b\b\b\b\b\b\b\b\b\b\b\b\b\b\b\b\b\b\b\b\b\b\b\b\b\b\b\b\r",
      " 8/15 [===============>..............] - ETA: 2:03\b\b\b\b\b\b\b\b\b\b\b\b\b\b\b\b\b\b\b\b\b\b\b\b\b\b\b\b\b\b\b\b\b\b\b\b\b\b\b\b\b\b\b\b\b\b\b\b\b\b\r",
      " 9/15 [=================>............] - ETA: 1:46\b\b\b\b\b\b\b\b\b\b\b\b\b\b\b\b\b\b\b\b\b\b\b\b\b\b\b\b\b\b\b\b\b\b\b\b\b\b\b\b\b\b\b\b\b\b\b\b\b\b\r",
      "10/15 [===================>..........] - ETA: 1:28\b\b\b\b\b\b\b\b\b\b\b\b\b\b\b\b\b\b\b\b\b\b\b\b\b\b\b\b\b\b\b\b\b\b\b\b\b\b\b\b\b\b\b\b\b\b\b\b\b\b\r",
      "11/15 [=====================>........] - ETA: 1:10\b\b\b\b\b\b\b\b\b\b\b\b\b\b\b\b\b\b\b\b\b\b\b\b\b\b\b\b\b\b\b\b\b\b\b\b\b\b\b\b\b\b\b\b\b\b\b\b\b\b\r",
      "12/15 [=======================>......] - ETA: 53s \b\b\b\b\b\b\b\b\b\b\b\b\b\b\b\b\b\b\b\b\b\b\b\b\b\b\b\b\b\b\b\b\b\b\b\b\b\b\b\b\b\b\b\b\b\b\b\b\b\r",
      "13/15 [=========================>....] - ETA: 35s\b\b\b\b\b\b\b\b\b\b\b\b\b\b\b\b\b\b\b\b\b\b\b\b\b\b\b\b\b\b\b\b\b\b\b\b\b\b\b\b\b\b\b\b\b\b\b\b\b\r",
      "14/15 [===========================>..] - ETA: 17s\b\b\b\b\b\b\b\b\b\b\b\b\b\b\b\b\b\b\b\b\b\b\b\b\b\b\b\b\b\b\b\b\b\b\b\b\b\b\b\b\b\b\b\b\b\b\b\b\b\r",
      "15/15 [==============================] - 266s 18s/step\n",
      "\n"
     ]
    },
    {
     "data": {
      "text/plain": [
       "{'AP': 0.36480582,\n",
       " 'AP50': 0.5071582,\n",
       " 'AP75': 0.42848298,\n",
       " 'APs': 0.21012376,\n",
       " 'APm': 0.6759067,\n",
       " 'APl': 0.75484735,\n",
       " 'ARmax1': 0.022241993,\n",
       " 'ARmax10': 0.20729537,\n",
       " 'ARmax100': 0.39021352,\n",
       " 'ARs': 0.22387268,\n",
       " 'ARm': 0.71695906,\n",
       " 'ARl': 0.86,\n",
       " 'AP_/label': -1.0,\n",
       " 'AP_/climbing_hold': 0.36480582}"
      ]
     },
     "metadata": {},
     "output_type": "display_data"
    }
   ],
   "source": [
    "with open(f'evaluation_EfficientDet-Lite{model_num}.txt', 'w') as f:\n",
    "    f.write(\"\\n\".join(str(cap.outputs[0].data).split('\\\\n')))\n",
    "    \n",
    "cap()"
   ]
  },
  {
   "cell_type": "markdown",
   "metadata": {},
   "source": [
    "## EfficientDet-Lite4"
   ]
  },
  {
   "cell_type": "code",
   "execution_count": 39,
   "metadata": {},
   "outputs": [
    {
     "name": "stdout",
     "output_type": "stream",
     "text": [
      "Epoch 1/90\n",
      "15/15 [==============================] - 83s 2s/step - det_loss: 1.7813 - cls_loss: 1.1125 - box_loss: 0.0134 - reg_l2_loss: 0.1078 - loss: 1.8891 - learning_rate: 0.0090 - gradient_norm: 0.6595 - val_det_loss: 1.5914 - val_cls_loss: 1.0633 - val_box_loss: 0.0106 - val_reg_l2_loss: 0.1078 - val_loss: 1.6992\n",
      "Epoch 2/90\n",
      "15/15 [==============================] - 22s 1s/step - det_loss: 1.4542 - cls_loss: 0.9338 - box_loss: 0.0104 - reg_l2_loss: 0.1078 - loss: 1.5620 - learning_rate: 0.0100 - gradient_norm: 1.1529 - val_det_loss: 0.9460 - val_cls_loss: 0.5663 - val_box_loss: 0.0076 - val_reg_l2_loss: 0.1078 - val_loss: 1.0538\n",
      "Epoch 3/90\n",
      "15/15 [==============================] - 25s 2s/step - det_loss: 0.8895 - cls_loss: 0.5039 - box_loss: 0.0077 - reg_l2_loss: 0.1078 - loss: 0.9973 - learning_rate: 0.0100 - gradient_norm: 2.2816 - val_det_loss: 0.8261 - val_cls_loss: 0.5873 - val_box_loss: 0.0048 - val_reg_l2_loss: 0.1078 - val_loss: 0.9339\n",
      "Epoch 4/90\n",
      "15/15 [==============================] - 22s 2s/step - det_loss: 0.6169 - cls_loss: 0.3378 - box_loss: 0.0056 - reg_l2_loss: 0.1078 - loss: 0.7248 - learning_rate: 0.0100 - gradient_norm: 1.7008 - val_det_loss: 0.6625 - val_cls_loss: 0.4633 - val_box_loss: 0.0040 - val_reg_l2_loss: 0.1078 - val_loss: 0.7704\n",
      "Epoch 5/90\n",
      "15/15 [==============================] - 27s 2s/step - det_loss: 0.4592 - cls_loss: 0.2713 - box_loss: 0.0038 - reg_l2_loss: 0.1078 - loss: 0.5670 - learning_rate: 0.0099 - gradient_norm: 1.3236 - val_det_loss: 0.4957 - val_cls_loss: 0.3357 - val_box_loss: 0.0032 - val_reg_l2_loss: 0.1078 - val_loss: 0.6035\n",
      "Epoch 6/90\n",
      "15/15 [==============================] - 22s 1s/step - det_loss: 0.4450 - cls_loss: 0.2684 - box_loss: 0.0035 - reg_l2_loss: 0.1078 - loss: 0.5529 - learning_rate: 0.0099 - gradient_norm: 1.5273 - val_det_loss: 0.4247 - val_cls_loss: 0.2666 - val_box_loss: 0.0032 - val_reg_l2_loss: 0.1078 - val_loss: 0.5325\n",
      "Epoch 7/90\n",
      "15/15 [==============================] - 22s 1s/step - det_loss: 0.3781 - cls_loss: 0.2312 - box_loss: 0.0029 - reg_l2_loss: 0.1078 - loss: 0.4859 - learning_rate: 0.0099 - gradient_norm: 1.4254 - val_det_loss: 0.3196 - val_cls_loss: 0.2042 - val_box_loss: 0.0023 - val_reg_l2_loss: 0.1078 - val_loss: 0.4275\n",
      "Epoch 8/90\n",
      "15/15 [==============================] - 22s 1s/step - det_loss: 0.3448 - cls_loss: 0.2165 - box_loss: 0.0026 - reg_l2_loss: 0.1078 - loss: 0.4526 - learning_rate: 0.0098 - gradient_norm: 1.3052 - val_det_loss: 0.3074 - val_cls_loss: 0.1938 - val_box_loss: 0.0023 - val_reg_l2_loss: 0.1078 - val_loss: 0.4152\n",
      "Epoch 9/90\n",
      "15/15 [==============================] - 23s 2s/step - det_loss: 0.3323 - cls_loss: 0.2135 - box_loss: 0.0024 - reg_l2_loss: 0.1078 - loss: 0.4401 - learning_rate: 0.0098 - gradient_norm: 1.2522 - val_det_loss: 0.2733 - val_cls_loss: 0.1829 - val_box_loss: 0.0018 - val_reg_l2_loss: 0.1078 - val_loss: 0.3811\n",
      "Epoch 10/90\n",
      "15/15 [==============================] - 24s 2s/step - det_loss: 0.3214 - cls_loss: 0.2023 - box_loss: 0.0024 - reg_l2_loss: 0.1078 - loss: 0.4292 - learning_rate: 0.0097 - gradient_norm: 1.2026 - val_det_loss: 0.2715 - val_cls_loss: 0.1759 - val_box_loss: 0.0019 - val_reg_l2_loss: 0.1078 - val_loss: 0.3793\n",
      "Epoch 11/90\n",
      "15/15 [==============================] - 25s 2s/step - det_loss: 0.3014 - cls_loss: 0.1948 - box_loss: 0.0021 - reg_l2_loss: 0.1078 - loss: 0.4092 - learning_rate: 0.0097 - gradient_norm: 1.3278 - val_det_loss: 0.2489 - val_cls_loss: 0.1714 - val_box_loss: 0.0015 - val_reg_l2_loss: 0.1078 - val_loss: 0.3567\n",
      "Epoch 12/90\n",
      "15/15 [==============================] - 22s 1s/step - det_loss: 0.2914 - cls_loss: 0.1908 - box_loss: 0.0020 - reg_l2_loss: 0.1078 - loss: 0.3992 - learning_rate: 0.0096 - gradient_norm: 1.2383 - val_det_loss: 0.2485 - val_cls_loss: 0.1716 - val_box_loss: 0.0015 - val_reg_l2_loss: 0.1078 - val_loss: 0.3563\n",
      "Epoch 13/90\n",
      "15/15 [==============================] - 22s 2s/step - det_loss: 0.2855 - cls_loss: 0.1842 - box_loss: 0.0020 - reg_l2_loss: 0.1078 - loss: 0.3933 - learning_rate: 0.0095 - gradient_norm: 1.2139 - val_det_loss: 0.2592 - val_cls_loss: 0.1825 - val_box_loss: 0.0015 - val_reg_l2_loss: 0.1078 - val_loss: 0.3670\n",
      "Epoch 14/90\n",
      "15/15 [==============================] - 23s 2s/step - det_loss: 0.2841 - cls_loss: 0.1839 - box_loss: 0.0020 - reg_l2_loss: 0.1078 - loss: 0.3919 - learning_rate: 0.0094 - gradient_norm: 1.3150 - val_det_loss: 0.2284 - val_cls_loss: 0.1597 - val_box_loss: 0.0014 - val_reg_l2_loss: 0.1078 - val_loss: 0.3362\n",
      "Epoch 15/90\n",
      "15/15 [==============================] - 24s 2s/step - det_loss: 0.2888 - cls_loss: 0.1836 - box_loss: 0.0021 - reg_l2_loss: 0.1078 - loss: 0.3966 - learning_rate: 0.0094 - gradient_norm: 1.3494 - val_det_loss: 0.2171 - val_cls_loss: 0.1515 - val_box_loss: 0.0013 - val_reg_l2_loss: 0.1078 - val_loss: 0.3249\n",
      "Epoch 16/90\n",
      "15/15 [==============================] - 22s 1s/step - det_loss: 0.2824 - cls_loss: 0.1816 - box_loss: 0.0020 - reg_l2_loss: 0.1078 - loss: 0.3901 - learning_rate: 0.0093 - gradient_norm: 1.2492 - val_det_loss: 0.2208 - val_cls_loss: 0.1535 - val_box_loss: 0.0013 - val_reg_l2_loss: 0.1078 - val_loss: 0.3286\n",
      "Epoch 17/90\n",
      "15/15 [==============================] - 22s 1s/step - det_loss: 0.2716 - cls_loss: 0.1722 - box_loss: 0.0020 - reg_l2_loss: 0.1078 - loss: 0.3794 - learning_rate: 0.0092 - gradient_norm: 1.1670 - val_det_loss: 0.2127 - val_cls_loss: 0.1508 - val_box_loss: 0.0012 - val_reg_l2_loss: 0.1078 - val_loss: 0.3205\n",
      "Epoch 18/90\n",
      "15/15 [==============================] - 22s 1s/step - det_loss: 0.2533 - cls_loss: 0.1676 - box_loss: 0.0017 - reg_l2_loss: 0.1078 - loss: 0.3611 - learning_rate: 0.0091 - gradient_norm: 1.1226 - val_det_loss: 0.2151 - val_cls_loss: 0.1510 - val_box_loss: 0.0013 - val_reg_l2_loss: 0.1078 - val_loss: 0.3229\n",
      "Epoch 19/90\n",
      "15/15 [==============================] - 22s 2s/step - det_loss: 0.2596 - cls_loss: 0.1693 - box_loss: 0.0018 - reg_l2_loss: 0.1078 - loss: 0.3674 - learning_rate: 0.0090 - gradient_norm: 1.1528 - val_det_loss: 0.2028 - val_cls_loss: 0.1417 - val_box_loss: 0.0012 - val_reg_l2_loss: 0.1078 - val_loss: 0.3105\n",
      "Epoch 20/90\n",
      "15/15 [==============================] - 23s 2s/step - det_loss: 0.2572 - cls_loss: 0.1661 - box_loss: 0.0018 - reg_l2_loss: 0.1078 - loss: 0.3650 - learning_rate: 0.0089 - gradient_norm: 1.2733 - val_det_loss: 0.2039 - val_cls_loss: 0.1424 - val_box_loss: 0.0012 - val_reg_l2_loss: 0.1078 - val_loss: 0.3117\n",
      "Epoch 21/90\n",
      "15/15 [==============================] - 26s 2s/step - det_loss: 0.2421 - cls_loss: 0.1587 - box_loss: 0.0017 - reg_l2_loss: 0.1078 - loss: 0.3499 - learning_rate: 0.0087 - gradient_norm: 1.1267 - val_det_loss: 0.2048 - val_cls_loss: 0.1466 - val_box_loss: 0.0012 - val_reg_l2_loss: 0.1077 - val_loss: 0.3125\n",
      "Epoch 22/90\n",
      "15/15 [==============================] - 22s 1s/step - det_loss: 0.2494 - cls_loss: 0.1647 - box_loss: 0.0017 - reg_l2_loss: 0.1077 - loss: 0.3571 - learning_rate: 0.0086 - gradient_norm: 1.1507 - val_det_loss: 0.1964 - val_cls_loss: 0.1389 - val_box_loss: 0.0012 - val_reg_l2_loss: 0.1077 - val_loss: 0.3042\n",
      "Epoch 23/90\n",
      "15/15 [==============================] - 22s 1s/step - det_loss: 0.2298 - cls_loss: 0.1510 - box_loss: 0.0016 - reg_l2_loss: 0.1077 - loss: 0.3375 - learning_rate: 0.0085 - gradient_norm: 1.0749 - val_det_loss: 0.1909 - val_cls_loss: 0.1342 - val_box_loss: 0.0011 - val_reg_l2_loss: 0.1077 - val_loss: 0.2986\n",
      "Epoch 24/90\n",
      "15/15 [==============================] - 22s 1s/step - det_loss: 0.2445 - cls_loss: 0.1604 - box_loss: 0.0017 - reg_l2_loss: 0.1077 - loss: 0.3522 - learning_rate: 0.0084 - gradient_norm: 1.3686 - val_det_loss: 0.2032 - val_cls_loss: 0.1431 - val_box_loss: 0.0012 - val_reg_l2_loss: 0.1077 - val_loss: 0.3110\n",
      "Epoch 25/90\n",
      "15/15 [==============================] - 23s 2s/step - det_loss: 0.2362 - cls_loss: 0.1557 - box_loss: 0.0016 - reg_l2_loss: 0.1077 - loss: 0.3439 - learning_rate: 0.0082 - gradient_norm: 1.1332 - val_det_loss: 0.2046 - val_cls_loss: 0.1463 - val_box_loss: 0.0012 - val_reg_l2_loss: 0.1077 - val_loss: 0.3124\n",
      "Epoch 26/90\n"
     ]
    },
    {
     "name": "stdout",
     "output_type": "stream",
     "text": [
      "15/15 [==============================] - 22s 1s/step - det_loss: 0.2247 - cls_loss: 0.1492 - box_loss: 0.0015 - reg_l2_loss: 0.1077 - loss: 0.3324 - learning_rate: 0.0081 - gradient_norm: 1.1974 - val_det_loss: 0.2010 - val_cls_loss: 0.1396 - val_box_loss: 0.0012 - val_reg_l2_loss: 0.1077 - val_loss: 0.3087\n",
      "Epoch 27/90\n",
      "15/15 [==============================] - 22s 2s/step - det_loss: 0.2281 - cls_loss: 0.1472 - box_loss: 0.0016 - reg_l2_loss: 0.1077 - loss: 0.3358 - learning_rate: 0.0080 - gradient_norm: 1.1275 - val_det_loss: 0.1905 - val_cls_loss: 0.1333 - val_box_loss: 0.0011 - val_reg_l2_loss: 0.1077 - val_loss: 0.2983\n",
      "Epoch 28/90\n",
      "15/15 [==============================] - 23s 2s/step - det_loss: 0.2341 - cls_loss: 0.1470 - box_loss: 0.0017 - reg_l2_loss: 0.1077 - loss: 0.3418 - learning_rate: 0.0078 - gradient_norm: 1.2205 - val_det_loss: 0.1927 - val_cls_loss: 0.1361 - val_box_loss: 0.0011 - val_reg_l2_loss: 0.1077 - val_loss: 0.3004\n",
      "Epoch 29/90\n",
      "15/15 [==============================] - 25s 2s/step - det_loss: 0.2261 - cls_loss: 0.1471 - box_loss: 0.0016 - reg_l2_loss: 0.1077 - loss: 0.3338 - learning_rate: 0.0077 - gradient_norm: 1.1377 - val_det_loss: 0.2075 - val_cls_loss: 0.1472 - val_box_loss: 0.0012 - val_reg_l2_loss: 0.1077 - val_loss: 0.3152\n",
      "Epoch 30/90\n",
      "15/15 [==============================] - 23s 2s/step - det_loss: 0.2307 - cls_loss: 0.1463 - box_loss: 0.0017 - reg_l2_loss: 0.1077 - loss: 0.3384 - learning_rate: 0.0075 - gradient_norm: 1.1354 - val_det_loss: 0.1917 - val_cls_loss: 0.1351 - val_box_loss: 0.0011 - val_reg_l2_loss: 0.1077 - val_loss: 0.2994\n",
      "Epoch 31/90\n",
      "15/15 [==============================] - 22s 1s/step - det_loss: 0.2248 - cls_loss: 0.1445 - box_loss: 0.0016 - reg_l2_loss: 0.1077 - loss: 0.3325 - learning_rate: 0.0074 - gradient_norm: 1.1051 - val_det_loss: 0.1851 - val_cls_loss: 0.1305 - val_box_loss: 0.0011 - val_reg_l2_loss: 0.1077 - val_loss: 0.2928\n",
      "Epoch 32/90\n",
      "15/15 [==============================] - 22s 1s/step - det_loss: 0.2174 - cls_loss: 0.1403 - box_loss: 0.0015 - reg_l2_loss: 0.1077 - loss: 0.3251 - learning_rate: 0.0072 - gradient_norm: 1.2149 - val_det_loss: 0.1829 - val_cls_loss: 0.1278 - val_box_loss: 0.0011 - val_reg_l2_loss: 0.1077 - val_loss: 0.2906\n",
      "Epoch 33/90\n",
      "15/15 [==============================] - 22s 1s/step - det_loss: 0.2197 - cls_loss: 0.1425 - box_loss: 0.0015 - reg_l2_loss: 0.1077 - loss: 0.3274 - learning_rate: 0.0071 - gradient_norm: 1.0569 - val_det_loss: 0.1840 - val_cls_loss: 0.1301 - val_box_loss: 0.0011 - val_reg_l2_loss: 0.1077 - val_loss: 0.2917\n",
      "Epoch 34/90\n",
      "15/15 [==============================] - 22s 2s/step - det_loss: 0.2288 - cls_loss: 0.1458 - box_loss: 0.0017 - reg_l2_loss: 0.1077 - loss: 0.3365 - learning_rate: 0.0069 - gradient_norm: 1.2336 - val_det_loss: 0.1844 - val_cls_loss: 0.1311 - val_box_loss: 0.0011 - val_reg_l2_loss: 0.1077 - val_loss: 0.2921\n",
      "Epoch 35/90\n",
      "15/15 [==============================] - 23s 2s/step - det_loss: 0.2147 - cls_loss: 0.1392 - box_loss: 0.0015 - reg_l2_loss: 0.1077 - loss: 0.3223 - learning_rate: 0.0067 - gradient_norm: 1.1792 - val_det_loss: 0.1876 - val_cls_loss: 0.1313 - val_box_loss: 0.0011 - val_reg_l2_loss: 0.1077 - val_loss: 0.2953\n",
      "Epoch 36/90\n",
      "15/15 [==============================] - 22s 1s/step - det_loss: 0.2083 - cls_loss: 0.1339 - box_loss: 0.0015 - reg_l2_loss: 0.1077 - loss: 0.3160 - learning_rate: 0.0066 - gradient_norm: 1.0995 - val_det_loss: 0.1821 - val_cls_loss: 0.1282 - val_box_loss: 0.0011 - val_reg_l2_loss: 0.1077 - val_loss: 0.2898\n",
      "Epoch 37/90\n",
      "15/15 [==============================] - 22s 1s/step - det_loss: 0.2203 - cls_loss: 0.1355 - box_loss: 0.0017 - reg_l2_loss: 0.1077 - loss: 0.3280 - learning_rate: 0.0064 - gradient_norm: 1.0987 - val_det_loss: 0.1816 - val_cls_loss: 0.1286 - val_box_loss: 0.0011 - val_reg_l2_loss: 0.1077 - val_loss: 0.2893\n",
      "Epoch 38/90\n",
      "15/15 [==============================] - 25s 2s/step - det_loss: 0.2110 - cls_loss: 0.1357 - box_loss: 0.0015 - reg_l2_loss: 0.1077 - loss: 0.3186 - learning_rate: 0.0062 - gradient_norm: 1.0632 - val_det_loss: 0.1832 - val_cls_loss: 0.1293 - val_box_loss: 0.0011 - val_reg_l2_loss: 0.1077 - val_loss: 0.2909\n",
      "Epoch 39/90\n",
      "15/15 [==============================] - 22s 1s/step - det_loss: 0.2062 - cls_loss: 0.1364 - box_loss: 0.0014 - reg_l2_loss: 0.1076 - loss: 0.3139 - learning_rate: 0.0061 - gradient_norm: 1.0446 - val_det_loss: 0.1805 - val_cls_loss: 0.1259 - val_box_loss: 0.0011 - val_reg_l2_loss: 0.1076 - val_loss: 0.2881\n",
      "Epoch 40/90\n",
      "15/15 [==============================] - 24s 2s/step - det_loss: 0.2218 - cls_loss: 0.1393 - box_loss: 0.0017 - reg_l2_loss: 0.1076 - loss: 0.3295 - learning_rate: 0.0059 - gradient_norm: 1.3095 - val_det_loss: 0.1867 - val_cls_loss: 0.1306 - val_box_loss: 0.0011 - val_reg_l2_loss: 0.1076 - val_loss: 0.2944\n",
      "Epoch 41/90\n",
      "15/15 [==============================] - 23s 2s/step - det_loss: 0.2048 - cls_loss: 0.1365 - box_loss: 0.0014 - reg_l2_loss: 0.1076 - loss: 0.3125 - learning_rate: 0.0057 - gradient_norm: 1.0849 - val_det_loss: 0.1844 - val_cls_loss: 0.1272 - val_box_loss: 0.0011 - val_reg_l2_loss: 0.1076 - val_loss: 0.2920\n",
      "Epoch 42/90\n",
      "15/15 [==============================] - 24s 2s/step - det_loss: 0.2161 - cls_loss: 0.1417 - box_loss: 0.0015 - reg_l2_loss: 0.1076 - loss: 0.3238 - learning_rate: 0.0055 - gradient_norm: 1.2864 - val_det_loss: 0.1840 - val_cls_loss: 0.1257 - val_box_loss: 0.0012 - val_reg_l2_loss: 0.1076 - val_loss: 0.2916\n",
      "Epoch 43/90\n",
      "15/15 [==============================] - 22s 1s/step - det_loss: 0.2042 - cls_loss: 0.1314 - box_loss: 0.0015 - reg_l2_loss: 0.1076 - loss: 0.3119 - learning_rate: 0.0054 - gradient_norm: 1.0830 - val_det_loss: 0.1806 - val_cls_loss: 0.1276 - val_box_loss: 0.0011 - val_reg_l2_loss: 0.1076 - val_loss: 0.2882\n",
      "Epoch 44/90\n",
      "15/15 [==============================] - 22s 1s/step - det_loss: 0.1988 - cls_loss: 0.1259 - box_loss: 0.0015 - reg_l2_loss: 0.1076 - loss: 0.3065 - learning_rate: 0.0052 - gradient_norm: 0.9932 - val_det_loss: 0.1775 - val_cls_loss: 0.1239 - val_box_loss: 0.0011 - val_reg_l2_loss: 0.1076 - val_loss: 0.2851\n",
      "Epoch 45/90\n",
      "15/15 [==============================] - 24s 2s/step - det_loss: 0.1868 - cls_loss: 0.1234 - box_loss: 0.0013 - reg_l2_loss: 0.1076 - loss: 0.2945 - learning_rate: 0.0050 - gradient_norm: 0.8400 - val_det_loss: 0.1737 - val_cls_loss: 0.1212 - val_box_loss: 0.0011 - val_reg_l2_loss: 0.1076 - val_loss: 0.2813\n",
      "Epoch 46/90\n",
      "15/15 [==============================] - 23s 2s/step - det_loss: 0.1961 - cls_loss: 0.1286 - box_loss: 0.0014 - reg_l2_loss: 0.1076 - loss: 0.3037 - learning_rate: 0.0048 - gradient_norm: 1.0093 - val_det_loss: 0.1725 - val_cls_loss: 0.1206 - val_box_loss: 0.0010 - val_reg_l2_loss: 0.1076 - val_loss: 0.2801\n",
      "Epoch 47/90\n",
      "15/15 [==============================] - 22s 1s/step - det_loss: 0.2040 - cls_loss: 0.1324 - box_loss: 0.0014 - reg_l2_loss: 0.1076 - loss: 0.3116 - learning_rate: 0.0046 - gradient_norm: 1.0272 - val_det_loss: 0.1715 - val_cls_loss: 0.1202 - val_box_loss: 0.0010 - val_reg_l2_loss: 0.1076 - val_loss: 0.2791\n",
      "Epoch 48/90\n",
      "15/15 [==============================] - 25s 2s/step - det_loss: 0.1907 - cls_loss: 0.1273 - box_loss: 0.0013 - reg_l2_loss: 0.1076 - loss: 0.2983 - learning_rate: 0.0045 - gradient_norm: 0.9192 - val_det_loss: 0.1745 - val_cls_loss: 0.1208 - val_box_loss: 0.0011 - val_reg_l2_loss: 0.1076 - val_loss: 0.2821\n",
      "Epoch 49/90\n",
      "15/15 [==============================] - 22s 1s/step - det_loss: 0.1892 - cls_loss: 0.1227 - box_loss: 0.0013 - reg_l2_loss: 0.1076 - loss: 0.2968 - learning_rate: 0.0043 - gradient_norm: 0.9702 - val_det_loss: 0.1732 - val_cls_loss: 0.1198 - val_box_loss: 0.0011 - val_reg_l2_loss: 0.1076 - val_loss: 0.2808\n",
      "Epoch 50/90\n",
      "15/15 [==============================] - 24s 2s/step - det_loss: 0.2016 - cls_loss: 0.1285 - box_loss: 0.0015 - reg_l2_loss: 0.1076 - loss: 0.3092 - learning_rate: 0.0041 - gradient_norm: 1.1819 - val_det_loss: 0.1715 - val_cls_loss: 0.1197 - val_box_loss: 0.0010 - val_reg_l2_loss: 0.1076 - val_loss: 0.2791\n",
      "Epoch 51/90\n"
     ]
    },
    {
     "name": "stdout",
     "output_type": "stream",
     "text": [
      "15/15 [==============================] - 22s 1s/step - det_loss: 0.1908 - cls_loss: 0.1226 - box_loss: 0.0014 - reg_l2_loss: 0.1076 - loss: 0.2984 - learning_rate: 0.0039 - gradient_norm: 0.8829 - val_det_loss: 0.1662 - val_cls_loss: 0.1181 - val_box_loss: 9.6222e-04 - val_reg_l2_loss: 0.1076 - val_loss: 0.2738\n",
      "Epoch 52/90\n",
      "15/15 [==============================] - 22s 1s/step - det_loss: 0.1843 - cls_loss: 0.1223 - box_loss: 0.0012 - reg_l2_loss: 0.1076 - loss: 0.2919 - learning_rate: 0.0038 - gradient_norm: 0.8570 - val_det_loss: 0.1689 - val_cls_loss: 0.1196 - val_box_loss: 9.8617e-04 - val_reg_l2_loss: 0.1076 - val_loss: 0.2765\n",
      "Epoch 53/90\n",
      "15/15 [==============================] - 22s 1s/step - det_loss: 0.1878 - cls_loss: 0.1203 - box_loss: 0.0013 - reg_l2_loss: 0.1076 - loss: 0.2954 - learning_rate: 0.0036 - gradient_norm: 0.9353 - val_det_loss: 0.1679 - val_cls_loss: 0.1184 - val_box_loss: 9.9103e-04 - val_reg_l2_loss: 0.1076 - val_loss: 0.2755\n",
      "Epoch 54/90\n",
      "15/15 [==============================] - 22s 1s/step - det_loss: 0.1842 - cls_loss: 0.1229 - box_loss: 0.0012 - reg_l2_loss: 0.1076 - loss: 0.2918 - learning_rate: 0.0034 - gradient_norm: 0.9468 - val_det_loss: 0.1689 - val_cls_loss: 0.1184 - val_box_loss: 0.0010 - val_reg_l2_loss: 0.1076 - val_loss: 0.2764\n",
      "Epoch 55/90\n",
      "15/15 [==============================] - 24s 2s/step - det_loss: 0.1808 - cls_loss: 0.1195 - box_loss: 0.0012 - reg_l2_loss: 0.1076 - loss: 0.2884 - learning_rate: 0.0033 - gradient_norm: 0.9578 - val_det_loss: 0.1707 - val_cls_loss: 0.1189 - val_box_loss: 0.0010 - val_reg_l2_loss: 0.1076 - val_loss: 0.2782\n",
      "Epoch 56/90\n",
      "15/15 [==============================] - 24s 2s/step - det_loss: 0.1883 - cls_loss: 0.1236 - box_loss: 0.0013 - reg_l2_loss: 0.1076 - loss: 0.2959 - learning_rate: 0.0031 - gradient_norm: 0.9524 - val_det_loss: 0.1688 - val_cls_loss: 0.1188 - val_box_loss: 9.9997e-04 - val_reg_l2_loss: 0.1076 - val_loss: 0.2764\n",
      "Epoch 57/90\n",
      "15/15 [==============================] - 22s 1s/step - det_loss: 0.1818 - cls_loss: 0.1208 - box_loss: 0.0012 - reg_l2_loss: 0.1076 - loss: 0.2894 - learning_rate: 0.0029 - gradient_norm: 0.9061 - val_det_loss: 0.1671 - val_cls_loss: 0.1186 - val_box_loss: 9.7088e-04 - val_reg_l2_loss: 0.1076 - val_loss: 0.2747\n",
      "Epoch 58/90\n",
      "15/15 [==============================] - 22s 1s/step - det_loss: 0.1891 - cls_loss: 0.1229 - box_loss: 0.0013 - reg_l2_loss: 0.1076 - loss: 0.2967 - learning_rate: 0.0028 - gradient_norm: 0.9935 - val_det_loss: 0.1673 - val_cls_loss: 0.1190 - val_box_loss: 9.6691e-04 - val_reg_l2_loss: 0.1076 - val_loss: 0.2749\n",
      "Epoch 59/90\n",
      "15/15 [==============================] - 22s 1s/step - det_loss: 0.1956 - cls_loss: 0.1274 - box_loss: 0.0014 - reg_l2_loss: 0.1076 - loss: 0.3032 - learning_rate: 0.0026 - gradient_norm: 1.0269 - val_det_loss: 0.1675 - val_cls_loss: 0.1187 - val_box_loss: 9.7518e-04 - val_reg_l2_loss: 0.1076 - val_loss: 0.2751\n",
      "Epoch 60/90\n",
      "15/15 [==============================] - 23s 2s/step - det_loss: 0.1897 - cls_loss: 0.1248 - box_loss: 0.0013 - reg_l2_loss: 0.1076 - loss: 0.2973 - learning_rate: 0.0025 - gradient_norm: 0.9539 - val_det_loss: 0.1649 - val_cls_loss: 0.1173 - val_box_loss: 9.5062e-04 - val_reg_l2_loss: 0.1076 - val_loss: 0.2724\n",
      "Epoch 61/90\n",
      "15/15 [==============================] - 22s 1s/step - det_loss: 0.1833 - cls_loss: 0.1200 - box_loss: 0.0013 - reg_l2_loss: 0.1076 - loss: 0.2909 - learning_rate: 0.0023 - gradient_norm: 0.8859 - val_det_loss: 0.1665 - val_cls_loss: 0.1182 - val_box_loss: 9.6591e-04 - val_reg_l2_loss: 0.1076 - val_loss: 0.2740\n",
      "Epoch 62/90\n",
      "15/15 [==============================] - 22s 1s/step - det_loss: 0.1952 - cls_loss: 0.1274 - box_loss: 0.0014 - reg_l2_loss: 0.1076 - loss: 0.3028 - learning_rate: 0.0022 - gradient_norm: 1.0720 - val_det_loss: 0.1662 - val_cls_loss: 0.1178 - val_box_loss: 9.6786e-04 - val_reg_l2_loss: 0.1076 - val_loss: 0.2737\n",
      "Epoch 63/90\n",
      "15/15 [==============================] - 22s 1s/step - det_loss: 0.1813 - cls_loss: 0.1195 - box_loss: 0.0012 - reg_l2_loss: 0.1076 - loss: 0.2889 - learning_rate: 0.0020 - gradient_norm: 0.9649 - val_det_loss: 0.1682 - val_cls_loss: 0.1183 - val_box_loss: 9.9807e-04 - val_reg_l2_loss: 0.1076 - val_loss: 0.2757\n",
      "Epoch 64/90\n",
      "15/15 [==============================] - 22s 1s/step - det_loss: 0.1813 - cls_loss: 0.1184 - box_loss: 0.0013 - reg_l2_loss: 0.1076 - loss: 0.2888 - learning_rate: 0.0019 - gradient_norm: 0.9606 - val_det_loss: 0.1673 - val_cls_loss: 0.1178 - val_box_loss: 9.8905e-04 - val_reg_l2_loss: 0.1076 - val_loss: 0.2748\n",
      "Epoch 65/90\n",
      "15/15 [==============================] - 23s 2s/step - det_loss: 0.1915 - cls_loss: 0.1252 - box_loss: 0.0013 - reg_l2_loss: 0.1076 - loss: 0.2990 - learning_rate: 0.0018 - gradient_norm: 0.9713 - val_det_loss: 0.1677 - val_cls_loss: 0.1182 - val_box_loss: 9.8887e-04 - val_reg_l2_loss: 0.1076 - val_loss: 0.2752\n",
      "Epoch 66/90\n",
      "15/15 [==============================] - 24s 2s/step - det_loss: 0.1915 - cls_loss: 0.1211 - box_loss: 0.0014 - reg_l2_loss: 0.1076 - loss: 0.2990 - learning_rate: 0.0016 - gradient_norm: 0.9872 - val_det_loss: 0.1668 - val_cls_loss: 0.1179 - val_box_loss: 9.7840e-04 - val_reg_l2_loss: 0.1076 - val_loss: 0.2744\n",
      "Epoch 67/90\n",
      "15/15 [==============================] - 22s 1s/step - det_loss: 0.1908 - cls_loss: 0.1266 - box_loss: 0.0013 - reg_l2_loss: 0.1076 - loss: 0.2983 - learning_rate: 0.0015 - gradient_norm: 1.1026 - val_det_loss: 0.1677 - val_cls_loss: 0.1187 - val_box_loss: 9.7999e-04 - val_reg_l2_loss: 0.1075 - val_loss: 0.2752\n",
      "Epoch 68/90\n",
      "15/15 [==============================] - 22s 1s/step - det_loss: 0.1746 - cls_loss: 0.1193 - box_loss: 0.0011 - reg_l2_loss: 0.1075 - loss: 0.2822 - learning_rate: 0.0014 - gradient_norm: 0.9125 - val_det_loss: 0.1665 - val_cls_loss: 0.1177 - val_box_loss: 9.7592e-04 - val_reg_l2_loss: 0.1075 - val_loss: 0.2740\n",
      "Epoch 69/90\n",
      "15/15 [==============================] - 22s 1s/step - det_loss: 0.2012 - cls_loss: 0.1254 - box_loss: 0.0015 - reg_l2_loss: 0.1075 - loss: 0.3087 - learning_rate: 0.0013 - gradient_norm: 1.1262 - val_det_loss: 0.1678 - val_cls_loss: 0.1184 - val_box_loss: 9.8795e-04 - val_reg_l2_loss: 0.1075 - val_loss: 0.2753\n",
      "Epoch 70/90\n",
      "15/15 [==============================] - 23s 2s/step - det_loss: 0.1754 - cls_loss: 0.1164 - box_loss: 0.0012 - reg_l2_loss: 0.1075 - loss: 0.2830 - learning_rate: 0.0011 - gradient_norm: 0.8657 - val_det_loss: 0.1670 - val_cls_loss: 0.1183 - val_box_loss: 9.7460e-04 - val_reg_l2_loss: 0.1075 - val_loss: 0.2746\n",
      "Epoch 71/90\n",
      "15/15 [==============================] - 22s 1s/step - det_loss: 0.1829 - cls_loss: 0.1208 - box_loss: 0.0012 - reg_l2_loss: 0.1075 - loss: 0.2904 - learning_rate: 0.0010 - gradient_norm: 0.9225 - val_det_loss: 0.1666 - val_cls_loss: 0.1179 - val_box_loss: 9.7539e-04 - val_reg_l2_loss: 0.1075 - val_loss: 0.2742\n",
      "Epoch 72/90\n",
      "15/15 [==============================] - 22s 1s/step - det_loss: 0.1878 - cls_loss: 0.1227 - box_loss: 0.0013 - reg_l2_loss: 0.1075 - loss: 0.2953 - learning_rate: 9.2468e-04 - gradient_norm: 0.9813 - val_det_loss: 0.1661 - val_cls_loss: 0.1178 - val_box_loss: 9.6557e-04 - val_reg_l2_loss: 0.1075 - val_loss: 0.2737\n",
      "Epoch 73/90\n",
      "15/15 [==============================] - 23s 2s/step - det_loss: 0.1906 - cls_loss: 0.1229 - box_loss: 0.0014 - reg_l2_loss: 0.1075 - loss: 0.2981 - learning_rate: 8.2500e-04 - gradient_norm: 1.0369 - val_det_loss: 0.1656 - val_cls_loss: 0.1173 - val_box_loss: 9.6715e-04 - val_reg_l2_loss: 0.1075 - val_loss: 0.2732\n",
      "Epoch 74/90\n",
      "15/15 [==============================] - 25s 2s/step - det_loss: 0.1848 - cls_loss: 0.1193 - box_loss: 0.0013 - reg_l2_loss: 0.1075 - loss: 0.2924 - learning_rate: 7.3052e-04 - gradient_norm: 0.9386 - val_det_loss: 0.1652 - val_cls_loss: 0.1172 - val_box_loss: 9.6066e-04 - val_reg_l2_loss: 0.1075 - val_loss: 0.2728\n",
      "Epoch 75/90\n",
      "15/15 [==============================] - 24s 2s/step - det_loss: 0.1845 - cls_loss: 0.1225 - box_loss: 0.0012 - reg_l2_loss: 0.1075 - loss: 0.2921 - learning_rate: 6.4136e-04 - gradient_norm: 0.9160 - val_det_loss: 0.1655 - val_cls_loss: 0.1172 - val_box_loss: 9.6628e-04 - val_reg_l2_loss: 0.1075 - val_loss: 0.2730\n",
      "Epoch 76/90\n"
     ]
    },
    {
     "name": "stdout",
     "output_type": "stream",
     "text": [
      "15/15 [==============================] - 23s 2s/step - det_loss: 0.1862 - cls_loss: 0.1197 - box_loss: 0.0013 - reg_l2_loss: 0.1075 - loss: 0.2938 - learning_rate: 5.5764e-04 - gradient_norm: 0.9128 - val_det_loss: 0.1655 - val_cls_loss: 0.1171 - val_box_loss: 9.6892e-04 - val_reg_l2_loss: 0.1075 - val_loss: 0.2731\n",
      "Epoch 77/90\n",
      "15/15 [==============================] - 23s 2s/step - det_loss: 0.1921 - cls_loss: 0.1229 - box_loss: 0.0014 - reg_l2_loss: 0.1075 - loss: 0.2996 - learning_rate: 4.7944e-04 - gradient_norm: 0.9146 - val_det_loss: 0.1650 - val_cls_loss: 0.1171 - val_box_loss: 9.5946e-04 - val_reg_l2_loss: 0.1075 - val_loss: 0.2726\n",
      "Epoch 78/90\n",
      "15/15 [==============================] - 22s 2s/step - det_loss: 0.1736 - cls_loss: 0.1172 - box_loss: 0.0011 - reg_l2_loss: 0.1075 - loss: 0.2811 - learning_rate: 4.0688e-04 - gradient_norm: 0.9050 - val_det_loss: 0.1646 - val_cls_loss: 0.1169 - val_box_loss: 9.5444e-04 - val_reg_l2_loss: 0.1075 - val_loss: 0.2722\n",
      "Epoch 79/90\n",
      "15/15 [==============================] - 22s 2s/step - det_loss: 0.1793 - cls_loss: 0.1186 - box_loss: 0.0012 - reg_l2_loss: 0.1075 - loss: 0.2868 - learning_rate: 3.4005e-04 - gradient_norm: 0.9540 - val_det_loss: 0.1649 - val_cls_loss: 0.1169 - val_box_loss: 9.6033e-04 - val_reg_l2_loss: 0.1075 - val_loss: 0.2725\n",
      "Epoch 80/90\n",
      "15/15 [==============================] - 24s 2s/step - det_loss: 0.1906 - cls_loss: 0.1195 - box_loss: 0.0014 - reg_l2_loss: 0.1075 - loss: 0.2981 - learning_rate: 2.7901e-04 - gradient_norm: 0.9596 - val_det_loss: 0.1649 - val_cls_loss: 0.1168 - val_box_loss: 9.6075e-04 - val_reg_l2_loss: 0.1075 - val_loss: 0.2724\n",
      "Epoch 81/90\n",
      "15/15 [==============================] - 22s 1s/step - det_loss: 0.1810 - cls_loss: 0.1191 - box_loss: 0.0012 - reg_l2_loss: 0.1075 - loss: 0.2885 - learning_rate: 2.2386e-04 - gradient_norm: 0.9050 - val_det_loss: 0.1645 - val_cls_loss: 0.1166 - val_box_loss: 9.5771e-04 - val_reg_l2_loss: 0.1075 - val_loss: 0.2720\n",
      "Epoch 82/90\n",
      "15/15 [==============================] - 23s 2s/step - det_loss: 0.1739 - cls_loss: 0.1142 - box_loss: 0.0012 - reg_l2_loss: 0.1075 - loss: 0.2814 - learning_rate: 1.7466e-04 - gradient_norm: 0.8262 - val_det_loss: 0.1644 - val_cls_loss: 0.1166 - val_box_loss: 9.5659e-04 - val_reg_l2_loss: 0.1075 - val_loss: 0.2720\n",
      "Epoch 83/90\n",
      "15/15 [==============================] - 22s 2s/step - det_loss: 0.1833 - cls_loss: 0.1198 - box_loss: 0.0013 - reg_l2_loss: 0.1075 - loss: 0.2909 - learning_rate: 1.3147e-04 - gradient_norm: 0.8894 - val_det_loss: 0.1643 - val_cls_loss: 0.1165 - val_box_loss: 9.5519e-04 - val_reg_l2_loss: 0.1075 - val_loss: 0.2718\n",
      "Epoch 84/90\n",
      "15/15 [==============================] - 25s 2s/step - det_loss: 0.1814 - cls_loss: 0.1192 - box_loss: 0.0012 - reg_l2_loss: 0.1075 - loss: 0.2889 - learning_rate: 9.4352e-05 - gradient_norm: 0.9481 - val_det_loss: 0.1643 - val_cls_loss: 0.1165 - val_box_loss: 9.5546e-04 - val_reg_l2_loss: 0.1075 - val_loss: 0.2718\n",
      "Epoch 85/90\n",
      "15/15 [==============================] - 23s 2s/step - det_loss: 0.1850 - cls_loss: 0.1216 - box_loss: 0.0013 - reg_l2_loss: 0.1075 - loss: 0.2925 - learning_rate: 6.3341e-05 - gradient_norm: 1.0028 - val_det_loss: 0.1644 - val_cls_loss: 0.1165 - val_box_loss: 9.5689e-04 - val_reg_l2_loss: 0.1075 - val_loss: 0.2719\n",
      "Epoch 86/90\n",
      "15/15 [==============================] - 22s 1s/step - det_loss: 0.1870 - cls_loss: 0.1205 - box_loss: 0.0013 - reg_l2_loss: 0.1075 - loss: 0.2946 - learning_rate: 3.8481e-05 - gradient_norm: 1.0992 - val_det_loss: 0.1643 - val_cls_loss: 0.1165 - val_box_loss: 9.5663e-04 - val_reg_l2_loss: 0.1075 - val_loss: 0.2719\n",
      "Epoch 87/90\n",
      "15/15 [==============================] - 22s 1s/step - det_loss: 0.1722 - cls_loss: 0.1156 - box_loss: 0.0011 - reg_l2_loss: 0.1075 - loss: 0.2798 - learning_rate: 1.9802e-05 - gradient_norm: 0.8390 - val_det_loss: 0.1643 - val_cls_loss: 0.1165 - val_box_loss: 9.5632e-04 - val_reg_l2_loss: 0.1075 - val_loss: 0.2718\n",
      "Epoch 88/90\n",
      "15/15 [==============================] - 23s 2s/step - det_loss: 0.1866 - cls_loss: 0.1196 - box_loss: 0.0013 - reg_l2_loss: 0.1075 - loss: 0.2942 - learning_rate: 7.3277e-06 - gradient_norm: 0.9359 - val_det_loss: 0.1642 - val_cls_loss: 0.1164 - val_box_loss: 9.5565e-04 - val_reg_l2_loss: 0.1075 - val_loss: 0.2718\n",
      "Epoch 89/90\n",
      "15/15 [==============================] - 22s 1s/step - det_loss: 0.1863 - cls_loss: 0.1228 - box_loss: 0.0013 - reg_l2_loss: 0.1075 - loss: 0.2938 - learning_rate: 1.0737e-06 - gradient_norm: 0.9410 - val_det_loss: 0.1643 - val_cls_loss: 0.1165 - val_box_loss: 9.5723e-04 - val_reg_l2_loss: 0.1075 - val_loss: 0.2719\n",
      "Epoch 90/90\n",
      "15/15 [==============================] - 24s 2s/step - det_loss: 0.1774 - cls_loss: 0.1188 - box_loss: 0.0012 - reg_l2_loss: 0.1075 - loss: 0.2849 - learning_rate: 1.0478e-06 - gradient_norm: 0.8920 - val_det_loss: 0.1644 - val_cls_loss: 0.1165 - val_box_loss: 9.5800e-04 - val_reg_l2_loss: 0.1075 - val_loss: 0.2719\n"
     ]
    }
   ],
   "source": [
    "model_num = 4\n",
    "model_name = f'efficientdet_lite{model_num}'\n",
    "\n",
    "epochs = 90\n",
    "\n",
    "## First train the smallest model\n",
    "spec = model_spec.get(model_name)\n",
    "spec.config.model_dir = model_name\n",
    "\n",
    "model = object_detector.create(train_data, \n",
    "                               model_spec=spec, \n",
    "                               batch_size=8,\n",
    "                               epochs=epochs,\n",
    "                               train_whole_model=True, \n",
    "                               validation_data=validation_data)"
   ]
  },
  {
   "cell_type": "code",
   "execution_count": 40,
   "metadata": {},
   "outputs": [],
   "source": [
    "%%capture cap --no-stderr\n",
    "model.evaluate(test_data)"
   ]
  },
  {
   "cell_type": "code",
   "execution_count": 41,
   "metadata": {},
   "outputs": [
    {
     "name": "stdout",
     "output_type": "stream",
     "text": [
      "\r",
      "1/1 [==============================] - 7s 7s/step\n",
      "\n"
     ]
    },
    {
     "data": {
      "text/plain": [
       "{'AP': 0.57953405,\n",
       " 'AP50': 0.85734445,\n",
       " 'AP75': 0.6351488,\n",
       " 'APs': 0.48923826,\n",
       " 'APm': 0.7688668,\n",
       " 'APl': 0.7227164,\n",
       " 'ARmax1': 0.022064056,\n",
       " 'ARmax10': 0.21316727,\n",
       " 'ARmax100': 0.65355873,\n",
       " 'ARs': 0.5618037,\n",
       " 'ARm': 0.8350877,\n",
       " 'ARl': 0.9,\n",
       " 'AP_/label': -1.0,\n",
       " 'AP_/climbing_hold': 0.57953405}"
      ]
     },
     "metadata": {},
     "output_type": "display_data"
    }
   ],
   "source": [
    "with open(f'evaluation_EfficientDet{model_num}_preLite.txt', 'w') as f:\n",
    "    f.write(\"\\n\".join(str(cap.outputs[0].data).split('\\\\n')))\n",
    "    \n",
    "cap()"
   ]
  },
  {
   "cell_type": "code",
   "execution_count": 42,
   "metadata": {},
   "outputs": [
    {
     "name": "stderr",
     "output_type": "stream",
     "text": [
      "2022-08-04 17:45:17.712138: W tensorflow/core/common_runtime/graph_constructor.cc:803] Node 'resample_p7/PartitionedCall' has 1 outputs but the _output_shapes attribute specifies shapes for 3 outputs. Output shapes may be inaccurate.\n",
      "2022-08-04 17:45:36.152348: W tensorflow/compiler/mlir/lite/python/tf_tfl_flatbuffer_helpers.cc:357] Ignored output_format.\n",
      "2022-08-04 17:45:36.152416: W tensorflow/compiler/mlir/lite/python/tf_tfl_flatbuffer_helpers.cc:360] Ignored drop_control_dependency.\n",
      "2022-08-04 17:45:36.152798: I tensorflow/cc/saved_model/reader.cc:43] Reading SavedModel from: /tmp/tmpc6359r0w\n",
      "2022-08-04 17:45:36.387858: I tensorflow/cc/saved_model/reader.cc:78] Reading meta graph with tags { serve }\n",
      "2022-08-04 17:45:36.387918: I tensorflow/cc/saved_model/reader.cc:119] Reading SavedModel debug info (if present) from: /tmp/tmpc6359r0w\n",
      "2022-08-04 17:45:37.169449: I tensorflow/cc/saved_model/loader.cc:228] Restoring SavedModel bundle.\n",
      "2022-08-04 17:45:41.816989: I tensorflow/cc/saved_model/loader.cc:212] Running initialization op on SavedModel bundle at path: /tmp/tmpc6359r0w\n",
      "2022-08-04 17:45:43.648163: I tensorflow/cc/saved_model/loader.cc:301] SavedModel load for tags { serve }; Status: success: OK. Took 7495367 microseconds.\n",
      "2022-08-04 17:45:51.019371: I tensorflow/compiler/mlir/lite/flatbuffer_export.cc:1963] Estimated count of arithmetic ops: 37.576 G  ops, equivalently 18.788 G  MACs\n",
      "\n",
      "fully_quantize: 0, inference_type: 6, input_inference_type: 3, output_inference_type: 0\n",
      "2022-08-04 17:52:22.282024: I tensorflow/compiler/mlir/lite/flatbuffer_export.cc:1963] Estimated count of arithmetic ops: 37.576 G  ops, equivalently 18.788 G  MACs\n",
      "\n"
     ]
    }
   ],
   "source": [
    "model.export(export_dir='.', tflite_filename=f'model{model_num}.tflite')"
   ]
  },
  {
   "cell_type": "code",
   "execution_count": 43,
   "metadata": {},
   "outputs": [],
   "source": [
    "%%capture cap --no-stderr\n",
    "model.evaluate_tflite(f'model{model_num}.tflite', test_data)"
   ]
  },
  {
   "cell_type": "code",
   "execution_count": 44,
   "metadata": {},
   "outputs": [
    {
     "name": "stdout",
     "output_type": "stream",
     "text": [
      "\r",
      " 1/15 [=>............................] - ETA: 11:37\b\b\b\b\b\b\b\b\b\b\b\b\b\b\b\b\b\b\b\b\b\b\b\b\b\b\b\b\b\b\b\b\b\b\b\b\b\b\b\b\b\b\b\b\b\b\b\b\b\b\b\r",
      " 2/15 [===>..........................] - ETA: 10:26\b\b\b\b\b\b\b\b\b\b\b\b\b\b\b\b\b\b\b\b\b\b\b\b\b\b\b\b\b\b\b\b\b\b\b\b\b\b\b\b\b\b\b\b\b\b\b\b\b\b\b\r",
      " 3/15 [=====>........................] - ETA: 9:30 \b\b\b\b\b\b\b\b\b\b\b\b\b\b\b\b\b\b\b\b\b\b\b\b\b\b\b\b\b\b\b\b\b\b\b\b\b\b\b\b\b\b\b\b\b\b\b\b\b\b\r",
      " 4/15 [=======>......................] - ETA: 8:44\b\b\b\b\b\b\b\b\b\b\b\b\b\b\b\b\b\b\b\b\b\b\b\b\b\b\b\b\b\b\b\b\b\b\b\b\b\b\b\b\b\b\b\b\b\b\b\b\b\b\r",
      " 5/15 [=========>....................] - ETA: 7:57\b\b\b\b\b\b\b\b\b\b\b\b\b\b\b\b\b\b\b\b\b\b\b\b\b\b\b\b\b\b\b\b\b\b\b\b\b\b\b\b\b\b\b\b\b\b\b\b\b\b\r",
      " 6/15 [===========>..................] - ETA: 7:10\b\b\b\b\b\b\b\b\b\b\b\b\b\b\b\b\b\b\b\b\b\b\b\b\b\b\b\b\b\b\b\b\b\b\b\b\b\b\b\b\b\b\b\b\b\b\b\b\b\b\r",
      " 7/15 [=============>................] - ETA: 6:22\b\b\b\b\b\b\b\b\b\b\b\b\b\b\b\b\b\b\b\b\b\b\b\b\b\b\b\b\b\b\b\b\b\b\b\b\b\b\b\b\b\b\b\b\b\b\b\b\b\b\r",
      " 8/15 [===============>..............] - ETA: 5:34\b\b\b\b\b\b\b\b\b\b\b\b\b\b\b\b\b\b\b\b\b\b\b\b\b\b\b\b\b\b\b\b\b\b\b\b\b\b\b\b\b\b\b\b\b\b\b\b\b\b\r",
      " 9/15 [=================>............] - ETA: 4:47\b\b\b\b\b\b\b\b\b\b\b\b\b\b\b\b\b\b\b\b\b\b\b\b\b\b\b\b\b\b\b\b\b\b\b\b\b\b\b\b\b\b\b\b\b\b\b\b\b\b\r",
      "10/15 [===================>..........] - ETA: 3:59\b\b\b\b\b\b\b\b\b\b\b\b\b\b\b\b\b\b\b\b\b\b\b\b\b\b\b\b\b\b\b\b\b\b\b\b\b\b\b\b\b\b\b\b\b\b\b\b\b\b\r",
      "11/15 [=====================>........] - ETA: 3:11\b\b\b\b\b\b\b\b\b\b\b\b\b\b\b\b\b\b\b\b\b\b\b\b\b\b\b\b\b\b\b\b\b\b\b\b\b\b\b\b\b\b\b\b\b\b\b\b\b\b\r",
      "12/15 [=======================>......] - ETA: 2:23\b\b\b\b\b\b\b\b\b\b\b\b\b\b\b\b\b\b\b\b\b\b\b\b\b\b\b\b\b\b\b\b\b\b\b\b\b\b\b\b\b\b\b\b\b\b\b\b\b\b\r",
      "13/15 [=========================>....] - ETA: 1:35\b\b\b\b\b\b\b\b\b\b\b\b\b\b\b\b\b\b\b\b\b\b\b\b\b\b\b\b\b\b\b\b\b\b\b\b\b\b\b\b\b\b\b\b\b\b\b\b\b\b\r",
      "14/15 [===========================>..] - ETA: 47s \b\b\b\b\b\b\b\b\b\b\b\b\b\b\b\b\b\b\b\b\b\b\b\b\b\b\b\b\b\b\b\b\b\b\b\b\b\b\b\b\b\b\b\b\b\b\b\b\b\r",
      "15/15 [==============================] - 718s 48s/step\n",
      "\n"
     ]
    },
    {
     "data": {
      "text/plain": [
       "{'AP': 0.39057598,\n",
       " 'AP50': 0.5221556,\n",
       " 'AP75': 0.45490608,\n",
       " 'APs': 0.24765071,\n",
       " 'APm': 0.6898592,\n",
       " 'APl': 0.6401355,\n",
       " 'ARmax1': 0.021352313,\n",
       " 'ARmax10': 0.2119217,\n",
       " 'ARmax100': 0.4163701,\n",
       " 'ARs': 0.2607427,\n",
       " 'ARm': 0.7245614,\n",
       " 'ARl': 0.7866667,\n",
       " 'AP_/label': -1.0,\n",
       " 'AP_/climbing_hold': 0.39057598}"
      ]
     },
     "metadata": {},
     "output_type": "display_data"
    }
   ],
   "source": [
    "with open(f'evaluation_EfficientDet-Lite{model_num}.txt', 'w') as f:\n",
    "    f.write(\"\\n\".join(str(cap.outputs[0].data).split('\\\\n')))\n",
    "    \n",
    "cap()"
   ]
  },
  {
   "cell_type": "code",
   "execution_count": null,
   "metadata": {},
   "outputs": [],
   "source": []
  }
 ],
 "metadata": {
  "accelerator": "GPU",
  "colab": {
   "collapsed_sections": [],
   "name": "Model Maker Object Detection Tutorial",
   "provenance": [
    {
     "file_id": "1dbRXQCjtm-jBFC32DJ6YCVXnXBOG3M5t",
     "timestamp": 1613441434239
    },
    {
     "file_id": "https://github.com/tensorflow/tensorflow/blob/master/tensorflow/lite/g3doc/models/modify/model_maker/text_classification.ipynb",
     "timestamp": 1612303859066
    }
   ],
   "toc_visible": true
  },
  "kernelspec": {
   "display_name": "Python 3 (ipykernel)",
   "language": "python",
   "name": "python3"
  },
  "language_info": {
   "codemirror_mode": {
    "name": "ipython",
    "version": 3
   },
   "file_extension": ".py",
   "mimetype": "text/x-python",
   "name": "python",
   "nbconvert_exporter": "python",
   "pygments_lexer": "ipython3",
   "version": "3.9.12"
  }
 },
 "nbformat": 4,
 "nbformat_minor": 1
}
